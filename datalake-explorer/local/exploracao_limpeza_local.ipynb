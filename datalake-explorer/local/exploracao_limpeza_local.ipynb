{
 "cells": [
  {
   "cell_type": "markdown",
   "source": [
    "# **Exploração de dados com Apache Spark**"
   ],
   "metadata": {}
  },
  {
   "cell_type": "markdown",
   "source": [
    "## **Importação da configuração inicial e bibliotecas**"
   ],
   "metadata": {}
  },
  {
   "cell_type": "code",
   "execution_count": null,
   "source": [
    "import pandas as pd\n",
    "import findspark\n",
    "findspark.init('/home/user/Desktop/Tcc/spark-test/spark')\n",
    "\n",
    "from pyspark import SparkContext, SparkConf\n",
    "from pyspark.sql import SparkSession\n",
    "import pyspark.sql.functions \n",
    "from pyspark.sql.functions import lit"
   ],
   "outputs": [],
   "metadata": {
    "execution": {
     "iopub.execute_input": "2021-11-15T00:41:56.464127Z",
     "iopub.status.busy": "2021-11-15T00:41:56.463182Z",
     "iopub.status.idle": "2021-11-15T00:41:56.479464Z",
     "shell.execute_reply": "2021-11-15T00:41:56.476847Z",
     "shell.execute_reply.started": "2021-11-15T00:41:56.464027Z"
    },
    "tags": []
   }
  },
  {
   "cell_type": "code",
   "execution_count": null,
   "source": [
    "class SettingsSpark:\n",
    "    \n",
    "    def __init__(self):\n",
    "        self.__init_conf__()\n",
    "        self.sc = self.builder_conf().sparkContext\n",
    "        self.log_level(\"OFF\")\n",
    "        \n",
    "    \n",
    "    def __init_conf__(self):\n",
    "        conf = ( \n",
    "            SparkConf().setAppName(\"spark\")\n",
    "        )\n",
    "        return conf\n",
    "    \n",
    "    def builder_conf(self):\n",
    "        return SparkSession.builder.config(conf=self.__init_conf__()).getOrCreate()\n",
    "    \n",
    "    def init_minio(self, acess_key=None, secret_key=None, endpoint=None):\n",
    "        self.acess_key = acess_key or \"admin\"\n",
    "        self.secret_key = secret_key or \"e7bc4dc8-3abf-4187-bcc8-5a4bc8dc32e1\"\n",
    "        self.endpoint = endpoint or \"https://api.minio.magaiver.dev\"\n",
    "        \n",
    "  \n",
    "        \n",
    "        self.sc._jsc.hadoopConfiguration().set(\"fs.s3a.access.key\", self.acess_key)\n",
    "        self.sc._jsc.hadoopConfiguration().set(\"fs.s3a.secret.key\", self.secret_key)\n",
    "        self.sc._jsc.hadoopConfiguration().set(\"fs.s3a.endpoint\", self.endpoint)\n",
    "        self.sc._jsc.hadoopConfiguration().set(\"fs.s3a.path.style.access\", \"true\")\n",
    "        self.sc._jsc.hadoopConfiguration().set(\"fs.s3a.fast.upload\", \"true\")\n",
    "        self.sc._jsc.hadoopConfiguration().set(\"fs.s3a.connection.establish.timeout\", \"2000\")\n",
    "        self.sc._jsc.hadoopConfiguration().set(\"fs.s3a.connection.timeout\", \"2000\")\n",
    "        self.sc._jsc.hadoopConfiguration().set(\"fs.s3a.attempts.maximum\", \"2\")\n",
    "        self.sc._jsc.hadoopConfiguration().set(\"fs.s3a.connection.ssl.enabled\",\"false\")\n",
    "    \n",
    "    def stop(self):\n",
    "        self.sc.stop()\n",
    "    \n",
    "    def log_level(self, level=None):\n",
    "        lev = level or \"OFF\"\n",
    "        self.sc.setLogLevel(lev)"
   ],
   "outputs": [],
   "metadata": {}
  },
  {
   "cell_type": "code",
   "execution_count": null,
   "source": [
    "def drop_columns_matches(dataframe=None, patterns=[]):\n",
    "    df = dataframe.toPandas()\n",
    "    for pattern in patterns:\n",
    "        df = df.loc[:,~df.columns.str.contains(pattern)]\n",
    "    return df"
   ],
   "outputs": [],
   "metadata": {}
  },
  {
   "cell_type": "markdown",
   "source": [
    "## **Configuração spark**"
   ],
   "metadata": {}
  },
  {
   "cell_type": "code",
   "execution_count": null,
   "source": [
    "spark_settings = SettingsSpark()\n",
    "#spark_settings.log_level(\"DEBUG\")\n",
    "spark_settings.init_minio()\n",
    "spark = spark_settings.builder_conf()"
   ],
   "outputs": [],
   "metadata": {
    "tags": []
   }
  },
  {
   "cell_type": "markdown",
   "source": [
    "## **Carregamento dos arquivos para exploração e limpeza**"
   ],
   "metadata": {}
  },
  {
   "cell_type": "code",
   "execution_count": null,
   "source": [
    "NCM = spark.read.csv(\"s3a://bronze/NCM.csv\", sep=';', inferSchema=True, header=True, encoding=\"ISO-8859-1\")\n",
    "NCM_SH = spark.read.csv(\"s3a://bronze/NCM_SH.csv\", sep=';', inferSchema=True, header=True, encoding=\"ISO-8859-1\")\n",
    "NBM_NCM = spark.read.csv(\"s3a://bronze/NBM_NCM.csv\", sep=';', inferSchema=True, header=True, encoding=\"ISO-8859-1\")\n",
    "NCM_UNIDADE = spark.read.csv(\"s3a://bronze/NCM_UNIDADE.csv\", sep=';', inferSchema=True, header=True, encoding=\"ISO-8859-1\")\n",
    "NCM_CGCE = spark.read.csv(\"s3a://bronze/NCM_CGCE.csv\", sep=';', inferSchema=True, header=True, encoding=\"ISO-8859-1\")\n",
    "NCM_CUCI = spark.read.csv(\"s3a://bronze/NCM_CUCI.csv\", sep=';', inferSchema=True, header=True, encoding=\"ISO-8859-1\")\n",
    "NCM_FAT_AGREG = spark.read.csv(\"s3a://bronze/NCM_FAT_AGREG.csv\", sep=';', inferSchema=True, header=True, encoding=\"ISO-8859-1\")\n",
    "NCM_ISIC = spark.read.csv(\"s3a://bronze/NCM_ISIC.csv\", sep=';', inferSchema=True, header=True, encoding=\"ISO-8859-1\")\n",
    "NCM_PPE = spark.read.csv(\"s3a://bronze/NCM_PPE.csv\", sep=';', inferSchema=True, header=True, encoding=\"ISO-8859-1\")\n",
    "NCM_PPI = spark.read.csv(\"s3a://bronze/NCM_PPI.csv\", sep=';', inferSchema=True, header=True, encoding=\"ISO-8859-1\")\n",
    "ISIC_CUCI = spark.read.csv(\"s3a://bronze/ISIC_CUCI.csv\", sep=';', inferSchema=True, header=True, encoding=\"ISO-8859-1\")\n",
    "PAIS_BLOCO = spark.read.csv(\"s3a://bronze/PAIS_BLOCO.csv\", sep=';', inferSchema=True, header=True, encoding=\"ISO-8859-1\")\n",
    "PAIS = spark.read.csv(\"s3a://bronze/PAIS.csv\", sep=';', inferSchema=True, header=True, encoding=\"ISO-8859-1\")\n",
    "UF_MUN = spark.read.csv(\"s3a://bronze/UF_MUN.csv\", sep=';', inferSchema=True, header=True, encoding=\"ISO-8859-1\")\n",
    "UF = spark.read.csv(\"s3a://bronze/UF.csv\", sep=';', inferSchema=True, header=True, encoding=\"ISO-8859-1\")\n",
    "URF = spark.read.csv(\"s3a://bronze/URF.csv\", sep=';', inferSchema=True, header=True, encoding=\"ISO-8859-1\")\n",
    "VIA = spark.read.csv(\"s3a://bronze/VIA.csv\", sep=';', inferSchema=True, header=True, encoding=\"ISO-8859-1\")\n"
   ],
   "outputs": [],
   "metadata": {
    "execution": {
     "iopub.execute_input": "2021-11-14T23:59:26.985340Z",
     "iopub.status.busy": "2021-11-14T23:59:26.983482Z",
     "iopub.status.idle": "2021-11-15T00:01:14.441995Z",
     "shell.execute_reply": "2021-11-15T00:01:14.439463Z",
     "shell.execute_reply.started": "2021-11-14T23:59:26.985229Z"
    },
    "tags": []
   }
  },
  {
   "cell_type": "markdown",
   "source": [
    "## **Visualização dos dados brutos**"
   ],
   "metadata": {
    "tags": []
   }
  },
  {
   "cell_type": "code",
   "execution_count": null,
   "source": [
    "\"\"\"\n",
    "\n",
    "#NCM.printSchema()\n",
    "#NCM.describe().show()\n",
    "print('NCM Dataset')\n",
    "display(NCM.toPandas())\n",
    "\n",
    "#NCM_SH.printSchema()\n",
    "#NCM_SH.describe().show()\n",
    "print('NCM_SH Dataset')\n",
    "display(NCM_SH.toPandas())\n",
    "\n",
    "\n",
    "#NCM_CGCE.printSchema()\n",
    "#NCM_CGCE.describe().show()\n",
    "print('NCM_CGCE Dataset')\n",
    "display(NCM_CGCE.toPandas())#show(truncate=False)\n",
    "\n",
    "#NCM_CUCI.printSchema()\n",
    "#NCM_CUCI.describe().show()\n",
    "print('NCM_CUCI Dataset')\n",
    "display(NCM_CUCI.toPandas())#show(truncate=False)\n",
    "\n",
    "#NCM_ISIC.printSchema()\n",
    "#NCM_ISIC.describe().show()\n",
    "print('NCM_ISIC Dataset')\n",
    "display(NCM_ISIC.toPandas())#show(truncate=False)\n",
    "\n",
    "#NCM_FAT_AGREG.printSchema()\n",
    "#NCM_FAT_AGREG.describe().show()\n",
    "print('NCM_FAT_AGREG Dataset')\n",
    "NCM_FAT_AGREG.show(truncate=False)\n",
    "\n",
    "#NBM_NCM.printSchema()\n",
    "#NBM_NCM.describe().show()\n",
    "print('NCM_NBM Dataset')\n",
    "NBM_NCM.show(truncate=False)\n",
    "\n",
    "#NCM_UNIDADE.printSchema()\n",
    "#NCM_UNIDADE.describe().show()\n",
    "print('NCM_UNIDADE Dataset')\n",
    "NCM_UNIDADE.show(truncate=False)\n",
    "\n",
    "#NCM_PPE.printSchema()\n",
    "#NCM_PPE.describe().show()\n",
    "print('NCM_PPE Dataset')\n",
    "NCM_PPE.show(truncate=False)\n",
    "\n",
    "#NCM_PPI.printSchema()\n",
    "#NCM_PPI.describe().show()\n",
    "print('NCM_PPI Dataset')\n",
    "NCM_PPI.show(truncate=False)\n",
    "\n",
    "#ISIC_CUCI.printSchema()\n",
    "#ISIC_CUCI.describe().show()\n",
    "print('ISIC_CUCI Dataset')\n",
    "ISIC_CUCI.show(truncate=False)\n",
    "\n",
    "print('PAIS_BLOCO Dataset')\n",
    "PAIS_BLOCO.printSchema()\n",
    "PAIS_BLOCO.describe().show()\n",
    "PAIS_BLOCO.show(truncate=False)\n",
    "\n",
    "print('PAIS Dataset')\n",
    "PAIS.printSchema()\n",
    "PAIS.describe().show()\n",
    "PAIS.show(truncate=False)\n",
    "\n",
    "UF_MUN.printSchema()\n",
    "UF_MUN.describe().show()\n",
    "UF_MUN.show(truncate=False)\n",
    "\n",
    "URF.printSchema()\n",
    "URF.describe().show()\n",
    "URF.show(truncate=False)\n",
    "\n",
    "VIA.printSchema()\n",
    "VIA.describe().show()\n",
    "VIA.show(truncate=False)\n",
    "\n",
    "#spark_settings.stop()\n",
    "\"\"\""
   ],
   "outputs": [],
   "metadata": {
    "execution": {
     "iopub.execute_input": "2021-11-14T03:26:47.033538Z",
     "iopub.status.busy": "2021-11-14T03:26:47.032102Z",
     "iopub.status.idle": "2021-11-14T03:27:02.029140Z",
     "shell.execute_reply": "2021-11-14T03:27:02.025556Z",
     "shell.execute_reply.started": "2021-11-14T03:26:47.033444Z"
    },
    "tags": []
   }
  },
  {
   "cell_type": "markdown",
   "source": [
    "## **Normalização**"
   ],
   "metadata": {}
  },
  {
   "cell_type": "markdown",
   "source": [
    "### **Normalização, exclusão de atributos de internacionalização**"
   ],
   "metadata": {}
  },
  {
   "cell_type": "code",
   "execution_count": null,
   "source": [
    "# CO_ANO|CO_MES|  CO_NCM|CO_UNID|CO_PAIS|SG_UF_NCM|CO_VIA| CO_URF|QT_ESTAT|KG_LIQUIDO|VL_FOB|TYPE|\n",
    "\n",
    "print(\"NCM\",NCM.columns)\n",
    "print(\"NCM_CUCI\",NCM_CUCI.columns)\n",
    "print(\"NCM_SH\",NCM_SH.columns)\n",
    "print(\"NCM_CGCE\",NCM_CGCE.columns)\n",
    "print(\"NCM_ISIC\",NCM_ISIC.columns)\n",
    "print(\"NCM_FAT_AGREG\",NCM_FAT_AGREG.columns)\n",
    "print(\"NBM_NCM\",NBM_NCM.columns)\n",
    "print(\"NCM_UNIDADE\",NCM_UNIDADE.columns)\n",
    "print(\"NCM_PPE\",NCM_PPE.columns)\n",
    "print(\"NCM_PPI\",NCM_PPI.columns)\n",
    "print(\"ISIC_CUCI\",ISIC_CUCI.columns)\n",
    "print(\"UF_MUN\",UF_MUN.columns)\n",
    "print(\"URF\",URF.columns)\n",
    "print(\"VIA\",VIA.columns)\n",
    "print(\"PAIS\",PAIS.columns)\n",
    "print(\"PAIS_BLOCO\",PAIS_BLOCO.columns)"
   ],
   "outputs": [],
   "metadata": {
    "execution": {
     "iopub.execute_input": "2021-11-15T00:01:14.449228Z",
     "iopub.status.busy": "2021-11-15T00:01:14.448283Z",
     "iopub.status.idle": "2021-11-15T00:01:14.667299Z",
     "shell.execute_reply": "2021-11-15T00:01:14.660883Z",
     "shell.execute_reply.started": "2021-11-15T00:01:14.449170Z"
    },
    "tags": []
   }
  },
  {
   "cell_type": "code",
   "execution_count": null,
   "source": [
    "NCM = spark.createDataFrame(drop_columns_matches(dataframe=NCM, patterns=[\"_ESP\",\"_ING\"]))\n",
    "NCM.show()\n",
    "\n",
    "NCM_CUCI= spark.createDataFrame(drop_columns_matches(dataframe=NCM_CUCI, patterns=[\"_ESP\",\"_ING\"]))\n",
    "NCM_CUCI.show()\n",
    "\n",
    "NCM_SH= spark.createDataFrame(drop_columns_matches(dataframe=NCM_SH, patterns=[\"_ESP\",\"_ING\"]))\n",
    "NCM_SH.show()\n",
    "\n",
    "NCM_CGCE= spark.createDataFrame(drop_columns_matches(dataframe=NCM_CGCE, patterns=[\"_ESP\",\"_ING\"]))\n",
    "NCM_CGCE.show()\n",
    "\n",
    "NCM_ISIC= spark.createDataFrame(drop_columns_matches(dataframe=NCM_ISIC, patterns=[\"_ESP\",\"_ING\"]))\n",
    "NCM_ISIC.show()\n",
    "\n",
    "NCM_FAT_AGREG= spark.createDataFrame(drop_columns_matches(dataframe=NCM_FAT_AGREG, patterns=[\"_ESP\",\"_ING\"]))\n",
    "NCM_FAT_AGREG.show()\n",
    "\n",
    "NCM_UNIDADE= spark.createDataFrame(drop_columns_matches(dataframe=NCM_UNIDADE, patterns=[\"_ESP\",\"_ING\"]))\n",
    "NCM_UNIDADE.show()\n",
    "\n",
    "NCM_PPE= spark.createDataFrame(drop_columns_matches(dataframe=NCM_PPE, patterns=[\"_ESP\",\"_ING\"]))\n",
    "NCM_PPE.show()\n",
    "\n",
    "NCM_PPI= spark.createDataFrame(drop_columns_matches(dataframe=NCM_PPI, patterns=[\"_ESP\",\"_ING\"]))\n",
    "NCM_PPI.show()\n",
    "\n",
    "ISIC_CUCI= spark.createDataFrame(drop_columns_matches(dataframe=ISIC_CUCI, patterns=[\"_ESP\",\"_ING\"]))\n",
    "ISIC_CUCI.show()\n",
    "\n",
    "UF_MUN= spark.createDataFrame(drop_columns_matches(dataframe=UF_MUN, patterns=[\"_ESP\",\"_ING\"]))\n",
    "UF_MUN.show()\n",
    "\n",
    "URF= spark.createDataFrame(drop_columns_matches(dataframe=URF, patterns=[\"_ESP\",\"_ING\"]))\n",
    "URF.show()\n",
    "\n",
    "VIA= spark.createDataFrame(drop_columns_matches(dataframe=VIA, patterns=[\"_ESP\",\"_ING\"]))\n",
    "VIA.show()\n",
    "\n",
    "PAIS= spark.createDataFrame(drop_columns_matches(dataframe=PAIS, patterns=[\"_ESP\",\"_ING\"]))\n",
    "PAIS.show()\n",
    "\n",
    "PAIS_BLOCO= spark.createDataFrame(drop_columns_matches(dataframe=PAIS_BLOCO, patterns=[\"_ESP\",\"_ING\"]))\n",
    "PAIS_BLOCO.show()\n",
    "\n",
    "\n",
    "#NCM = NCM.drop(NCM.filter(like='ING').columns, axis=1)\n",
    "#NCM = NCM.drop(NCM.filter(like='ESP').columns, axis=1)\n",
    "\n",
    "#NCM_SH.createOrReplaceTempView(\"NCM_SH\")\n",
    "\n",
    "#NCM_SH_PTBR = spark.sql(\"select CO_SH6, NO_SH6_POR as NO_SH6, CO_SH4, NO_SH4_POR as NO_SH4, CO_SH2, NO_SH2_POR as NO_SH2, CO_NCM_SECROM, NO_SEC_POR as NO_SEC FROM NCM_SH \")\n",
    "#NCM_SH_PTBR.show(20, False)\n",
    "\n",
    "#NCM_SH_ESP = NCM_SH[['CO_SH6', 'NO_SH6_ESP', 'CO_SH4', 'NO_SH4_ESP', 'CO_SH2', 'NO_SH2_ESP', 'CO_NCM_SECROM', 'NO_SEC_ESP']]\n",
    "#NCM_SH_ESP.show()\n",
    "\n",
    "#NCM_SH_ING = NCM_SH[['CO_SH6', 'NO_SH6_ING', 'CO_SH4', 'NO_SH4_ING', 'CO_SH2', 'NO_SH2_ING', 'CO_NCM_SECROM', 'NO_SEC_ING']]\n",
    "#NCM_SH_ING.show()\n"
   ],
   "outputs": [],
   "metadata": {
    "execution": {
     "iopub.execute_input": "2021-11-15T00:01:34.028048Z",
     "iopub.status.busy": "2021-11-15T00:01:34.026599Z",
     "iopub.status.idle": "2021-11-15T00:02:08.912532Z",
     "shell.execute_reply": "2021-11-15T00:02:08.910616Z",
     "shell.execute_reply.started": "2021-11-15T00:01:34.027948Z"
    },
    "tags": []
   }
  },
  {
   "cell_type": "markdown",
   "source": [
    "### **Junção dos arquivos NCM**"
   ],
   "metadata": {}
  },
  {
   "cell_type": "code",
   "execution_count": null,
   "source": [
    "NCM.createOrReplaceTempView(\"NCM\")\n",
    "NCM_SH.createOrReplaceTempView(\"SH\")\n",
    "NCM_CUCI.createOrReplaceTempView(\"CUCI\")\n",
    "NCM_CGCE.createOrReplaceTempView(\"CGCE\")\n",
    "NCM_ISIC.createOrReplaceTempView(\"ISIC\")\n",
    "NCM_FAT_AGREG.createOrReplaceTempView(\"FAT_AGREG\")\n",
    "NBM_NCM.createOrReplaceTempView(\"NBM\")\n",
    "NCM_UNIDADE.createOrReplaceTempView(\"UNIDADE\")\n",
    "NCM_PPE.createOrReplaceTempView(\"PPE\")\n",
    "NCM_PPI.createOrReplaceTempView(\"PPI\")\n",
    "ISIC_CUCI.createOrReplaceTempView(\"ISIC_CUCI\")\n",
    "UF_MUN.createOrReplaceTempView(\"UF_MUN\")\n",
    "URF.createOrReplaceTempView(\"URF\")\n",
    "PAIS.createOrReplaceTempView(\"PAIS\")\n",
    "VIA.createOrReplaceTempView(\"VIA\")\n",
    "PAIS_BLOCO.createOrReplaceTempView(\"PAIS_BLOCO\")\n",
    "\n",
    "NCM_FULL_JOIN = spark.sql(\n",
    "        \"\"\" \n",
    "            SELECT N.CO_NCM,\n",
    "                   N.NO_NCM_POR as NO_NCM,\n",
    "                   S.CO_SH6,\n",
    "                   S.NO_SH2_POR,\n",
    "                   S.NO_SH4_POR,\n",
    "                   S.NO_SH6_POR AS NO_SH6,\n",
    "                   lower(F.NO_FAT_AGREG) as NO_FAT_AGREG,\n",
    "                   C.NO_CUCI_ITEM,\n",
    "                   P.CO_PPE,\n",
    "                   P.NO_PPE_MIN,\n",
    "                   PI.CO_PPI,\n",
    "                   PI.NO_PPI_MIN,\n",
    "                   I.NO_ISIC_CLASSE\n",
    "                   \n",
    "              FROM NCM N\n",
    "             INNER JOIN SH S\n",
    "                ON N.CO_SH6 = S.CO_SH6\n",
    "             INNER JOIN FAT_AGREG F\n",
    "                ON N.CO_FAT_AGREG = F.CO_FAT_AGREG\n",
    "             INNER JOIN CUCI C\n",
    "                ON N.CO_CUCI_ITEM = C.CO_CUCI_ITEM\n",
    "             INNER JOIN PPE P \n",
    "                ON N.CO_PPE = P.CO_PPE\n",
    "             INNER JOIN PPI PI\n",
    "                ON N.CO_PPI = PI.CO_PPI\n",
    "             INNER JOIN ISIC I \n",
    "                ON N.CO_ISIC_CLASSE = I.CO_ISIC_CLASSE\n",
    "         \"\"\")\n",
    "               \n",
    "NCM_FULL_JOIN.toPandas()"
   ],
   "outputs": [],
   "metadata": {
    "execution": {
     "iopub.execute_input": "2021-11-15T00:02:45.142267Z",
     "iopub.status.busy": "2021-11-15T00:02:45.139998Z",
     "iopub.status.idle": "2021-11-15T00:02:57.034279Z",
     "shell.execute_reply": "2021-11-15T00:02:57.030567Z",
     "shell.execute_reply.started": "2021-11-15T00:02:45.142164Z"
    },
    "tags": []
   }
  },
  {
   "cell_type": "markdown",
   "source": [
    "### **Gravação dos arquivos na camada silver**\n",
    "---\n",
    "Arquivos gravados e convertidos para forma parquet, compressão e redução do tamanho do arquivo"
   ],
   "metadata": {}
  },
  {
   "cell_type": "code",
   "execution_count": null,
   "source": [
    "NCM_FULL_JOIN.write.parquet(\"s3a://silver/NCM_FULL_JOIN.parquet\", mode=\"overwrite\")"
   ],
   "outputs": [],
   "metadata": {}
  },
  {
   "cell_type": "code",
   "execution_count": null,
   "source": [
    "\n",
    "\n",
    "NCM.write.parquet(\"s3a://silver/NCM.parquet\", mode=\"overwrite\")\n",
    "NCM_SH.write.parquet(\"s3a://silver/NCM_SH.parquet\", mode=\"overwrite\")\n",
    "NCM_CUCI.write.parquet(\"s3a://silver/NCM_CUCI.parquet\", mode=\"overwrite\")\n",
    "NCM_CGCE.write.parquet(\"s3a://silver/NCM_CGCE.parquet\", mode=\"overwrite\")\n",
    "NCM_ISIC.write.parquet(\"s3a://silver/NCM_ISIC.parquet\" , mode=\"overwrite\")\n",
    "NCM_FAT_AGREG.write.parquet(\"s3a://silver/NCM_FAT_AGREG.parquet\", mode=\"overwrite\")\n",
    "NBM_NCM.write.parquet(\"s3a://silver/NBM_NCM.parquet\" , mode=\"overwrite\")\n",
    "NCM_UNIDADE.write.parquet(\"s3a://silver/NCM_UNIDADE.parquet\", mode=\"overwrite\")\n",
    "NCM_CUCI.write.parquet(\"s3a://silver/NCM_CUCI.parquet\" , mode=\"overwrite\")\n",
    "NCM_PPE.write.parquet(\"s3a://silver/NCM_PPE.parquet\", mode=\"overwrite\")\n",
    "NCM_PPI.write.parquet(\"s3a://silver/NCM_PPI.parquet\" , mode=\"overwrite\")\n",
    "ISIC_CUCI.write.parquet(\"s3a://silver/ISIC_CUCI.parquet\" , mode=\"overwrite\")\n",
    "UF_MUN.write.parquet(\"s3a://silver/UF_MUN.parquet\", mode=\"overwrite\")\n",
    "PAIS.write.parquet(\"s3a://silver/PAIS.parquet\" , mode=\"overwrite\")\n",
    "VIA.write.parquet(\"s3a://silver/VIA.parquet\", mode=\"overwrite\")\n",
    "PAIS_BLOCO.write.parquet(\"s3a://silver/PAIS_BLOCO.parquet\", mode=\"overwrite\")\n"
   ],
   "outputs": [],
   "metadata": {
    "execution": {
     "iopub.execute_input": "2021-11-15T00:03:08.299604Z",
     "iopub.status.busy": "2021-11-15T00:03:08.296895Z",
     "iopub.status.idle": "2021-11-15T00:08:23.458479Z",
     "shell.execute_reply": "2021-11-15T00:08:23.455667Z",
     "shell.execute_reply.started": "2021-11-15T00:03:08.299502Z"
    },
    "tags": []
   }
  },
  {
   "cell_type": "code",
   "execution_count": 16,
   "source": [
    "NCM.write.csv(\"s3a://silver/NCM.csv\", mode=\"overwrite\")\n",
    "NCM_SH.write.csv(\"s3a://silver/NCM_SH.csv\", mode=\"overwrite\")\n",
    "NCM_CUCI.write.csv(\"s3a://silver/NCM_CUCI.csv\", mode=\"overwrite\")\n",
    "NCM_CGCE.write.csv(\"s3a://silver/NCM_CGCE.csv\", mode=\"overwrite\")\n",
    "NCM_ISIC.write.csv(\"s3a://silver/NCM_ISIC.csv\" , mode=\"overwrite\")\n",
    "NCM_FAT_AGREG.write.csv(\"s3a://silver/NCM_FAT_AGREG.csv\", mode=\"overwrite\")\n",
    "NBM_NCM.write.csv(\"s3a://silver/NBM_NCM.csv\" , mode=\"overwrite\")\n",
    "NCM_UNIDADE.write.csv(\"s3a://silver/NCM_UNIDADE.csv\", mode=\"overwrite\")\n",
    "NCM_CUCI.write.csv(\"s3a://silver/NCM_CUCI.csv\" , mode=\"overwrite\")\n",
    "NCM_PPE.write.csv(\"s3a://silver/NCM_PPE.csv\", mode=\"overwrite\")\n",
    "NCM_PPI.write.csv(\"s3a://silver/NCM_PPI.csv\" , mode=\"overwrite\")\n",
    "ISIC_CUCI.write.csv(\"s3a://silver/ISIC_CUCI.csv\" , mode=\"overwrite\")\n",
    "UF_MUN.write.csv(\"s3a://silver/UF_MUN.csv\", mode=\"overwrite\")\n",
    "PAIS.write.csv(\"s3a://silver/PAIS.csv\" , mode=\"overwrite\")\n",
    "VIA.write.csv(\"s3a://silver/VIA.csv\", mode=\"overwrite\")\n",
    "PAIS_BLOCO.write.csv(\"s3a://silver/PAIS_BLOCO.parquet\", mode=\"overwrite\")"
   ],
   "outputs": [
    {
     "output_type": "stream",
     "name": "stderr",
     "text": []
    }
   ],
   "metadata": {}
  },
  {
   "cell_type": "markdown",
   "source": [
    "### **Finalização das instancias do Spark e liberação da memória**"
   ],
   "metadata": {}
  },
  {
   "cell_type": "code",
   "execution_count": null,
   "source": [
    "spark_settings.stop()"
   ],
   "outputs": [],
   "metadata": {
    "execution": {
     "iopub.execute_input": "2021-11-15T00:55:43.775341Z",
     "iopub.status.busy": "2021-11-15T00:55:43.774796Z",
     "iopub.status.idle": "2021-11-15T00:55:44.810995Z",
     "shell.execute_reply": "2021-11-15T00:55:44.808892Z",
     "shell.execute_reply.started": "2021-11-15T00:55:43.775283Z"
    }
   }
  },
  {
   "cell_type": "markdown",
   "source": [
    "## **Carregamento dos datasets completos da balança comercial dados de Importação e Exportação** "
   ],
   "metadata": {}
  },
  {
   "cell_type": "markdown",
   "source": [
    "### **Carregamento**"
   ],
   "metadata": {}
  },
  {
   "cell_type": "code",
   "execution_count": null,
   "source": [
    "EXP_COMPLETA = spark.read.csv(\"s3a://bronze/EXP_COMPLETA.csv\", sep=';', inferSchema=True, header=True)\n",
    "IMP_COMPLETA = spark.read.csv(\"s3a://bronze/IMP_COMPLETA.csv\", sep=';', inferSchema=True, header=True)\n",
    "\n",
    "EXP_COMPLETA.printSchema()\n"
   ],
   "outputs": [],
   "metadata": {
    "execution": {
     "iopub.execute_input": "2021-11-15T01:01:37.937325Z",
     "iopub.status.busy": "2021-11-15T01:01:37.935636Z",
     "iopub.status.idle": "2021-11-15T01:09:55.789564Z",
     "shell.execute_reply": "2021-11-15T01:09:55.784673Z",
     "shell.execute_reply.started": "2021-11-15T01:01:37.937235Z"
    },
    "tags": []
   }
  },
  {
   "cell_type": "markdown",
   "source": [
    "### **Harmonização das colunas**"
   ],
   "metadata": {}
  },
  {
   "cell_type": "code",
   "execution_count": null,
   "source": [
    "EXP_COMPLETA = EXP_COMPLETA.withColumn(\"VL_FRETE\",lit(\"0\")) \\\n",
    "                           .withColumn(\"VL_SEGURO\",lit(\"0\")) \\\n",
    "                           .withColumn(\"TYPE\",lit(\"EXP\"))\n",
    "        \n",
    "IMP_COMPLETA = IMP_COMPLETA.withColumn(\"TYPE\",lit(\"IMP\"))\n",
    "\n",
    "#EXP_COMPLETA.printSchema()\n",
    "EXP_COMPLETA.show(10)\n",
    "#IMP_COMPLETA.printSchema()\n",
    "IMP_COMPLETA.show(10)\n",
    "\n",
    "IMP_COMPLETA.printSchema()\n"
   ],
   "outputs": [],
   "metadata": {
    "execution": {
     "iopub.execute_input": "2021-11-15T02:02:49.742080Z",
     "iopub.status.busy": "2021-11-15T02:02:49.734300Z",
     "iopub.status.idle": "2021-11-15T02:02:53.812239Z",
     "shell.execute_reply": "2021-11-15T02:02:53.807208Z",
     "shell.execute_reply.started": "2021-11-15T02:02:49.741993Z"
    },
    "tags": []
   }
  },
  {
   "cell_type": "markdown",
   "source": [
    "### **Reescrita dos dados harmonizados e ajustados no fomato csv**"
   ],
   "metadata": {}
  },
  {
   "cell_type": "code",
   "execution_count": null,
   "source": [
    "EXP_COMPLETA.write.csv(\"s3a://silver/EXP_COMPLETA.csv\", mode=\"overwrite\")\n",
    "IMP_COMPLETA.write.csv(\"s3a://silver/IMP_COMPLETA.csv\", mode=\"overwrite\")"
   ],
   "outputs": [],
   "metadata": {
    "tags": []
   }
  },
  {
   "cell_type": "code",
   "execution_count": null,
   "source": [
    "EXP_COMPLETA.write.parquet(\"file:///home/user/Desktop/Tcc-data/silver/EXP_COMPLETA.parquet\", mode=\"overwrite\")\n",
    "IMP_COMPLETA.write.parquet(\"file:///home/user/Desktop/Tcc-data/silver/IMP_COMPLETA.csv\", mode=\"overwrite\")"
   ],
   "outputs": [],
   "metadata": {
    "tags": []
   }
  },
  {
   "cell_type": "code",
   "execution_count": null,
   "source": [
    "EXP_COMPLETA.write.parquet(\"s3a://silver/EXP_COMPLETA.parquet\", mode=\"overwrite\")\n",
    "IMP_COMPLETA.write.parquet(\"s3a://silver/IMP_COMPLETA.csv\", mode=\"overwrite\")"
   ],
   "outputs": [],
   "metadata": {
    "tags": []
   }
  },
  {
   "cell_type": "markdown",
   "source": [
    "### **Junção dos datasets de exportação e importação**"
   ],
   "metadata": {}
  },
  {
   "cell_type": "code",
   "execution_count": null,
   "source": [
    "df_exp_imp_full = EXP_COMPLETA.union(IMP_COMPLETA).distinct()\n",
    "df_exp_imp_full.show()"
   ],
   "outputs": [],
   "metadata": {}
  },
  {
   "cell_type": "code",
   "execution_count": null,
   "source": [
    "#df_exp_imp_full.count()\n",
    "spark_settings.stop()"
   ],
   "outputs": [],
   "metadata": {}
  },
  {
   "cell_type": "code",
   "execution_count": null,
   "source": [
    "df_exp_imp_full.write.csv(\"s3a://silver/EXP_IMP_FULL.csv\", mode=\"overwrite\")"
   ],
   "outputs": [],
   "metadata": {}
  },
  {
   "cell_type": "markdown",
   "source": [
    "### **Escrita dos dados exportação e importação após a junção no formato parquet**"
   ],
   "metadata": {}
  },
  {
   "cell_type": "code",
   "execution_count": null,
   "source": [
    "df_exp_imp_full.write.parquet(\"s3a://silver/EXP_IMP_FULL.parquet\", mode=\"overwrite\")"
   ],
   "outputs": [],
   "metadata": {}
  },
  {
   "cell_type": "code",
   "execution_count": null,
   "source": [
    "EXP_IMP_FULL = spark.read.parquet(\"s3a://silver/EXP_IMP_FULL.parquet\", sep=';', inferSchema=True, header=True)\n",
    "EXP_IMP_FULL.show()"
   ],
   "outputs": [],
   "metadata": {}
  },
  {
   "cell_type": "code",
   "execution_count": null,
   "source": [
    "EXP_IMP_FULL.summary().show()"
   ],
   "outputs": [],
   "metadata": {}
  }
 ],
 "metadata": {
  "kernelspec": {
   "name": "python3",
   "display_name": "Python 3.8.10 64-bit ('.venv')"
  },
  "language_info": {
   "codemirror_mode": {
    "name": "ipython",
    "version": 3
   },
   "file_extension": ".py",
   "mimetype": "text/x-python",
   "name": "python",
   "nbconvert_exporter": "python",
   "pygments_lexer": "ipython3",
   "version": "3.8.10"
  },
  "toc-autonumbering": true,
  "toc-showcode": false,
  "toc-showmarkdowntxt": false,
  "toc-showtags": false,
  "interpreter": {
   "hash": "93a2936ef589dd946f11e51be3b2fffcb0e2acbd14ba7e47ba0d8aa70c513569"
  }
 },
 "nbformat": 4,
 "nbformat_minor": 5
}