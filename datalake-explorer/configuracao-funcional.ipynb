{
 "cells": [
  {
   "cell_type": "code",
   "execution_count": 13,
   "id": "bed6f7fd-972a-4c78-b111-1d885201fde1",
   "metadata": {
    "execution": {
     "iopub.execute_input": "2021-10-25T23:31:29.260464Z",
     "iopub.status.busy": "2021-10-25T23:31:29.258980Z",
     "iopub.status.idle": "2021-10-25T23:31:29.274628Z",
     "shell.execute_reply": "2021-10-25T23:31:29.272426Z",
     "shell.execute_reply.started": "2021-10-25T23:31:29.260371Z"
    },
    "tags": []
   },
   "outputs": [],
   "source": [
    "from minio import Minio\n",
    "from minio.error import S3Error"
   ]
  },
  {
   "cell_type": "code",
   "execution_count": 2,
   "id": "a0b2435f-f527-4241-828a-d1b74f7c480b",
   "metadata": {
    "execution": {
     "iopub.execute_input": "2021-10-25T04:39:32.025905Z",
     "iopub.status.busy": "2021-10-25T04:39:32.025084Z",
     "iopub.status.idle": "2021-10-25T04:39:32.034232Z",
     "shell.execute_reply": "2021-10-25T04:39:32.031750Z",
     "shell.execute_reply.started": "2021-10-25T04:39:32.025849Z"
    },
    "tags": []
   },
   "outputs": [],
   "source": [
    "#client = Minio(\"lay.min.io:9443/\", \"admin\", \"e372e705-b435-4aee-8c49-1fa1401b3ec9\", secure=True)"
   ]
  },
  {
   "cell_type": "code",
   "execution_count": 3,
   "id": "7271bba5-0607-4d2a-81f8-ac880948637c",
   "metadata": {
    "execution": {
     "iopub.execute_input": "2021-10-25T04:39:32.037073Z",
     "iopub.status.busy": "2021-10-25T04:39:32.036601Z",
     "iopub.status.idle": "2021-10-25T04:39:32.044880Z",
     "shell.execute_reply": "2021-10-25T04:39:32.042663Z",
     "shell.execute_reply.started": "2021-10-25T04:39:32.037021Z"
    },
    "tags": []
   },
   "outputs": [],
   "source": [
    "#client = Minio(\"play.min.io:9000\", \"Q3AM3UQ867SPQQA43P2F\", \"zuf+tfteSlswRu7BJ86wekitnifILbZam1KYY3TG\", secure=True)"
   ]
  },
  {
   "cell_type": "code",
   "execution_count": 4,
   "id": "d520007f-4777-4aa9-8b10-ec16ac689869",
   "metadata": {
    "execution": {
     "iopub.execute_input": "2021-10-25T04:39:32.047718Z",
     "iopub.status.busy": "2021-10-25T04:39:32.047227Z",
     "iopub.status.idle": "2021-10-25T04:39:32.054950Z",
     "shell.execute_reply": "2021-10-25T04:39:32.052906Z",
     "shell.execute_reply.started": "2021-10-25T04:39:32.047639Z"
    },
    "tags": []
   },
   "outputs": [],
   "source": [
    "#obj_business = client.get_object(\"bronze\", \"EXP_1997.csv\")"
   ]
  },
  {
   "cell_type": "code",
   "execution_count": 5,
   "id": "8e7bcdf3-0155-4797-9b34-c4897c368648",
   "metadata": {
    "execution": {
     "iopub.execute_input": "2021-10-25T04:39:32.060001Z",
     "iopub.status.busy": "2021-10-25T04:39:32.059371Z",
     "iopub.status.idle": "2021-10-25T04:39:32.072947Z",
     "shell.execute_reply": "2021-10-25T04:39:32.071121Z",
     "shell.execute_reply.started": "2021-10-25T04:39:32.059947Z"
    },
    "tags": []
   },
   "outputs": [],
   "source": [
    " #print(client.bucket_exists('bronze'))"
   ]
  },
  {
   "cell_type": "code",
   "execution_count": 14,
   "id": "7af1c14a-40ea-4876-950a-0071555a2c61",
   "metadata": {
    "execution": {
     "iopub.execute_input": "2021-10-25T23:31:33.813487Z",
     "iopub.status.busy": "2021-10-25T23:31:33.812174Z",
     "iopub.status.idle": "2021-10-25T23:31:33.820557Z",
     "shell.execute_reply": "2021-10-25T23:31:33.818690Z",
     "shell.execute_reply.started": "2021-10-25T23:31:33.813428Z"
    },
    "tags": []
   },
   "outputs": [],
   "source": [
    "from pyspark import SparkContext, SparkConf\n",
    "from pyspark.sql import SparkSession\n"
   ]
  },
  {
   "cell_type": "code",
   "execution_count": 15,
   "id": "81246844-3d6f-43fd-8f6b-6d3aae78d7c5",
   "metadata": {
    "execution": {
     "iopub.execute_input": "2021-10-25T23:31:39.957273Z",
     "iopub.status.busy": "2021-10-25T23:31:39.955751Z",
     "iopub.status.idle": "2021-10-25T23:31:40.088131Z",
     "shell.execute_reply": "2021-10-25T23:31:40.086472Z",
     "shell.execute_reply.started": "2021-10-25T23:31:39.957167Z"
    },
    "tags": []
   },
   "outputs": [],
   "source": [
    "conf = ( \n",
    "    SparkConf()\n",
    "            .setMaster(\"k8s://https://kubernetes.default.svc.cluster.local:443\")  \n",
    "            .setAppName(\"spark\") \n",
    "            .set(\"spark.kubernetes.container.image\", \"magaiwer/pyspark-notebook:3.2.0\") \n",
    "            .set(\"spark.kubernetes.namespace\", \"spark\") \n",
    "            .set(\"spark.kubernetes.authenticate.caCertFile\", \"/var/run/secrets/kubernetes.io/serviceaccount/ca.crt\") \n",
    "            .set(\"spark.kubernetes.authenticate.oauthTokenFile\", \"/var/run/secrets/kubernetes.io/serviceaccount/token\") \n",
    "            .set(\"spark.executor.instances\", \"3\") \n",
    "            .set(\"spark.executor.cores\", \"1\") \n",
    "            .set(\"spark.driver.memory\", \"1024m\") \n",
    "            .set(\"spark.executor.memory\", \"1024m\") \n",
    "            .set(\"spark.kubernetes.authenticate.driver.serviceAccountName\", \"spark-sa\") \n",
    "            .set(\"spark.kubernetes.authenticate.serviceAccountName\", \"spark-sa\") \n",
    "            .set(\"spark.driver.port\", \"29413\") \n",
    "            .set(\"spark.driver.host\", \"jupyter-labs.spark.svc.cluster.local\") \n",
    "            .set(\"spark.driver.bindAddress\", \"0.0.0.0\") \n",
    "            .set(\"spark.hadoop.com.amazonaws.services.s3.enableV4\", \"true\") \n",
    ") \n",
    "\n",
    "spark = SparkSession.builder.config(conf=conf).getOrCreate()\n",
    "sc = spark.sparkContext\n",
    "\n",
    "sc._jsc.hadoopConfiguration().set(\"fs.s3a.access.key\", \"Q3AM3UQ867SPQQA43P2F\")\n",
    "sc._jsc.hadoopConfiguration().set(\"fs.s3a.secret.key\", \"zuf+tfteSlswRu7BJ86wekitnifILbZam1KYY3TG\")\n",
    "#sc._jsc.hadoopConfiguration().set(\"fs.s3a.endpoint\", \"http://10.32.0.5:9000\") \n",
    "sc._jsc.hadoopConfiguration().set(\"fs.s3a.endpoint\", \"https://play.min.io:9000\") \n",
    "sc._jsc.hadoopConfiguration().set(\"fs.s3a.path.style.access\", \"true\")\n",
    "sc._jsc.hadoopConfiguration().set(\"fs.s3a.fast.upload\", \"true\")\n",
    "sc._jsc.hadoopConfiguration().set(\"fs.s3a.connection.establish.timeout\", \"2000\")\n",
    "sc._jsc.hadoopConfiguration().set(\"fs.s3a.connection.timeout\", \"2000\")\n",
    "sc._jsc.hadoopConfiguration().set(\"fs.s3a.attempts.maximum\", \"1\")\n",
    "sc._jsc.hadoopConfiguration().set(\"fs.s3a.connection.ssl.enabled\",\"false\")\n",
    "\n"
   ]
  },
  {
   "cell_type": "code",
   "execution_count": null,
   "id": "2d29bae6-d823-4cc1-b7cb-c34f880742bd",
   "metadata": {
    "tags": []
   },
   "outputs": [],
   "source": [
    "NCM = spark.read.csv(\"s3a://bronze/NCM_SH.csv\", sep=';', inferSchema=True, header=True, encoding=\"ISO-8859-1\")"
   ]
  },
  {
   "cell_type": "code",
   "execution_count": 34,
   "id": "9bbe660d-a057-4396-9896-4d7b662d757e",
   "metadata": {
    "execution": {
     "iopub.execute_input": "2021-10-26T00:13:31.605793Z",
     "iopub.status.busy": "2021-10-26T00:13:31.603750Z",
     "iopub.status.idle": "2021-10-26T00:13:33.801157Z",
     "shell.execute_reply": "2021-10-26T00:13:33.799421Z",
     "shell.execute_reply.started": "2021-10-26T00:13:31.605698Z"
    },
    "tags": []
   },
   "outputs": [
    {
     "name": "stdout",
     "output_type": "stream",
     "text": [
      "root\n",
      " |-- CO_SH6: integer (nullable = true)\n",
      " |-- NO_SH6_POR: string (nullable = true)\n",
      " |-- NO_SH6_ESP: string (nullable = true)\n",
      " |-- NO_SH6_ING: string (nullable = true)\n",
      " |-- CO_SH4: string (nullable = true)\n",
      " |-- NO_SH4_POR: string (nullable = true)\n",
      " |-- NO_SH4_ESP: string (nullable = true)\n",
      " |-- NO_SH4_ING: string (nullable = true)\n",
      " |-- CO_SH2: string (nullable = true)\n",
      " |-- NO_SH2_POR: string (nullable = true)\n",
      " |-- NO_SH2_ESP: string (nullable = true)\n",
      " |-- NO_SH2_ING: string (nullable = true)\n",
      " |-- CO_NCM_SECROM: string (nullable = true)\n",
      " |-- NO_SEC_POR: string (nullable = true)\n",
      " |-- NO_SEC_ESP: string (nullable = true)\n",
      " |-- NO_SEC_ING: string (nullable = true)\n",
      "\n"
     ]
    },
    {
     "name": "stderr",
     "output_type": "stream",
     "text": [
      "[Stage 19:>                                                         (0 + 1) / 1]\r"
     ]
    },
    {
     "name": "stdout",
     "output_type": "stream",
     "text": [
      "+------+--------------------+--------------------+--------------------+------+--------------------+--------------------+--------------------+------+-------------+--------------+------------+-------------+--------------------+--------------------+--------------------+\n",
      "|CO_SH6|          NO_SH6_POR|          NO_SH6_ESP|          NO_SH6_ING|CO_SH4|          NO_SH4_POR|          NO_SH4_ESP|          NO_SH4_ING|CO_SH2|   NO_SH2_POR|    NO_SH2_ESP|  NO_SH2_ING|CO_NCM_SECROM|          NO_SEC_POR|          NO_SEC_ESP|          NO_SEC_ING|\n",
      "+------+--------------------+--------------------+--------------------+------+--------------------+--------------------+--------------------+------+-------------+--------------+------------+-------------+--------------------+--------------------+--------------------+\n",
      "| 10110|Animais vivos das...|Caballos y asnos,...|Pure-bred breedin...|  0101|Cavalos, asininos...|Caballos, asnos, ...|Live horses, asse...|    01|Animais vivos|Animales vivos|Live animals|            I|Animais vivos e p...|Animales vivos y ...|Lives animals; An...|\n",
      "| 10111|Cavalos reproduto...|Caballos reproduc...|Pure-bred breedin...|  0101|Cavalos, asininos...|Caballos, asnos, ...|Live horses, asse...|    01|Animais vivos|Animales vivos|Live animals|            I|Animais vivos e p...|Animales vivos y ...|Lives animals; An...|\n",
      "| 10119|Outros cavalos, v...|Demás caballos, v...|   Other live horses|  0101|Cavalos, asininos...|Caballos, asnos, ...|Live horses, asse...|    01|Animais vivos|Animales vivos|Live animals|            I|Animais vivos e p...|Animales vivos y ...|Lives animals; An...|\n",
      "| 10120|Asininos e muares...|Asnos, mulos y bu...|Asses, mules and ...|  0101|Cavalos, asininos...|Caballos, asnos, ...|Live horses, asse...|    01|Animais vivos|Animales vivos|Live animals|            I|Animais vivos e p...|Animales vivos y ...|Lives animals; An...|\n",
      "| 10121|Cavalos reproduto...|Caballos de raza ...|Pure-bred breedin...|  0101|Cavalos, asininos...|Caballos, asnos, ...|Live horses, asse...|    01|Animais vivos|Animales vivos|Live animals|            I|Animais vivos e p...|Animales vivos y ...|Lives animals; An...|\n",
      "| 10129|Cavalos vivos, ex...|Caballos vivos, e...|Live horses, exce...|  0101|Cavalos, asininos...|Caballos, asnos, ...|Live horses, asse...|    01|Animais vivos|Animales vivos|Live animals|            I|Animais vivos e p...|Animales vivos y ...|Lives animals; An...|\n",
      "| 10130|Animais da espéci...|Asnos o mulas, re...|Asses/mules, pure...|  0101|Cavalos, asininos...|Caballos, asnos, ...|Live horses, asse...|    01|Animais vivos|Animales vivos|Live animals|            I|Animais vivos e p...|Animales vivos y ...|Lives animals; An...|\n",
      "| 10190|Animais vivos das...|Caballos, asnos, ...|Live horses, asse...|  0101|Cavalos, asininos...|Caballos, asnos, ...|Live horses, asse...|    01|Animais vivos|Animales vivos|Live animals|            I|Animais vivos e p...|Animales vivos y ...|Lives animals; An...|\n",
      "| 10210|Bovinos reproduto...|Bovinos reproduct...|Pure-bred breedin...|  0102|Animais vivos da ...|Animales vivos de...| Live bovine animals|    01|Animais vivos|Animales vivos|Live animals|            I|Animais vivos e p...|Animales vivos y ...|Lives animals; An...|\n",
      "| 10221|Bovinos doméstico...|El ganado domésti...|Domestic cattle b...|  0102|Animais vivos da ...|Animales vivos de...| Live bovine animals|    01|Animais vivos|Animales vivos|Live animals|            I|Animais vivos e p...|Animales vivos y ...|Lives animals; An...|\n",
      "| 10229|Outros bovinos do...|Otros ganados dom...|Other domestic ca...|  0102|Animais vivos da ...|Animales vivos de...| Live bovine animals|    01|Animais vivos|Animales vivos|Live animals|            I|Animais vivos e p...|Animales vivos y ...|Lives animals; An...|\n",
      "| 10231|Búfalos reproduto...|Buffalos reproduc...|Buffalo pure-bred...|  0102|Animais vivos da ...|Animales vivos de...| Live bovine animals|    01|Animais vivos|Animales vivos|Live animals|            I|Animais vivos e p...|Animales vivos y ...|Lives animals; An...|\n",
      "| 10239|      Outros búfalos|      Otros buffalos|       Other buffalo|  0102|Animais vivos da ...|Animales vivos de...| Live bovine animals|    01|Animais vivos|Animales vivos|Live animals|            I|Animais vivos e p...|Animales vivos y ...|Lives animals; An...|\n",
      "| 10290|Outros bovinos vivos|Bovinos vivos (ex...|Live bovine anima...|  0102|Animais vivos da ...|Animales vivos de...| Live bovine animals|    01|Animais vivos|Animales vivos|Live animals|            I|Animais vivos e p...|Animales vivos y ...|Lives animals; An...|\n",
      "| 10310|Suínos reprodutor...|Porcinos reproduc...|Pure-bred breedin...|  0103|Animais vivos da ...|Animales vivos de...|  Live swine animals|    01|Animais vivos|Animales vivos|Live animals|            I|Animais vivos e p...|Animales vivos y ...|Lives animals; An...|\n",
      "| 10391|Outros suínos viv...|Porcinos vivos, d...|Live pure-bred sw...|  0103|Animais vivos da ...|Animales vivos de...|  Live swine animals|    01|Animais vivos|Animales vivos|Live animals|            I|Animais vivos e p...|Animales vivos y ...|Lives animals; An...|\n",
      "| 10392|Outros suínos viv...|Porcinos vivos de...|Live pure-bred sw...|  0103|Animais vivos da ...|Animales vivos de...|  Live swine animals|    01|Animais vivos|Animales vivos|Live animals|            I|Animais vivos e p...|Animales vivos y ...|Lives animals; An...|\n",
      "| 10410|        Ovinos vivos|        Ovinos vivos|          Live sheep|  0104|Animais vivos das...|Animales vivos de...|Live sheep and goats|    01|Animais vivos|Animales vivos|Live animals|            I|Animais vivos e p...|Animales vivos y ...|Lives animals; An...|\n",
      "| 10420|      Caprinos vivos|      Caprinos vivos|          Live goats|  0104|Animais vivos das...|Animales vivos de...|Live sheep and goats|    01|Animais vivos|Animales vivos|Live animals|            I|Animais vivos e p...|Animales vivos y ...|Lives animals; An...|\n",
      "| 10511|Galos e galinhas ...|Gallos y gallinas...|Live fowls of the...|  0105|Galos, galinhas, ...|Gallos, gallinas,...|Live poultry, tha...|    01|Animais vivos|Animales vivos|Live animals|            I|Animais vivos e p...|Animales vivos y ...|Lives animals; An...|\n",
      "+------+--------------------+--------------------+--------------------+------+--------------------+--------------------+--------------------+------+-------------+--------------+------------+-------------+--------------------+--------------------+--------------------+\n",
      "only showing top 20 rows\n",
      "\n"
     ]
    },
    {
     "name": "stderr",
     "output_type": "stream",
     "text": [
      "                                                                                \r"
     ]
    }
   ],
   "source": [
    "sc.setLogLevel(\"OFF\")\n",
    "NCM.printSchema()\n",
    "\n",
    "NCM.show()"
   ]
  },
  {
   "cell_type": "code",
   "execution_count": 24,
   "id": "a1c4c057-781b-45a3-a26d-d273dadd39dc",
   "metadata": {
    "execution": {
     "iopub.execute_input": "2021-10-26T00:01:00.062508Z",
     "iopub.status.busy": "2021-10-26T00:01:00.059208Z",
     "iopub.status.idle": "2021-10-26T00:01:00.103494Z",
     "shell.execute_reply": "2021-10-26T00:01:00.101819Z",
     "shell.execute_reply.started": "2021-10-26T00:01:00.062412Z"
    },
    "tags": []
   },
   "outputs": [],
   "source": [
    "import pyspark.sql.functions"
   ]
  },
  {
   "cell_type": "code",
   "execution_count": 25,
   "id": "80306a04-0a85-44de-aa16-16d3355411a8",
   "metadata": {
    "execution": {
     "iopub.execute_input": "2021-10-26T00:09:38.574136Z",
     "iopub.status.busy": "2021-10-26T00:09:38.568374Z",
     "iopub.status.idle": "2021-10-26T00:09:38.917816Z",
     "shell.execute_reply": "2021-10-26T00:09:38.915861Z",
     "shell.execute_reply.started": "2021-10-26T00:09:38.574010Z"
    },
    "tags": []
   },
   "outputs": [],
   "source": [
    "NCM.createOrReplaceTempView(\"ncm\")"
   ]
  },
  {
   "cell_type": "code",
   "execution_count": 48,
   "id": "4f20ddbe-16c8-40ea-9bba-f61902565c54",
   "metadata": {
    "execution": {
     "iopub.execute_input": "2021-10-26T01:00:45.068230Z",
     "iopub.status.busy": "2021-10-26T01:00:45.067258Z",
     "iopub.status.idle": "2021-10-26T01:01:35.735221Z",
     "shell.execute_reply": "2021-10-26T01:01:35.730636Z",
     "shell.execute_reply.started": "2021-10-26T01:00:45.068156Z"
    },
    "tags": []
   },
   "outputs": [
    {
     "name": "stderr",
     "output_type": "stream",
     "text": [
      "                                                                                \r"
     ]
    },
    {
     "name": "stdout",
     "output_type": "stream",
     "text": [
      "+------+---------------------------------------------------------------------------------+------+------------------------------------------------------------------------------------------------------------+------+-------------+-------------+----------------------------------------+\n",
      "|CO_SH6|NO_SH6                                                                           |CO_SH4|NO_SH4                                                                                                      |CO_SH2|NO_SH2       |CO_NCM_SECROM|NO_SEC                                  |\n",
      "+------+---------------------------------------------------------------------------------+------+------------------------------------------------------------------------------------------------------------+------+-------------+-------------+----------------------------------------+\n",
      "|10110 |Animais vivos das espécies cavalar, asinina e muar, reprodutores de raça pura    |0101  |Cavalos, asininos e muares, vivos                                                                           |01    |Animais vivos|I            |Animais vivos e produtos do reino animal|\n",
      "|10111 |Cavalos reprodutores, de raça pura                                               |0101  |Cavalos, asininos e muares, vivos                                                                           |01    |Animais vivos|I            |Animais vivos e produtos do reino animal|\n",
      "|10119 |Outros cavalos, vivos                                                            |0101  |Cavalos, asininos e muares, vivos                                                                           |01    |Animais vivos|I            |Animais vivos e produtos do reino animal|\n",
      "|10120 |Asininos e muares vivos                                                          |0101  |Cavalos, asininos e muares, vivos                                                                           |01    |Animais vivos|I            |Animais vivos e produtos do reino animal|\n",
      "|10121 |Cavalos reprodutores de raça pura                                                |0101  |Cavalos, asininos e muares, vivos                                                                           |01    |Animais vivos|I            |Animais vivos e produtos do reino animal|\n",
      "|10129 |Cavalos vivos, exceto reprodutores de raça pura                                  |0101  |Cavalos, asininos e muares, vivos                                                                           |01    |Animais vivos|I            |Animais vivos e produtos do reino animal|\n",
      "|10130 |Animais da espécie asinina/muar, reprodutores de raça pura                       |0101  |Cavalos, asininos e muares, vivos                                                                           |01    |Animais vivos|I            |Animais vivos e produtos do reino animal|\n",
      "|10190 |Animais vivos das espécies cavalar, asinina e muar, exceto reprodutores raça pura|0101  |Cavalos, asininos e muares, vivos                                                                           |01    |Animais vivos|I            |Animais vivos e produtos do reino animal|\n",
      "|10210 |Bovinos reprodutores de raça pura                                                |0102  |Animais vivos da espécie bovina                                                                             |01    |Animais vivos|I            |Animais vivos e produtos do reino animal|\n",
      "|10221 |Bovinos domésticos reprodutores de raça pura                                     |0102  |Animais vivos da espécie bovina                                                                             |01    |Animais vivos|I            |Animais vivos e produtos do reino animal|\n",
      "|10229 |Outros bovinos domésticos                                                        |0102  |Animais vivos da espécie bovina                                                                             |01    |Animais vivos|I            |Animais vivos e produtos do reino animal|\n",
      "|10231 |Búfalos reprodutores de raça pura                                                |0102  |Animais vivos da espécie bovina                                                                             |01    |Animais vivos|I            |Animais vivos e produtos do reino animal|\n",
      "|10239 |Outros búfalos                                                                   |0102  |Animais vivos da espécie bovina                                                                             |01    |Animais vivos|I            |Animais vivos e produtos do reino animal|\n",
      "|10290 |Outros bovinos vivos                                                             |0102  |Animais vivos da espécie bovina                                                                             |01    |Animais vivos|I            |Animais vivos e produtos do reino animal|\n",
      "|10310 |Suínos reprodutores de raça pura                                                 |0103  |Animais vivos da espécie suína                                                                              |01    |Animais vivos|I            |Animais vivos e produtos do reino animal|\n",
      "|10391 |Outros suínos vivos de peso inferior a 50 kg                                     |0103  |Animais vivos da espécie suína                                                                              |01    |Animais vivos|I            |Animais vivos e produtos do reino animal|\n",
      "|10392 |Outros suínos vivos de peso igual ou superior a 50 kg                            |0103  |Animais vivos da espécie suína                                                                              |01    |Animais vivos|I            |Animais vivos e produtos do reino animal|\n",
      "|10410 |Ovinos vivos                                                                     |0104  |Animais vivos das espécies ovina e caprina                                                                  |01    |Animais vivos|I            |Animais vivos e produtos do reino animal|\n",
      "|10420 |Caprinos vivos                                                                   |0104  |Animais vivos das espécies ovina e caprina                                                                  |01    |Animais vivos|I            |Animais vivos e produtos do reino animal|\n",
      "|10511 |Galos e galinhas vivos, das espécies domésticas, de peso não superior a 185 g    |0105  |Galos, galinhas, patos, gansos, perus, peruas e galinhas-d'angola (pintadas), das espécies domésticas, vivos|01    |Animais vivos|I            |Animais vivos e produtos do reino animal|\n",
      "+------+---------------------------------------------------------------------------------+------+------------------------------------------------------------------------------------------------------------+------+-------------+-------------+----------------------------------------+\n",
      "only showing top 20 rows\n",
      "\n"
     ]
    },
    {
     "name": "stderr",
     "output_type": "stream",
     "text": [
      "                                                                                \r"
     ]
    }
   ],
   "source": [
    "ncm_sh_ptbr = spark.sql(\"select CO_SH6, NO_SH6_POR as NO_SH6, CO_SH4, NO_SH4_POR as NO_SH4, CO_SH2, NO_SH2_POR as NO_SH2, CO_NCM_SECROM, NO_SEC_POR as NO_SEC from ncm \")\n",
    "ncm_sh_ptbr.show(20, False)\n",
    "ncm_sh_ptbr.write.parquet(\"s3a://silver/NCM_SH\")"
   ]
  },
  {
   "cell_type": "code",
   "execution_count": 47,
   "id": "7411dd04-b7c1-4f15-a1f4-9c98cfd2767e",
   "metadata": {
    "execution": {
     "iopub.execute_input": "2021-10-26T00:59:19.412138Z",
     "iopub.status.busy": "2021-10-26T00:59:19.411142Z",
     "iopub.status.idle": "2021-10-26T01:00:45.061486Z",
     "shell.execute_reply": "2021-10-26T01:00:45.058960Z",
     "shell.execute_reply.started": "2021-10-26T00:59:19.412063Z"
    },
    "tags": []
   },
   "outputs": [
    {
     "name": "stderr",
     "output_type": "stream",
     "text": [
      "                                                                                \r"
     ]
    },
    {
     "name": "stdout",
     "output_type": "stream",
     "text": [
      "+------+--------------------+------+--------------------+------+--------------+-------------+--------------------+\n",
      "|CO_SH6|          NO_SH6_ESP|CO_SH4|          NO_SH4_ESP|CO_SH2|    NO_SH2_ESP|CO_NCM_SECROM|          NO_SEC_ESP|\n",
      "+------+--------------------+------+--------------------+------+--------------+-------------+--------------------+\n",
      "| 10110|Caballos y asnos,...|  0101|Caballos, asnos, ...|    01|Animales vivos|            I|Animales vivos y ...|\n",
      "| 10111|Caballos reproduc...|  0101|Caballos, asnos, ...|    01|Animales vivos|            I|Animales vivos y ...|\n",
      "| 10119|Demás caballos, v...|  0101|Caballos, asnos, ...|    01|Animales vivos|            I|Animales vivos y ...|\n",
      "| 10120|Asnos, mulos y bu...|  0101|Caballos, asnos, ...|    01|Animales vivos|            I|Animales vivos y ...|\n",
      "| 10121|Caballos de raza ...|  0101|Caballos, asnos, ...|    01|Animales vivos|            I|Animales vivos y ...|\n",
      "| 10129|Caballos vivos, e...|  0101|Caballos, asnos, ...|    01|Animales vivos|            I|Animales vivos y ...|\n",
      "| 10130|Asnos o mulas, re...|  0101|Caballos, asnos, ...|    01|Animales vivos|            I|Animales vivos y ...|\n",
      "| 10190|Caballos, asnos, ...|  0101|Caballos, asnos, ...|    01|Animales vivos|            I|Animales vivos y ...|\n",
      "| 10210|Bovinos reproduct...|  0102|Animales vivos de...|    01|Animales vivos|            I|Animales vivos y ...|\n",
      "| 10221|El ganado domésti...|  0102|Animales vivos de...|    01|Animales vivos|            I|Animales vivos y ...|\n",
      "| 10229|Otros ganados dom...|  0102|Animales vivos de...|    01|Animales vivos|            I|Animales vivos y ...|\n",
      "| 10231|Buffalos reproduc...|  0102|Animales vivos de...|    01|Animales vivos|            I|Animales vivos y ...|\n",
      "| 10239|      Otros buffalos|  0102|Animales vivos de...|    01|Animales vivos|            I|Animales vivos y ...|\n",
      "| 10290|Bovinos vivos (ex...|  0102|Animales vivos de...|    01|Animales vivos|            I|Animales vivos y ...|\n",
      "| 10310|Porcinos reproduc...|  0103|Animales vivos de...|    01|Animales vivos|            I|Animales vivos y ...|\n",
      "| 10391|Porcinos vivos, d...|  0103|Animales vivos de...|    01|Animales vivos|            I|Animales vivos y ...|\n",
      "| 10392|Porcinos vivos de...|  0103|Animales vivos de...|    01|Animales vivos|            I|Animales vivos y ...|\n",
      "| 10410|        Ovinos vivos|  0104|Animales vivos de...|    01|Animales vivos|            I|Animales vivos y ...|\n",
      "| 10420|      Caprinos vivos|  0104|Animales vivos de...|    01|Animales vivos|            I|Animales vivos y ...|\n",
      "| 10511|Gallos y gallinas...|  0105|Gallos, gallinas,...|    01|Animales vivos|            I|Animales vivos y ...|\n",
      "+------+--------------------+------+--------------------+------+--------------+-------------+--------------------+\n",
      "only showing top 20 rows\n",
      "\n"
     ]
    },
    {
     "name": "stderr",
     "output_type": "stream",
     "text": [
      "                                                                                \r"
     ]
    }
   ],
   "source": [
    "ncm_sh_esp = NCM[['CO_SH6', 'NO_SH6_ESP', 'CO_SH4', 'NO_SH4_ESP', 'CO_SH2', 'NO_SH2_ESP', 'CO_NCM_SECROM', 'NO_SEC_ESP']]\n",
    "ncm_sh_esp.show()\n",
    "ncm_sh_esp.write.parquet(\"s3a://silver/NCM_SH_ESP\")"
   ]
  },
  {
   "cell_type": "code",
   "execution_count": 46,
   "id": "6b1315b4-0ea6-409d-9369-8d42d4fb98e7",
   "metadata": {
    "execution": {
     "iopub.execute_input": "2021-10-26T00:58:00.613693Z",
     "iopub.status.busy": "2021-10-26T00:58:00.610301Z",
     "iopub.status.idle": "2021-10-26T00:59:19.404451Z",
     "shell.execute_reply": "2021-10-26T00:59:19.400786Z",
     "shell.execute_reply.started": "2021-10-26T00:58:00.613596Z"
    },
    "tags": []
   },
   "outputs": [
    {
     "name": "stderr",
     "output_type": "stream",
     "text": [
      "                                                                                \r"
     ]
    },
    {
     "name": "stdout",
     "output_type": "stream",
     "text": [
      "+------+--------------------+------+--------------------+------+------------+-------------+--------------------+\n",
      "|CO_SH6|          NO_SH6_ING|CO_SH4|          NO_SH4_ING|CO_SH2|  NO_SH2_ING|CO_NCM_SECROM|          NO_SEC_ING|\n",
      "+------+--------------------+------+--------------------+------+------------+-------------+--------------------+\n",
      "| 10110|Pure-bred breedin...|  0101|Live horses, asse...|    01|Live animals|            I|Lives animals; An...|\n",
      "| 10111|Pure-bred breedin...|  0101|Live horses, asse...|    01|Live animals|            I|Lives animals; An...|\n",
      "| 10119|   Other live horses|  0101|Live horses, asse...|    01|Live animals|            I|Lives animals; An...|\n",
      "| 10120|Asses, mules and ...|  0101|Live horses, asse...|    01|Live animals|            I|Lives animals; An...|\n",
      "| 10121|Pure-bred breedin...|  0101|Live horses, asse...|    01|Live animals|            I|Lives animals; An...|\n",
      "| 10129|Live horses, exce...|  0101|Live horses, asse...|    01|Live animals|            I|Lives animals; An...|\n",
      "| 10130|Asses/mules, pure...|  0101|Live horses, asse...|    01|Live animals|            I|Lives animals; An...|\n",
      "| 10190|Live horses, asse...|  0101|Live horses, asse...|    01|Live animals|            I|Lives animals; An...|\n",
      "| 10210|Pure-bred breedin...|  0102| Live bovine animals|    01|Live animals|            I|Lives animals; An...|\n",
      "| 10221|Domestic cattle b...|  0102| Live bovine animals|    01|Live animals|            I|Lives animals; An...|\n",
      "| 10229|Other domestic ca...|  0102| Live bovine animals|    01|Live animals|            I|Lives animals; An...|\n",
      "| 10231|Buffalo pure-bred...|  0102| Live bovine animals|    01|Live animals|            I|Lives animals; An...|\n",
      "| 10239|       Other buffalo|  0102| Live bovine animals|    01|Live animals|            I|Lives animals; An...|\n",
      "| 10290|Live bovine anima...|  0102| Live bovine animals|    01|Live animals|            I|Lives animals; An...|\n",
      "| 10310|Pure-bred breedin...|  0103|  Live swine animals|    01|Live animals|            I|Lives animals; An...|\n",
      "| 10391|Live pure-bred sw...|  0103|  Live swine animals|    01|Live animals|            I|Lives animals; An...|\n",
      "| 10392|Live pure-bred sw...|  0103|  Live swine animals|    01|Live animals|            I|Lives animals; An...|\n",
      "| 10410|          Live sheep|  0104|Live sheep and goats|    01|Live animals|            I|Lives animals; An...|\n",
      "| 10420|          Live goats|  0104|Live sheep and goats|    01|Live animals|            I|Lives animals; An...|\n",
      "| 10511|Live fowls of the...|  0105|Live poultry, tha...|    01|Live animals|            I|Lives animals; An...|\n",
      "+------+--------------------+------+--------------------+------+------------+-------------+--------------------+\n",
      "only showing top 20 rows\n",
      "\n"
     ]
    },
    {
     "name": "stderr",
     "output_type": "stream",
     "text": [
      "                                                                                \r"
     ]
    }
   ],
   "source": [
    "ncm_sh_ing = NCM[['CO_SH6', 'NO_SH6_ING', 'CO_SH4', 'NO_SH4_ING', 'CO_SH2', 'NO_SH2_ING', 'CO_NCM_SECROM', 'NO_SEC_ING']]\n",
    "ncm_sh_ing.show()\n",
    "ncm_sh_ing.write.parquet(\"s3a://silver/NCM_SH_ING\")"
   ]
  }
 ],
 "metadata": {
  "kernelspec": {
   "display_name": "Python 3 (ipykernel)",
   "language": "python",
   "name": "python3"
  },
  "language_info": {
   "codemirror_mode": {
    "name": "ipython",
    "version": 3
   },
   "file_extension": ".py",
   "mimetype": "text/x-python",
   "name": "python",
   "nbconvert_exporter": "python",
   "pygments_lexer": "ipython3",
   "version": "3.7.3"
  }
 },
 "nbformat": 4,
 "nbformat_minor": 5
}
