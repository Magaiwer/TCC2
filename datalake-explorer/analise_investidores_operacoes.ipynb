{
 "cells": [
  {
   "cell_type": "markdown",
   "source": [
    "# **Exploração de dados com Apache Spark**\n",
    " Conjunto de dados no formato CSV.\n",
    " \n",
    " 1.   Dataset 1: Investidores do Tesouro direto - https://dados.gov.br/dataset/investidores-do-tesouro-direto/\n",
    " 2.   Dataset 2: Operações no tesouro direto - https://dados.gov.br/dataset/operacoes-do-tesouro-direto/\n",
    "  \n"
   ],
   "metadata": {}
  },
  {
   "cell_type": "markdown",
   "source": [
    "## **Importação da configuração inicial e bibliotecas**"
   ],
   "metadata": {
    "tags": []
   }
  },
  {
   "cell_type": "code",
   "execution_count": 1,
   "source": [
    "from ipynb.fs.full.conf_spark import *\n",
    "from ipynb.fs.full.explorer_utils import *\n",
    "import pandas as pd\n",
    "import pyspark.sql.functions as Func\n",
    "from pyspark.sql.functions import *\n",
    "from pyspark.sql.types import *\n"
   ],
   "outputs": [],
   "metadata": {
    "execution": {
     "iopub.execute_input": "2021-12-14T15:09:37.583524Z",
     "iopub.status.busy": "2021-12-14T15:09:37.581182Z",
     "iopub.status.idle": "2021-12-14T15:09:44.654951Z",
     "shell.execute_reply": "2021-12-14T15:09:44.652235Z",
     "shell.execute_reply.started": "2021-12-14T15:09:37.583360Z"
    },
    "tags": []
   }
  },
  {
   "cell_type": "markdown",
   "source": [
    "## **Inicialização de novas instancias do Spark**"
   ],
   "metadata": {}
  },
  {
   "cell_type": "code",
   "execution_count": 2,
   "source": [
    "spark_settings = SettingsSpark(instance=\"4\", executor_memory=\"512m\")\n",
    "spark_settings.init_minio()\n",
    "spark = spark_settings.builder_conf()"
   ],
   "outputs": [],
   "metadata": {
    "execution": {
     "iopub.status.idle": "2021-12-14T05:26:17.669939Z",
     "shell.execute_reply": "2021-12-14T05:26:17.664974Z",
     "shell.execute_reply.started": "2021-12-14T05:25:28.349400Z"
    },
    "tags": []
   }
  },
  {
   "cell_type": "markdown",
   "source": [
    "## **Carregamento dos arquivos no formato CSV**"
   ],
   "metadata": {
    "tags": []
   }
  },
  {
   "cell_type": "code",
   "execution_count": null,
   "source": [
    "df_operacoes = spark.read.csv(\"s3a://bronze/OperacoesTesouroDireto.csv\", sep=';', inferSchema=True, header=True)"
   ],
   "outputs": [],
   "metadata": {
    "tags": []
   }
  },
  {
   "cell_type": "code",
   "execution_count": null,
   "source": [
    "df_investidores = spark.read.csv(\"s3a://bronze/InvestidoresTesouroDireto.csv\", sep=';', inferSchema=True, header=True, encoding=\"ISO-8859-1\")"
   ],
   "outputs": [],
   "metadata": {
    "tags": []
   }
  },
  {
   "cell_type": "code",
   "execution_count": 5,
   "source": [
    "df_operacoes.printSchema()\n",
    "df_operacoes.show(10)"
   ],
   "outputs": [],
   "metadata": {
    "execution": {
     "iopub.execute_input": "2021-12-01T18:52:04.314019Z",
     "iopub.status.busy": "2021-12-01T18:52:04.306388Z",
     "iopub.status.idle": "2021-12-01T18:52:07.145126Z",
     "shell.execute_reply": "2021-12-01T18:52:07.142639Z",
     "shell.execute_reply.started": "2021-12-01T18:52:04.313914Z"
    },
    "tags": []
   }
  },
  {
   "cell_type": "code",
   "execution_count": 6,
   "source": [
    "df_investidores.printSchema()\n",
    "df_investidores.show(10)"
   ],
   "outputs": [],
   "metadata": {
    "execution": {
     "iopub.execute_input": "2021-12-01T18:52:09.738234Z",
     "iopub.status.busy": "2021-12-01T18:52:09.737500Z",
     "iopub.status.idle": "2021-12-01T18:52:11.828595Z",
     "shell.execute_reply": "2021-12-01T18:52:11.826092Z",
     "shell.execute_reply.started": "2021-12-01T18:52:09.738166Z"
    },
    "tags": []
   }
  },
  {
   "cell_type": "markdown",
   "source": [
    "## **Limpeza,normalização, correção das colunas do data frame operações**"
   ],
   "metadata": {}
  },
  {
   "cell_type": "code",
   "execution_count": 7,
   "source": [
    "df_operacoes_rename= df_operacoes.withColumnRenamed(\"Codigo do Investidor\",\"investidor\") \\\n",
    "        .withColumnRenamed(\"Data da Operacao\",\"dt_operacao\") \\\n",
    "        .withColumnRenamed(\"Tipo Titulo\",\"tipo\") \\\n",
    "        .withColumnRenamed(\"Vencimento do Titulo\",\"dt_vencimento\") \\\n",
    "        .withColumnRenamed(\"Quantidade\",\"qtd\") \\\n",
    "        .withColumnRenamed(\"Valor do Titulo\",\"vlr_titulo\") \\\n",
    "        .withColumnRenamed(\"Valor da Operacao\",\"vlr_operacao\") \\\n",
    "        .withColumnRenamed(\"Tipo da Operacao\",\"tipo_operacao\") \\\n",
    "        .withColumnRenamed(\"Canal da Operacao\", \"canal_operacao\") \n",
    "    \n",
    "df_operacoes_rename.show(10)"
   ],
   "outputs": [],
   "metadata": {
    "execution": {
     "iopub.execute_input": "2021-12-01T18:52:22.763791Z",
     "iopub.status.busy": "2021-12-01T18:52:22.760449Z",
     "iopub.status.idle": "2021-12-01T18:52:24.777064Z",
     "shell.execute_reply": "2021-12-01T18:52:24.775318Z",
     "shell.execute_reply.started": "2021-12-01T18:52:22.763734Z"
    },
    "tags": []
   }
  },
  {
   "cell_type": "markdown",
   "source": [
    "## **Limpeza,normalização, correção das colunas do data frame investidores**"
   ],
   "metadata": {
    "execution": {
     "iopub.execute_input": "2021-12-01T18:20:57.178062Z",
     "iopub.status.busy": "2021-12-01T18:20:57.174548Z",
     "iopub.status.idle": "2021-12-01T18:20:57.216881Z",
     "shell.execute_reply": "2021-12-01T18:20:57.214267Z",
     "shell.execute_reply.started": "2021-12-01T18:20:57.177829Z"
    },
    "tags": []
   }
  },
  {
   "cell_type": "code",
   "execution_count": 8,
   "source": [
    "df_investidores_rename= df_investidores.withColumnRenamed(\"Codigo do Investidor\",\"investidor\") \\\n",
    "        .withColumnRenamed(\"Data de Adesao\",\"dt_adesao\") \\\n",
    "        .withColumnRenamed(\"Estado Civil\",\"estado_civil\") \\\n",
    "        .withColumnRenamed(\"Genero\",\"genero\") \\\n",
    "        .withColumnRenamed(\"Profissao\",\"profissao\") \\\n",
    "        .withColumnRenamed(\"Idade\",\"idade\") \\\n",
    "        .withColumnRenamed(\"UF do Investidor\",\"uf\") \\\n",
    "        .withColumnRenamed(\"Cidade do Investidor\",\"cidade\") \\\n",
    "        .withColumnRenamed(\"Situacao da Conta\", \"situacao_conta\") \\\n",
    "        .withColumnRenamed(\"Operou 12 Meses\", \"operou\") \\\n",
    "        .drop(\"Pais do Investidor\") \n",
    "    \n",
    "df_investidores_rename.show(10, truncate=False)"
   ],
   "outputs": [],
   "metadata": {
    "execution": {
     "iopub.execute_input": "2021-12-01T18:52:28.385731Z",
     "iopub.status.busy": "2021-12-01T18:52:28.382729Z",
     "iopub.status.idle": "2021-12-01T18:52:30.376205Z",
     "shell.execute_reply": "2021-12-01T18:52:30.373285Z",
     "shell.execute_reply.started": "2021-12-01T18:52:28.385673Z"
    },
    "tags": []
   }
  },
  {
   "cell_type": "markdown",
   "source": [
    "## **Gravação dos dados, no datalake no formato parquet**"
   ],
   "metadata": {}
  },
  {
   "cell_type": "code",
   "execution_count": 9,
   "source": [
    "df_operacoes_rename.write.parquet(\"s3a://silver/OperacoesTesouroDireto.parquet\", mode=\"overwrite\")"
   ],
   "outputs": [],
   "metadata": {
    "execution": {
     "iopub.execute_input": "2021-12-01T18:54:50.115205Z",
     "iopub.status.busy": "2021-12-01T18:54:50.112804Z",
     "iopub.status.idle": "2021-12-01T18:58:45.973302Z",
     "shell.execute_reply": "2021-12-01T18:58:45.965298Z",
     "shell.execute_reply.started": "2021-12-01T18:54:50.115063Z"
    },
    "tags": []
   }
  },
  {
   "cell_type": "code",
   "execution_count": 10,
   "source": [
    "df_investidores_rename.write.parquet(\"s3a://silver/InvestidoresTesouroDireto.parquet\", mode=\"overwrite\")"
   ],
   "outputs": [],
   "metadata": {
    "execution": {
     "iopub.execute_input": "2021-12-01T19:02:59.907807Z",
     "iopub.status.busy": "2021-12-01T19:02:59.904963Z",
     "iopub.status.idle": "2021-12-01T19:05:11.413288Z",
     "shell.execute_reply": "2021-12-01T19:05:11.400772Z",
     "shell.execute_reply.started": "2021-12-01T19:02:59.907713Z"
    },
    "tags": []
   }
  },
  {
   "cell_type": "markdown",
   "source": [
    "## **Limpeza e liberação da memória, finalização das instancias do Spark**"
   ],
   "metadata": {}
  },
  {
   "cell_type": "code",
   "execution_count": null,
   "source": [
    "spark_settings.stop()"
   ],
   "outputs": [],
   "metadata": {
    "tags": []
   }
  },
  {
   "cell_type": "code",
   "execution_count": 3,
   "source": [
    "spark_settings = SettingsSpark(instance=\"4\", executor_memory=\"512m\")\n",
    "spark_settings.init_minio()\n",
    "spark = spark_settings.builder_conf()"
   ],
   "outputs": [],
   "metadata": {
    "execution": {
     "iopub.status.idle": "2021-12-14T15:10:51.423161Z",
     "shell.execute_reply": "2021-12-14T15:10:51.419627Z",
     "shell.execute_reply.started": "2021-12-14T15:10:00.999805Z"
    },
    "tags": []
   }
  },
  {
   "cell_type": "markdown",
   "source": [
    "## **Carregamento dos dados no formato parquet**"
   ],
   "metadata": {
    "execution": {
     "iopub.execute_input": "2021-12-01T19:11:38.015457Z",
     "iopub.status.busy": "2021-12-01T19:11:38.014102Z",
     "iopub.status.idle": "2021-12-01T19:11:38.028858Z",
     "shell.execute_reply": "2021-12-01T19:11:38.024291Z",
     "shell.execute_reply.started": "2021-12-01T19:11:38.015387Z"
    },
    "tags": []
   }
  },
  {
   "cell_type": "code",
   "execution_count": 89,
   "source": [
    "custom_schema = StructType([ \\\n",
    "                            StructField(\"investidor\",IntegerType(),True), \\\n",
    "                            StructField(\"dt_operacao\",StringType(),True), \\\n",
    "                            StructField(\"tipo\",StringType(),True), \\\n",
    "                            StructField(\"dt_vencimento\",StringType(),True), \\\n",
    "                            StructField(\"qtd\",FloatType(),True), \\\n",
    "                            StructField(\"vlr_titulo\",DecimalType(),True), \\\n",
    "                            StructField(\"vlr_operacao\",DecimalType(),True), \\\n",
    "                            StructField(\"tipo_operacao\",StringType(),True), \\\n",
    "                            StructField(\"canal_operacao\",StringType(),True), \\\n",
    "  ])\n"
   ],
   "outputs": [],
   "metadata": {
    "execution": {
     "iopub.execute_input": "2021-12-11T20:04:29.780498Z",
     "iopub.status.busy": "2021-12-11T20:04:29.777746Z",
     "iopub.status.idle": "2021-12-11T20:04:29.811655Z",
     "shell.execute_reply": "2021-12-11T20:04:29.798373Z",
     "shell.execute_reply.started": "2021-12-11T20:04:29.780399Z"
    },
    "tags": []
   }
  },
  {
   "cell_type": "code",
   "execution_count": 5,
   "source": [
    "df_ope = spark.read.parquet(\"s3a://silver/OperacoesTesouroDireto.parquet\", inferSchema=True, header=True)\n",
    "df_ope.printSchema()"
   ],
   "outputs": [
    {
     "output_type": "stream",
     "name": "stderr",
     "text": [
      "                                                                                \r"
     ]
    },
    {
     "output_type": "stream",
     "name": "stdout",
     "text": [
      "root\n",
      " |-- investidor: integer (nullable = true)\n",
      " |-- dt_operacao: string (nullable = true)\n",
      " |-- tipo: string (nullable = true)\n",
      " |-- dt_vencimento: string (nullable = true)\n",
      " |-- qtd: string (nullable = true)\n",
      " |-- vlr_titulo: string (nullable = true)\n",
      " |-- vlr_operacao: string (nullable = true)\n",
      " |-- tipo_operacao: string (nullable = true)\n",
      " |-- canal_operacao: string (nullable = true)\n",
      "\n"
     ]
    }
   ],
   "metadata": {
    "execution": {
     "iopub.execute_input": "2021-12-14T17:07:33.191895Z",
     "iopub.status.busy": "2021-12-14T17:07:33.189312Z",
     "iopub.status.idle": "2021-12-14T17:07:58.277528Z",
     "shell.execute_reply": "2021-12-14T17:07:58.273167Z",
     "shell.execute_reply.started": "2021-12-14T17:07:33.191768Z"
    },
    "tags": []
   }
  },
  {
   "cell_type": "markdown",
   "source": [
    "## **Troca da virgula pelo ponto e conversão do atributo para float**"
   ],
   "metadata": {
    "tags": []
   }
  },
  {
   "cell_type": "code",
   "execution_count": 6,
   "source": [
    "df_ope = ( \n",
    "            df_ope\n",
    "              .withColumn('qtd', regexp_replace('qtd', ',', '.').cast('float'))\n",
    "              .withColumn('vlr_titulo', regexp_replace('vlr_titulo', ',', '.').cast('float'))\n",
    "              .withColumn('vlr_operacao', regexp_replace('vlr_operacao', ',', '.').cast('float'))\n",
    "        )\n",
    "df_ope.show()"
   ],
   "outputs": [
    {
     "output_type": "stream",
     "name": "stderr",
     "text": [
      "                                                                                \r"
     ]
    },
    {
     "output_type": "stream",
     "name": "stdout",
     "text": [
      "+----------+-----------+--------------------+-------------+----+----------+------------+-------------+--------------+\n",
      "|investidor|dt_operacao|                tipo|dt_vencimento| qtd|vlr_titulo|vlr_operacao|tipo_operacao|canal_operacao|\n",
      "+----------+-----------+--------------------+-------------+----+----------+------------+-------------+--------------+\n",
      "|    337243| 31/07/2014|Tesouro Prefixado...|   01/01/2025| 3.0|    904.65|     2713.95|            V|             H|\n",
      "|    337243| 31/07/2014|Tesouro Prefixado...|   01/01/2021| 4.0|     935.7|      3742.8|            V|             H|\n",
      "|    337243| 31/07/2014|Tesouro Prefixado...|   01/01/2017|37.0|    978.59|    36207.83|            V|             H|\n",
      "|    337289| 16/07/2014|       Tesouro IPCA+|   15/08/2024| 0.2|   1358.36|      271.67|            C|             S|\n",
      "|    338382| 31/07/2014|   Tesouro Prefixado|   01/01/2017| 5.1|    770.03|     3927.15|            C|             H|\n",
      "|    338382| 31/07/2014|       Tesouro IPCA+|   15/08/2024| 1.2|   1387.32|     1664.78|            C|             H|\n",
      "|    338386| 10/07/2014|       Tesouro IPCA+|   15/05/2019| 1.7|   1871.34|     3181.27|            C|             H|\n",
      "|    338712| 03/07/2014|       Tesouro IPCA+|   15/05/2035| 0.4|    704.47|      281.78|            C|             S|\n",
      "|    338712| 03/07/2014|       Tesouro Selic|   07/03/2017| 0.6|   6197.38|     3718.42|            C|             S|\n",
      "|    338712| 07/07/2014|       Tesouro Selic|   07/03/2017| 0.1|   6199.93|      619.99|            C|             S|\n",
      "|    338921| 10/07/2014|       Tesouro IPCA+|   15/05/2035| 1.0|     700.8|       700.8|            V|             H|\n",
      "|    339016| 07/07/2014|       Tesouro IPCA+|   15/05/2019| 2.0|   1872.14|     3744.28|            C|             H|\n",
      "|    339016| 07/07/2014|       Tesouro IPCA+|   15/08/2024| 1.0|   1357.37|     1357.37|            C|             H|\n",
      "|    339016| 07/07/2014|       Tesouro Selic|   07/03/2017| 1.0|   6199.93|     6199.93|            C|             H|\n",
      "|    339016| 23/07/2014|       Tesouro IPCA+|   15/08/2024| 1.0|    1384.1|      1384.1|            C|             H|\n",
      "|    339016| 23/07/2014|       Tesouro IPCA+|   15/05/2019| 2.0|   1889.48|     3778.96|            C|             H|\n",
      "|    339021| 18/07/2014|       Tesouro IPCA+|   15/05/2019| 2.7|   1867.88|     5043.27|            C|             H|\n",
      "|    340271| 16/07/2014|       Tesouro IPCA+|   15/08/2024| 1.0|   1358.36|     1358.36|            C|             S|\n",
      "|    341274| 10/07/2014|       Tesouro IPCA+|   15/05/2019| 1.3|   1871.34|     2432.74|            C|             S|\n",
      "|    341274| 25/07/2014|       Tesouro IPCA+|   15/05/2019| 1.3|   1901.91|     2472.48|            C|             S|\n",
      "+----------+-----------+--------------------+-------------+----+----------+------------+-------------+--------------+\n",
      "only showing top 20 rows\n",
      "\n"
     ]
    }
   ],
   "metadata": {
    "execution": {
     "iopub.execute_input": "2021-12-14T17:17:53.172857Z",
     "iopub.status.busy": "2021-12-14T17:17:53.162662Z",
     "iopub.status.idle": "2021-12-14T17:18:08.162483Z",
     "shell.execute_reply": "2021-12-14T17:18:08.157702Z",
     "shell.execute_reply.started": "2021-12-14T17:17:53.172696Z"
    },
    "tags": []
   }
  },
  {
   "cell_type": "code",
   "execution_count": 7,
   "source": [
    "df_inv = spark.read.parquet(\"s3a://silver/InvestidoresTesouroDireto.parquet\", inferSchema=True, header=True)"
   ],
   "outputs": [
    {
     "output_type": "stream",
     "name": "stderr",
     "text": [
      "                                                                                \r"
     ]
    }
   ],
   "metadata": {
    "execution": {
     "iopub.execute_input": "2021-12-14T17:18:08.179739Z",
     "iopub.status.busy": "2021-12-14T17:18:08.178718Z",
     "iopub.status.idle": "2021-12-14T17:18:10.296923Z",
     "shell.execute_reply": "2021-12-14T17:18:10.294799Z",
     "shell.execute_reply.started": "2021-12-14T17:18:08.179654Z"
    },
    "tags": []
   }
  },
  {
   "cell_type": "code",
   "execution_count": 13,
   "source": [
    "df_ope.show(10, truncate=False)\n",
    "print((df_ope.count(), len(df_ope.columns)))\n",
    "\n",
    "\n",
    "df_inv.show(10, truncate=False)\n",
    "print((df_inv.count(), len(df_inv.columns)))"
   ],
   "outputs": [
    {
     "output_type": "stream",
     "name": "stderr",
     "text": [
      "                                                                                \r"
     ]
    },
    {
     "output_type": "stream",
     "name": "stdout",
     "text": [
      "+----------+-----------+--------------------------------------+-------------+----+----------+------------+-------------+--------------+\n",
      "|investidor|dt_operacao|tipo                                  |dt_vencimento|qtd |vlr_titulo|vlr_operacao|tipo_operacao|canal_operacao|\n",
      "+----------+-----------+--------------------------------------+-------------+----+----------+------------+-------------+--------------+\n",
      "|337243    |2014-07-31 |Tesouro Prefixado com Juros Semestrais|2025-01-01   |3.0 |904.65    |2713.95     |V            |H             |\n",
      "|337243    |2014-07-31 |Tesouro Prefixado com Juros Semestrais|2021-01-01   |4.0 |935.7     |3742.8      |V            |H             |\n",
      "|337243    |2014-07-31 |Tesouro Prefixado com Juros Semestrais|2017-01-01   |37.0|978.59    |36207.83    |V            |H             |\n",
      "|337289    |2014-07-16 |Tesouro IPCA+                         |2024-08-15   |0.2 |1358.36   |271.67      |C            |S             |\n",
      "|338382    |2014-07-31 |Tesouro Prefixado                     |2017-01-01   |5.1 |770.03    |3927.15     |C            |H             |\n",
      "|338382    |2014-07-31 |Tesouro IPCA+                         |2024-08-15   |1.2 |1387.32   |1664.78     |C            |H             |\n",
      "|338386    |2014-07-10 |Tesouro IPCA+                         |2019-05-15   |1.7 |1871.34   |3181.27     |C            |H             |\n",
      "|338712    |2014-07-03 |Tesouro IPCA+                         |2035-05-15   |0.4 |704.47    |281.78      |C            |S             |\n",
      "|338712    |2014-07-03 |Tesouro Selic                         |2017-03-07   |0.6 |6197.38   |3718.42     |C            |S             |\n",
      "|338712    |2014-07-07 |Tesouro Selic                         |2017-03-07   |0.1 |6199.93   |619.99      |C            |S             |\n",
      "+----------+-----------+--------------------------------------+-------------+----+----------+------------+-------------+--------------+\n",
      "only showing top 10 rows\n",
      "\n"
     ]
    },
    {
     "output_type": "stream",
     "name": "stderr",
     "text": [
      "                                                                                \r"
     ]
    },
    {
     "output_type": "stream",
     "name": "stdout",
     "text": [
      "(14824293, 9)\n"
     ]
    },
    {
     "output_type": "stream",
     "name": "stderr",
     "text": [
      "                                                                                \r"
     ]
    },
    {
     "output_type": "stream",
     "name": "stdout",
     "text": [
      "+----------+----------+-----------------------------------+------+---------------------------------------+-----+---+-------------------+--------------+------+\n",
      "|investidor|dt_adesao |estado_civil                       |genero|profissao                              |idade|uf |cidade             |situacao_conta|operou|\n",
      "+----------+----------+-----------------------------------+------+---------------------------------------+-----+---+-------------------+--------------+------+\n",
      "|164912    |11/12/2008|Casado(a) com brasileiro(a) nato(a)|M     |ENGENHEIRO                             |71   |SP |SAO PAULO          |D             |N     |\n",
      "|165560    |17/12/2008|Solteiro(a)                        |M     |BANCARIO E ECONOMIÁRIO                 |36   |SP |SAO PAULO          |D             |N     |\n",
      "|166190    |22/12/2008|Solteiro(a)                        |F     |OUTROS                                 |67   |SP |SAO PAULO          |D             |N     |\n",
      "|166916    |29/12/2008|Casado(a) com brasileiro(a) nato(a)|M     |BANCARIO E ECONOMIÁRIO                 |57   |SP |SAO PAULO          |D             |N     |\n",
      "|167718    |07/01/2009|Solteiro(a)                        |F     |SERVIDOR PÚBLICO FEDERAL               |60   |SP |SAO PAULO          |D             |N     |\n",
      "|167888    |08/01/2009|Casado(a) com brasileiro(a) nato(a)|F     |ADMINISTRADOR                          |44   |SP |SANTANA DE PARNAIBA|D             |N     |\n",
      "|169303    |19/01/2009|Casado(a) com brasileiro(a) nato(a)|M     |PROFESSOR DE ENSINO SUPERIOR           |49   |SP |SAO PAULO          |D             |N     |\n",
      "|169310    |19/01/2009|Casado(a) com brasileiro(a) nato(a)|F     |COMUNICÓLOGO                           |44   |SP |SAO PAULO          |D             |N     |\n",
      "|169949    |23/01/2009|Casado(a) com brasileiro(a) nato(a)|M     |APOSENTADO (EXCETO FUNCIONÁRIO PÚBLICO)|80   |SP |SAO CAETANO DO SUL |D             |N     |\n",
      "|171574    |06/02/2009|Casado(a) com brasileiro(a) nato(a)|M     |ADMINISTRADOR                          |56   |SP |SAO PAULO          |D             |N     |\n",
      "+----------+----------+-----------------------------------+------+---------------------------------------+-----+---+-------------------+--------------+------+\n",
      "only showing top 10 rows\n",
      "\n"
     ]
    },
    {
     "output_type": "stream",
     "name": "stderr",
     "text": [
      "[Stage 21:==============================================>           (4 + 1) / 5]\r"
     ]
    },
    {
     "output_type": "stream",
     "name": "stdout",
     "text": [
      "(6379965, 10)\n"
     ]
    },
    {
     "output_type": "stream",
     "name": "stderr",
     "text": [
      "                                                                                \r"
     ]
    }
   ],
   "metadata": {
    "execution": {
     "iopub.execute_input": "2021-12-13T22:52:02.367876Z",
     "iopub.status.busy": "2021-12-13T22:52:02.364066Z",
     "iopub.status.idle": "2021-12-13T22:52:22.947594Z",
     "shell.execute_reply": "2021-12-13T22:52:22.922731Z",
     "shell.execute_reply.started": "2021-12-13T22:52:02.367766Z"
    },
    "tags": []
   }
  },
  {
   "cell_type": "markdown",
   "source": [
    "## **Descrição detalhada dos atributos, sumarização**"
   ],
   "metadata": {
    "tags": []
   }
  },
  {
   "cell_type": "code",
   "execution_count": 14,
   "source": [
    "df_ope.summary().show()"
   ],
   "outputs": [
    {
     "output_type": "stream",
     "name": "stderr",
     "text": [
      "                                                                                \r"
     ]
    },
    {
     "output_type": "stream",
     "name": "stdout",
     "text": [
      "+-------+------------------+--------------------+-----------------+------------------+-----------------+-------------+--------------+\n",
      "|summary|        investidor|                tipo|              qtd|        vlr_titulo|     vlr_operacao|tipo_operacao|canal_operacao|\n",
      "+-------+------------------+--------------------+-----------------+------------------+-----------------+-------------+--------------+\n",
      "|  count|          14824293|            14824293|         14824293|          14824293|         14824293|     14824293|      14824293|\n",
      "|   mean|2175826.3546357322|                null|5.097164566018241|3786.9724158629415|9026.036788932619|         null|          null|\n",
      "| stddev|3263910.6732420214|                null|32.01409477538605|3614.1442879275855|41945.91863173377|         null|          null|\n",
      "|    min|                 5|Tesouro IGPM+ com...|             0.01|               0.0|             3.46|            C|             H|\n",
      "|    25%|            530757|                null|             0.08|            809.96|           200.03|         null|          null|\n",
      "|    50%|           1089002|                null|             0.36|           2151.81|           993.44|         null|          null|\n",
      "|    75%|           2307358|                null|             1.93|            8238.4|          4973.06|         null|          null|\n",
      "|    max|          19532097|       Tesouro Selic|          16242.0|           9998.34|      1.4256163E7|            V|             S|\n",
      "+-------+------------------+--------------------+-----------------+------------------+-----------------+-------------+--------------+\n",
      "\n"
     ]
    }
   ],
   "metadata": {
    "execution": {
     "iopub.execute_input": "2021-12-13T22:52:33.811888Z",
     "iopub.status.busy": "2021-12-13T22:52:33.809351Z",
     "iopub.status.idle": "2021-12-13T23:02:05.004998Z",
     "shell.execute_reply": "2021-12-13T23:02:04.999977Z",
     "shell.execute_reply.started": "2021-12-13T22:52:33.811782Z"
    },
    "tags": []
   }
  },
  {
   "cell_type": "code",
   "execution_count": 55,
   "source": [
    "df_inv.summary().show()"
   ],
   "outputs": [
    {
     "output_type": "stream",
     "name": "stderr",
     "text": [
      "                                                                                \r"
     ]
    },
    {
     "output_type": "stream",
     "name": "stdout",
     "text": [
      "+-------+-----------------+----------+--------------------+-------+--------------------+-----------------+-------+-----------------+--------------+-------+\n",
      "|summary|       investidor| dt_adesao|        estado_civil| genero|           profissao|            idade|     uf|           cidade|situacao_conta| operou|\n",
      "+-------+-----------------+----------+--------------------+-------+--------------------+-----------------+-------+-----------------+--------------+-------+\n",
      "|  count|          6379965|   6379965|             6379965|6379965|             6379965|          6379965|6379965|          6379965|       6379965|6379965|\n",
      "|   mean|6450439.424463928|      null|                null|   null|                null|38.19499291924015|   null|5050.363636363636|          null|   null|\n",
      "| stddev|5410288.049595156|      null|                null|   null|                null|12.98399407998351|   null|2490.012741843996|          null|   null|\n",
      "|    min|                3|01/01/1900|Casado(a) com bra...|      F|       ADMINISTRADOR|                0|       |     .SANTO ANDRE|             A|      N|\n",
      "|    25%|          1944593|      null|                null|   null|                null|               29|   null|           3631.0|          null|   null|\n",
      "|    50%|          4832530|      null|                null|   null|                null|               36|   null|           4757.0|          null|   null|\n",
      "|    75%|         10138038|      null|                null|   null|                null|               45|   null|           5508.0|          null|   null|\n",
      "|    max|         19695832|31/12/2020|            Viúvo(a)|      N|VETERINÁRIO E ZOO...|              121|     TO|           ZORTEA|             D|      S|\n",
      "+-------+-----------------+----------+--------------------+-------+--------------------+-----------------+-------+-----------------+--------------+-------+\n",
      "\n"
     ]
    }
   ],
   "metadata": {
    "execution": {
     "iopub.execute_input": "2021-12-01T22:05:01.137162Z",
     "iopub.status.busy": "2021-12-01T22:05:01.130272Z",
     "iopub.status.idle": "2021-12-01T22:11:05.309131Z",
     "shell.execute_reply": "2021-12-01T22:11:05.306192Z",
     "shell.execute_reply.started": "2021-12-01T22:05:01.137056Z"
    },
    "tags": []
   }
  },
  {
   "cell_type": "markdown",
   "source": [
    "## **Detalhamento de valores ausentes, fora do padrão, possiveis ruidos**"
   ],
   "metadata": {}
  },
  {
   "cell_type": "markdown",
   "source": [
    "### **Dataset de operações**"
   ],
   "metadata": {}
  },
  {
   "cell_type": "code",
   "execution_count": 16,
   "source": [
    "df_ope2s = (\n",
    "        df_ope\n",
    "            .withColumn(\"dt_operacao\", to_date(\"dt_operacao\", 'dd/MM/yyyy'))\n",
    "            .withColumn(\"ano_operacao\",lit(year(\"dt_operacao\")))\n",
    "            .withColumn(\"mes_operacao\",lit(month(\"dt_operacao\")))\n",
    "            .withColumn(\"dia_operacao\",lit(dayofmonth(\"dt_operacao\")))\n",
    "    )\n",
    "df_ope2s.show(2)"
   ],
   "outputs": [
    {
     "output_type": "stream",
     "name": "stderr",
     "text": [
      "[Stage 28:>                                                         (0 + 1) / 1]\r"
     ]
    },
    {
     "output_type": "stream",
     "name": "stdout",
     "text": [
      "+----------+-----------+--------------------+-------------+---+----------+------------+-------------+--------------+------------+------------+------------+\n",
      "|investidor|dt_operacao|                tipo|dt_vencimento|qtd|vlr_titulo|vlr_operacao|tipo_operacao|canal_operacao|ano_operacao|mes_operacao|dia_operacao|\n",
      "+----------+-----------+--------------------+-------------+---+----------+------------+-------------+--------------+------------+------------+------------+\n",
      "|    337243| 2014-07-31|Tesouro Prefixado...|   2025-01-01|3.0|    904.65|     2713.95|            V|             H|        2014|           7|          31|\n",
      "|    337243| 2014-07-31|Tesouro Prefixado...|   2021-01-01|4.0|     935.7|      3742.8|            V|             H|        2014|           7|          31|\n",
      "+----------+-----------+--------------------+-------------+---+----------+------------+-------------+--------------+------------+------------+------------+\n",
      "only showing top 2 rows\n",
      "\n"
     ]
    },
    {
     "output_type": "stream",
     "name": "stderr",
     "text": [
      "                                                                                \r"
     ]
    }
   ],
   "metadata": {
    "execution": {
     "iopub.execute_input": "2021-12-13T23:02:13.024719Z",
     "iopub.status.busy": "2021-12-13T23:02:13.022020Z",
     "iopub.status.idle": "2021-12-13T23:02:20.492165Z",
     "shell.execute_reply": "2021-12-13T23:02:20.489584Z",
     "shell.execute_reply.started": "2021-12-13T23:02:13.024642Z"
    },
    "tags": []
   }
  },
  {
   "cell_type": "markdown",
   "source": [
    "#### **Conversão da coluna data operção de string para o tipo date**"
   ],
   "metadata": {}
  },
  {
   "cell_type": "code",
   "execution_count": 8,
   "source": [
    "df_ope = (\n",
    "        df_ope\n",
    "            .withColumn(\"dt_operacao\", to_date(\"dt_operacao\", 'dd/MM/yyyy'))\n",
    "            .withColumn(\"dt_vencimento\", to_date(\"dt_vencimento\", 'dd/MM/yyyy'))\n",
    "    )\n",
    "df_ope.groupBy(year(\"dt_operacao\").alias(\"ano_operacao\")).count().sort(col(\"ano_operacao\").asc()).show()"
   ],
   "outputs": [
    {
     "output_type": "stream",
     "name": "stderr",
     "text": [
      "[Stage 5:>                                                          (0 + 1) / 1]\r"
     ]
    },
    {
     "output_type": "stream",
     "name": "stdout",
     "text": [
      "+------------+-------+\n",
      "|ano_operacao|  count|\n",
      "+------------+-------+\n",
      "|        2014| 440332|\n",
      "|        2015|1055136|\n",
      "|        2016|2344257|\n",
      "|        2017|3422091|\n",
      "|        2018|4061492|\n",
      "|        2019|1217672|\n",
      "|        2020|     62|\n",
      "|        2021|2283251|\n",
      "+------------+-------+\n",
      "\n"
     ]
    },
    {
     "output_type": "stream",
     "name": "stderr",
     "text": [
      "                                                                                \r"
     ]
    }
   ],
   "metadata": {
    "execution": {
     "iopub.execute_input": "2021-12-14T17:18:18.607317Z",
     "iopub.status.busy": "2021-12-14T17:18:18.606368Z",
     "iopub.status.idle": "2021-12-14T17:18:51.825464Z",
     "shell.execute_reply": "2021-12-14T17:18:51.793625Z",
     "shell.execute_reply.started": "2021-12-14T17:18:18.607249Z"
    },
    "tags": []
   }
  },
  {
   "cell_type": "markdown",
   "source": [
    "#### **Particionamento do dataset operações para trabalhar somente com o ano de 2019**"
   ],
   "metadata": {}
  },
  {
   "cell_type": "code",
   "execution_count": 10,
   "source": [
    "df_ope_2019 = df_ope.where(\"dt_operacao between '2019-01-01' and '2019-12-31'\")\n",
    "df_ope_2019.count()"
   ],
   "outputs": [
    {
     "output_type": "stream",
     "name": "stderr",
     "text": [
      "                                                                                \r"
     ]
    },
    {
     "output_type": "execute_result",
     "data": {
      "text/plain": [
       "1217672"
      ]
     },
     "metadata": {},
     "execution_count": 10
    }
   ],
   "metadata": {
    "execution": {
     "iopub.execute_input": "2021-12-14T17:19:33.238682Z",
     "iopub.status.busy": "2021-12-14T17:19:33.236158Z",
     "iopub.status.idle": "2021-12-14T17:19:50.577568Z",
     "shell.execute_reply": "2021-12-14T17:19:50.572479Z",
     "shell.execute_reply.started": "2021-12-14T17:19:33.238538Z"
    },
    "tags": []
   }
  },
  {
   "cell_type": "markdown",
   "source": [
    "#### **Conferencia de valores ausentes**"
   ],
   "metadata": {}
  },
  {
   "cell_type": "code",
   "execution_count": 185,
   "source": [
    "df_ope_2019.where('vlr_titulo = 0').groupBy(\"vlr_titulo\").count().sort(col(\"count\").asc()).show()"
   ],
   "outputs": [
    {
     "output_type": "stream",
     "name": "stderr",
     "text": [
      "[Stage 139:==========================================>              (3 + 1) / 4]\r"
     ]
    },
    {
     "output_type": "stream",
     "name": "stdout",
     "text": [
      "+----------+-----+\n",
      "|vlr_titulo|count|\n",
      "+----------+-----+\n",
      "+----------+-----+\n",
      "\n"
     ]
    },
    {
     "output_type": "stream",
     "name": "stderr",
     "text": [
      "                                                                                \r"
     ]
    }
   ],
   "metadata": {
    "execution": {
     "iopub.execute_input": "2021-12-12T21:49:59.997567Z",
     "iopub.status.busy": "2021-12-12T21:49:59.995839Z",
     "iopub.status.idle": "2021-12-12T21:50:40.250785Z",
     "shell.execute_reply": "2021-12-12T21:50:40.248361Z",
     "shell.execute_reply.started": "2021-12-12T21:49:59.997469Z"
    },
    "tags": []
   }
  },
  {
   "cell_type": "code",
   "execution_count": 186,
   "source": [
    "df_ope_2019.where('vlr_operacao = 0 or vlr_titulo = 0 or qtd = 0').show()"
   ],
   "outputs": [
    {
     "output_type": "stream",
     "name": "stderr",
     "text": [
      "[Stage 143:======================================>                  (2 + 1) / 3]\r"
     ]
    },
    {
     "output_type": "stream",
     "name": "stdout",
     "text": [
      "+----------+-----------+----+-------------+---+----------+------------+-------------+--------------+\n",
      "|investidor|dt_operacao|tipo|dt_vencimento|qtd|vlr_titulo|vlr_operacao|tipo_operacao|canal_operacao|\n",
      "+----------+-----------+----+-------------+---+----------+------------+-------------+--------------+\n",
      "+----------+-----------+----+-------------+---+----------+------------+-------------+--------------+\n",
      "\n"
     ]
    },
    {
     "output_type": "stream",
     "name": "stderr",
     "text": [
      "                                                                                \r"
     ]
    }
   ],
   "metadata": {
    "execution": {
     "iopub.execute_input": "2021-12-12T21:51:09.304421Z",
     "iopub.status.busy": "2021-12-12T21:51:09.299619Z",
     "iopub.status.idle": "2021-12-12T21:55:58.234701Z",
     "shell.execute_reply": "2021-12-12T21:55:58.229663Z",
     "shell.execute_reply.started": "2021-12-12T21:51:09.304168Z"
    },
    "tags": []
   }
  },
  {
   "cell_type": "markdown",
   "source": [
    "#### **Quantidade de operações investimentos por tipo**"
   ],
   "metadata": {}
  },
  {
   "cell_type": "code",
   "execution_count": 208,
   "source": [
    "df_ope_2019.groupBy(\"tipo\").count().sort(col(\"count\").desc()).show(truncate=False)"
   ],
   "outputs": [
    {
     "output_type": "stream",
     "name": "stderr",
     "text": [
      "[Stage 177:==========================================>              (3 + 1) / 4]\r"
     ]
    },
    {
     "output_type": "stream",
     "name": "stdout",
     "text": [
      "+--------------------------------------+------+\n",
      "|tipo                                  |count |\n",
      "+--------------------------------------+------+\n",
      "|Tesouro Selic                         |537903|\n",
      "|Tesouro IPCA+                         |307882|\n",
      "|Tesouro Prefixado                     |212394|\n",
      "|Tesouro IPCA+ com Juros Semestrais    |86299 |\n",
      "|Tesouro Prefixado com Juros Semestrais|73185 |\n",
      "|Tesouro IGPM+ com Juros Semestrais    |9     |\n",
      "+--------------------------------------+------+\n",
      "\n"
     ]
    },
    {
     "output_type": "stream",
     "name": "stderr",
     "text": [
      "                                                                                \r"
     ]
    }
   ],
   "metadata": {
    "execution": {
     "iopub.execute_input": "2021-12-12T23:19:48.717928Z",
     "iopub.status.busy": "2021-12-12T23:19:48.715113Z",
     "iopub.status.idle": "2021-12-12T23:20:07.686584Z",
     "shell.execute_reply": "2021-12-12T23:20:07.678715Z",
     "shell.execute_reply.started": "2021-12-12T23:19:48.717833Z"
    },
    "tags": []
   }
  },
  {
   "cell_type": "markdown",
   "source": [
    "#### **Valor investido por tipo de investimento por tipo**"
   ],
   "metadata": {}
  },
  {
   "cell_type": "code",
   "execution_count": 215,
   "source": [
    "df_ope_2019_sum_tipo = df_ope_2019.groupBy(\"tipo\") \\\n",
    "                                  .agg(sum(\"vlr_operacao\").alias(\"total_operacao\"), \\\n",
    "                                       sum(\"qtd\").alias(\"qtd_operacao\")\n",
    "                                       \n",
    "                                      )"
   ],
   "outputs": [],
   "metadata": {
    "execution": {
     "iopub.execute_input": "2021-12-12T23:27:43.924535Z",
     "iopub.status.busy": "2021-12-12T23:27:43.920704Z",
     "iopub.status.idle": "2021-12-12T23:27:44.030918Z",
     "shell.execute_reply": "2021-12-12T23:27:44.028564Z",
     "shell.execute_reply.started": "2021-12-12T23:27:43.924104Z"
    },
    "tags": []
   }
  },
  {
   "cell_type": "code",
   "execution_count": 216,
   "source": [
    "df_ope_2019_sum_tipo = df_ope_2019_sum_tipo \\\n",
    "                            .withColumn(\"total_operacao\", format_number(\"total_operacao\", 2)) \\\n",
    "                            .withColumn(\"qtd_operacao\", format_number(\"qtd_operacao\", 2))\n",
    "df_ope_2019_sum_tipo.show(truncate=False)"
   ],
   "outputs": [
    {
     "output_type": "stream",
     "name": "stderr",
     "text": [
      "[Stage 183:==========================================>              (3 + 1) / 4]\r"
     ]
    },
    {
     "output_type": "stream",
     "name": "stdout",
     "text": [
      "+--------------------------------------+----------------+------------+\n",
      "|tipo                                  |total_operacao  |qtd_operacao|\n",
      "+--------------------------------------+----------------+------------+\n",
      "|Tesouro IPCA+                         |2,382,022,785.35|1,309,987.34|\n",
      "|Tesouro IPCA+ com Juros Semestrais    |554,618,059.82  |150,502.08  |\n",
      "|Tesouro Prefixado com Juros Semestrais|310,524,740.96  |290,296.29  |\n",
      "|Tesouro IGPM+ com Juros Semestrais    |225,077.99      |42.30       |\n",
      "|Tesouro Selic                         |3,701,598,068.15|373,159.84  |\n",
      "|Tesouro Prefixado                     |1,134,356,247.78|1,652,386.28|\n",
      "+--------------------------------------+----------------+------------+\n",
      "\n"
     ]
    },
    {
     "output_type": "stream",
     "name": "stderr",
     "text": [
      "                                                                                \r"
     ]
    }
   ],
   "metadata": {
    "execution": {
     "iopub.execute_input": "2021-12-12T23:27:47.369359Z",
     "iopub.status.busy": "2021-12-12T23:27:47.366871Z",
     "iopub.status.idle": "2021-12-12T23:30:06.203595Z",
     "shell.execute_reply": "2021-12-12T23:30:06.201055Z",
     "shell.execute_reply.started": "2021-12-12T23:27:47.369301Z"
    },
    "tags": []
   }
  },
  {
   "cell_type": "code",
   "execution_count": 219,
   "source": [
    " df_ope_2019.groupBy([\"investidor\",\"tipo\"]).count().sort(col(\"investidor\")).show(truncate=False)"
   ],
   "outputs": [
    {
     "output_type": "stream",
     "name": "stderr",
     "text": [
      "[Stage 194:==========================================>              (3 + 1) / 4]\r"
     ]
    },
    {
     "output_type": "stream",
     "name": "stdout",
     "text": [
      "+----------+----------------------------------+-----+\n",
      "|investidor|tipo                              |count|\n",
      "+----------+----------------------------------+-----+\n",
      "|5         |Tesouro Prefixado                 |2    |\n",
      "|5         |Tesouro IPCA+ com Juros Semestrais|1    |\n",
      "|12        |Tesouro Prefixado                 |2    |\n",
      "|19        |Tesouro IPCA+ com Juros Semestrais|2    |\n",
      "|20        |Tesouro Selic                     |2    |\n",
      "|26        |Tesouro IPCA+                     |6    |\n",
      "|26        |Tesouro Prefixado                 |1    |\n",
      "|42        |Tesouro Prefixado                 |2    |\n",
      "|54        |Tesouro Prefixado                 |1    |\n",
      "|54        |Tesouro Selic                     |2    |\n",
      "|65        |Tesouro Selic                     |1    |\n",
      "|74        |Tesouro IPCA+                     |1    |\n",
      "|74        |Tesouro IPCA+ com Juros Semestrais|3    |\n",
      "|82        |Tesouro Selic                     |2    |\n",
      "|90        |Tesouro Selic                     |1    |\n",
      "|91        |Tesouro IPCA+                     |4    |\n",
      "|91        |Tesouro Prefixado                 |1    |\n",
      "|93        |Tesouro IPCA+                     |1    |\n",
      "|99        |Tesouro IPCA+                     |11   |\n",
      "|104       |Tesouro Selic                     |1    |\n",
      "+----------+----------------------------------+-----+\n",
      "only showing top 20 rows\n",
      "\n"
     ]
    },
    {
     "output_type": "stream",
     "name": "stderr",
     "text": [
      "                                                                                \r"
     ]
    }
   ],
   "metadata": {
    "execution": {
     "iopub.execute_input": "2021-12-13T02:30:41.087156Z",
     "iopub.status.busy": "2021-12-13T02:30:41.084016Z",
     "iopub.status.idle": "2021-12-13T02:31:14.839822Z",
     "shell.execute_reply": "2021-12-13T02:31:14.835947Z",
     "shell.execute_reply.started": "2021-12-13T02:30:41.087058Z"
    },
    "tags": []
   }
  },
  {
   "cell_type": "markdown",
   "source": [
    "#### **Numero de investidores com operações no dataset no ano de 2019**"
   ],
   "metadata": {}
  },
  {
   "cell_type": "code",
   "execution_count": 224,
   "source": [
    " df_ope_2019.distinct().count()"
   ],
   "outputs": [
    {
     "output_type": "stream",
     "name": "stderr",
     "text": [
      "                                                                                \r"
     ]
    },
    {
     "output_type": "execute_result",
     "data": {
      "text/plain": [
       "1207518"
      ]
     },
     "metadata": {},
     "execution_count": 224
    }
   ],
   "metadata": {
    "execution": {
     "iopub.execute_input": "2021-12-13T02:44:02.494279Z",
     "iopub.status.busy": "2021-12-13T02:44:02.492167Z",
     "iopub.status.idle": "2021-12-13T02:46:00.360803Z",
     "shell.execute_reply": "2021-12-13T02:46:00.358489Z",
     "shell.execute_reply.started": "2021-12-13T02:44:02.494168Z"
    },
    "tags": []
   }
  },
  {
   "cell_type": "code",
   "execution_count": 11,
   "source": [
    "df_ope_2019_investidores = df_ope_2019.select(\"investidor\").distinct()"
   ],
   "outputs": [],
   "metadata": {
    "execution": {
     "iopub.execute_input": "2021-12-14T17:20:25.145080Z",
     "iopub.status.busy": "2021-12-14T17:20:25.139985Z",
     "iopub.status.idle": "2021-12-14T17:20:25.314447Z",
     "shell.execute_reply": "2021-12-14T17:20:25.312538Z",
     "shell.execute_reply.started": "2021-12-14T17:20:25.144972Z"
    },
    "tags": []
   }
  },
  {
   "cell_type": "code",
   "execution_count": null,
   "source": [
    "df_ope_2019_investidores.distinct().count()"
   ],
   "outputs": [
    {
     "output_type": "stream",
     "name": "stderr",
     "text": [
      "                                                                                \r"
     ]
    },
    {
     "output_type": "execute_result",
     "data": {
      "text/plain": [
       "486915"
      ]
     },
     "metadata": {},
     "execution_count": 40
    }
   ],
   "metadata": {
    "execution": {
     "iopub.execute_input": "2021-12-13T03:38:14.632957Z",
     "iopub.status.busy": "2021-12-13T03:38:14.627069Z",
     "iopub.status.idle": "2021-12-13T03:38:36.387034Z",
     "shell.execute_reply": "2021-12-13T03:38:36.372553Z",
     "shell.execute_reply.started": "2021-12-13T03:38:14.632863Z"
    },
    "tags": []
   }
  },
  {
   "cell_type": "markdown",
   "source": [
    "### **Dataset investidores**"
   ],
   "metadata": {}
  },
  {
   "cell_type": "markdown",
   "source": [
    "#### **Conversão do atributo dt_adesao de string para date**"
   ],
   "metadata": {}
  },
  {
   "cell_type": "code",
   "execution_count": 12,
   "source": [
    "df_inv = df_inv.withColumn(\"dt_adesao\", to_date(\"dt_adesao\", 'dd/MM/yyyy'))\n",
    "df_inv.orderBy(['investidor', 'dt_adesao']).show(10, truncate=False)"
   ],
   "outputs": [
    {
     "output_type": "stream",
     "name": "stderr",
     "text": [
      "                                                                                \r"
     ]
    },
    {
     "output_type": "stream",
     "name": "stdout",
     "text": [
      "+----------+----------+-----------------------------------+------+------------------------------------+-----+---+--------------+--------------+------+\n",
      "|investidor|dt_adesao |estado_civil                       |genero|profissao                           |idade|uf |cidade        |situacao_conta|operou|\n",
      "+----------+----------+-----------------------------------+------+------------------------------------+-----+---+--------------+--------------+------+\n",
      "|3         |2006-02-23|Casado(a) com brasileiro(a) nato(a)|M     |ENGENHEIRO                          |48   |MG |BELO HORIZONTE|D             |N     |\n",
      "|5         |2002-01-11|Casado(a) com brasileiro(a) nato(a)|M     |BANCARIO E ECONOMIÁRIO              |53   |SP |SAO PAULO     |D             |N     |\n",
      "|8         |2016-05-24|Casado(a) com brasileiro(a) nato(a)|M     |FUNCIONÁRIO PÚBLICO CIVIL APOSENTADO|85   |MG |BELO HORIZONTE|D             |N     |\n",
      "|9         |2020-02-10|Solteiro(a)                        |M     |ADMINISTRADOR                       |47   |SC |POMERODE      |A             |N     |\n",
      "|10        |2008-11-03|Casado(a) com brasileiro(a) nato(a)|M     |ADVOGADO                            |47   |SC |FLORIANOPOLIS |D             |N     |\n",
      "|10        |2009-10-21|Casado(a) com brasileiro(a) nato(a)|M     |ADVOGADO                            |47   |SC |FLORIANOPOLIS |D             |N     |\n",
      "|10        |2011-01-17|Casado(a) com brasileiro(a) nato(a)|M     |ADVOGADO                            |47   |SC |FLORIANOPOLIS |D             |N     |\n",
      "|10        |2018-12-05|Casado(a) com brasileiro(a) nato(a)|M     |ADVOGADO                            |47   |SC |FLORIANOPOLIS |A             |S     |\n",
      "|11        |2003-09-10|Casado(a) com brasileiro(a) nato(a)|M     |OUTROS                              |83   |RJ |NITEROI       |D             |N     |\n",
      "|17        |2016-05-13|Casado(a) com brasileiro(a) nato(a)|M     |ANALISTA DE SISTEMAS                |47   |MG |BELO HORIZONTE|A             |N     |\n",
      "+----------+----------+-----------------------------------+------+------------------------------------+-----+---+--------------+--------------+------+\n",
      "only showing top 10 rows\n",
      "\n"
     ]
    }
   ],
   "metadata": {
    "execution": {
     "iopub.execute_input": "2021-12-14T17:20:33.810532Z",
     "iopub.status.busy": "2021-12-14T17:20:33.806157Z",
     "iopub.status.idle": "2021-12-14T17:21:04.369695Z",
     "shell.execute_reply": "2021-12-14T17:21:04.352070Z",
     "shell.execute_reply.started": "2021-12-14T17:20:33.810390Z"
    },
    "tags": []
   }
  },
  {
   "cell_type": "markdown",
   "source": [
    "#### **Verificação de cadastros duplicados**"
   ],
   "metadata": {}
  },
  {
   "cell_type": "code",
   "execution_count": 247,
   "source": [
    "df_inv.groupBy(\"investidor\").count().sort(col(\"count\").desc()).show()"
   ],
   "outputs": [
    {
     "output_type": "stream",
     "name": "stderr",
     "text": [
      "[Stage 261:==========================================>              (3 + 1) / 4]\r"
     ]
    },
    {
     "output_type": "stream",
     "name": "stdout",
     "text": [
      "+----------+-----+\n",
      "|investidor|count|\n",
      "+----------+-----+\n",
      "|    444162|   13|\n",
      "|     39094|   13|\n",
      "|     52019|   11|\n",
      "|   4440982|   11|\n",
      "|     36482|   11|\n",
      "|   1564146|   11|\n",
      "|     52949|   10|\n",
      "|    447883|   10|\n",
      "|     75729|   10|\n",
      "|   1308792|   10|\n",
      "|    197889|   10|\n",
      "|    174684|    9|\n",
      "|    147531|    9|\n",
      "|     22051|    9|\n",
      "|   3123050|    9|\n",
      "|     49745|    9|\n",
      "|   2239673|    9|\n",
      "|   3222829|    9|\n",
      "|     98238|    9|\n",
      "|     92101|    9|\n",
      "+----------+-----+\n",
      "only showing top 20 rows\n",
      "\n"
     ]
    },
    {
     "output_type": "stream",
     "name": "stderr",
     "text": [
      "                                                                                \r"
     ]
    }
   ],
   "metadata": {
    "execution": {
     "iopub.execute_input": "2021-12-13T04:57:30.139795Z",
     "iopub.status.busy": "2021-12-13T04:57:30.138198Z",
     "iopub.status.idle": "2021-12-13T04:57:43.673455Z",
     "shell.execute_reply": "2021-12-13T04:57:43.670742Z",
     "shell.execute_reply.started": "2021-12-13T04:57:30.139701Z"
    },
    "tags": []
   }
  },
  {
   "cell_type": "code",
   "execution_count": 33,
   "source": [
    "df_inv.distinct().where(\"investidor = 444162\").orderBy(['investidor', 'dt_adesao']).show()"
   ],
   "outputs": [
    {
     "output_type": "stream",
     "name": "stderr",
     "text": [
      "[Stage 61:==============================================>           (4 + 1) / 5]\r"
     ]
    },
    {
     "output_type": "stream",
     "name": "stdout",
     "text": [
      "+----------+----------+------------+------+----------+-----+---+---------+--------------+------+\n",
      "|investidor| dt_adesao|estado_civil|genero| profissao|idade| uf|   cidade|situacao_conta|operou|\n",
      "+----------+----------+------------+------+----------+-----+---+---------+--------------+------+\n",
      "|    444162|2013-03-13| Solteiro(a)|     M|ECONOMISTA|   26| SP|SAO PAULO|             D|     N|\n",
      "|    444162|2013-08-05| Solteiro(a)|     M|ECONOMISTA|   26| SP|SAO PAULO|             D|     N|\n",
      "|    444162|2014-04-29| Solteiro(a)|     M|ECONOMISTA|   26| SP|SAO PAULO|             D|     N|\n",
      "|    444162|2015-04-06| Solteiro(a)|     M|ECONOMISTA|   26| SP|SAO PAULO|             D|     N|\n",
      "|    444162|2016-03-16| Solteiro(a)|     M|ECONOMISTA|   26| SP|SAO PAULO|             D|     N|\n",
      "|    444162|2016-03-24| Solteiro(a)|     M|ECONOMISTA|   26| SP|SAO PAULO|             D|     N|\n",
      "|    444162|2016-12-29| Solteiro(a)|     M|ECONOMISTA|   26| SP|SAO PAULO|             A|     N|\n",
      "|    444162|2017-04-03| Solteiro(a)|     M|ECONOMISTA|   26| SP|SAO PAULO|             D|     N|\n",
      "|    444162|2018-12-04| Solteiro(a)|     M|ECONOMISTA|   26| SP|SAO PAULO|             A|     N|\n",
      "|    444162|2019-01-02| Solteiro(a)|     M|ECONOMISTA|   26| SP|SAO PAULO|             D|     N|\n",
      "|    444162|2019-01-04| Solteiro(a)|     M|ECONOMISTA|   26| SP|SAO PAULO|             A|     N|\n",
      "|    444162|2019-12-16| Solteiro(a)|     M|ECONOMISTA|   26| SP|SAO PAULO|             A|     N|\n",
      "|    444162|2020-12-15| Solteiro(a)|     M|ECONOMISTA|   26| SP|SAO PAULO|             A|     S|\n",
      "+----------+----------+------------+------+----------+-----+---+---------+--------------+------+\n",
      "\n"
     ]
    },
    {
     "output_type": "stream",
     "name": "stderr",
     "text": [
      "                                                                                \r"
     ]
    }
   ],
   "metadata": {
    "execution": {
     "iopub.execute_input": "2021-12-13T23:36:07.486163Z",
     "iopub.status.busy": "2021-12-13T23:36:07.484017Z",
     "iopub.status.idle": "2021-12-13T23:36:24.448812Z",
     "shell.execute_reply": "2021-12-13T23:36:24.445553Z",
     "shell.execute_reply.started": "2021-12-13T23:36:07.486054Z"
    },
    "tags": []
   }
  },
  {
   "cell_type": "code",
   "execution_count": 24,
   "source": [
    "df_ope.distinct().where(\"investidor = 444162\").show()"
   ],
   "outputs": [
    {
     "output_type": "stream",
     "name": "stderr",
     "text": [
      "[Stage 49:===========================================>              (3 + 1) / 4]\r"
     ]
    },
    {
     "output_type": "stream",
     "name": "stdout",
     "text": [
      "+----------+-----------+--------------------+-------------+----+----------+------------+-------------+--------------+\n",
      "|investidor|dt_operacao|                tipo|dt_vencimento| qtd|vlr_titulo|vlr_operacao|tipo_operacao|canal_operacao|\n",
      "+----------+-----------+--------------------+-------------+----+----------+------------+-------------+--------------+\n",
      "|    444162| 2021-03-31|Tesouro Prefixado...|   2031-01-01|0.03|   1068.77|       32.06|            C|             H|\n",
      "|    444162| 2021-05-24|   Tesouro Prefixado|   2024-07-01|0.04|    783.33|       31.33|            C|             H|\n",
      "|    444162| 2021-05-25|   Tesouro Prefixado|   2024-07-01|0.04|     782.9|       31.31|            C|             H|\n",
      "+----------+-----------+--------------------+-------------+----+----------+------------+-------------+--------------+\n",
      "\n"
     ]
    },
    {
     "output_type": "stream",
     "name": "stderr",
     "text": [
      "                                                                                \r"
     ]
    }
   ],
   "metadata": {
    "execution": {
     "iopub.execute_input": "2021-12-13T23:13:00.974490Z",
     "iopub.status.busy": "2021-12-13T23:13:00.966756Z",
     "iopub.status.idle": "2021-12-13T23:18:14.272505Z",
     "shell.execute_reply": "2021-12-13T23:18:14.268720Z",
     "shell.execute_reply.started": "2021-12-13T23:13:00.974380Z"
    },
    "tags": []
   }
  },
  {
   "cell_type": "markdown",
   "source": [
    "#### **Agrupamento dos dados para visualizar caracteristicas do dataset**"
   ],
   "metadata": {}
  },
  {
   "cell_type": "code",
   "execution_count": 21,
   "source": [
    "df_inv.groupBy(\"estado_civil\").count().sort(col(\"count\").desc()).show(truncate=False)"
   ],
   "outputs": [
    {
     "output_type": "stream",
     "name": "stderr",
     "text": [
      "[Stage 40:==============================================>           (4 + 1) / 5]\r"
     ]
    },
    {
     "output_type": "stream",
     "name": "stdout",
     "text": [
      "+-------------------------------------------+-------+\n",
      "|estado_civil                               |count  |\n",
      "+-------------------------------------------+-------+\n",
      "|Solteiro(a)                                |3227817|\n",
      "|Casado(a) com brasileiro(a) nato(a)        |2405309|\n",
      "|Divorciado(a)                              |381185 |\n",
      "|União estável                              |250776 |\n",
      "|Viúvo(a)                                   |72613  |\n",
      "|Separado judic.                            |41700  |\n",
      "|Desquitado(a)                              |308    |\n",
      "|Casado(a) com estrangeiro(a)               |168    |\n",
      "|Casado(a) com brasileiro(a) naturalizado(a)|86     |\n",
      "|Não se aplica                              |3      |\n",
      "+-------------------------------------------+-------+\n",
      "\n"
     ]
    },
    {
     "output_type": "stream",
     "name": "stderr",
     "text": [
      "                                                                                \r"
     ]
    }
   ],
   "metadata": {
    "execution": {
     "iopub.execute_input": "2021-12-13T23:09:38.923706Z",
     "iopub.status.busy": "2021-12-13T23:09:38.923119Z",
     "iopub.status.idle": "2021-12-13T23:09:47.765164Z",
     "shell.execute_reply": "2021-12-13T23:09:47.753349Z",
     "shell.execute_reply.started": "2021-12-13T23:09:38.923641Z"
    },
    "tags": []
   }
  },
  {
   "cell_type": "code",
   "execution_count": 23,
   "source": [
    "df_inv.groupBy(\"profissao\").count().sort(col(\"count\").desc()).show(1000, truncate=False)"
   ],
   "outputs": [
    {
     "output_type": "stream",
     "name": "stderr",
     "text": [
      "[Stage 48:>                                                         (0 + 1) / 1]\r"
     ]
    },
    {
     "output_type": "stream",
     "name": "stdout",
     "text": [
      "+-------------------------------------------------------------+-------+\n",
      "|profissao                                                    |count  |\n",
      "+-------------------------------------------------------------+-------+\n",
      "|OUTROS                                                       |1452271|\n",
      "|ADMINISTRADOR                                                |429792 |\n",
      "|ENGENHEIRO                                                   |325706 |\n",
      "|ESTUDANTE                                                    |258043 |\n",
      "|ANALISTA DE SISTEMAS                                         |238535 |\n",
      "|EMPRESÁRIO                                                   |231777 |\n",
      "|MÉDICO                                                       |175980 |\n",
      "|ADVOGADO                                                     |173488 |\n",
      "|TRABALHADOR AUTÔNOMO                                         |171420 |\n",
      "|AUXILIAR DE ESCRITÓRIO E ASSEMELHADOS                        |166537 |\n",
      "|BANCARIO E ECONOMIÁRIO                                       |159719 |\n",
      "|APOSENTADO (EXCETO FUNCIONÁRIO PÚBLICO)                      |148447 |\n",
      "|GERENTE                                                      |136795 |\n",
      "|VENDEDOR DE COMÉRCIO VAREJISTA E ATACADISTA                  |117495 |\n",
      "|SERVIDO PÚBLICO ESTADUAL                                     |113778 |\n",
      "|SERVIDOR PÚBLICO FEDERAL                                     |104750 |\n",
      "|MILITAR EM GERAL                                             |93798  |\n",
      "|PROFESSOR DE PRIMEIRO E SEGUNDO GRAUS                        |91292  |\n",
      "|BOLSISTA, ESTAGIÁRIO E ASSEMELHADOS                          |82408  |\n",
      "|CONTADOR                                                     |81876  |\n",
      "|SERVIDOR PÚBLICO MUNICIPAL                                   |64714  |\n",
      "|PROPRIETARIO DE MICROEMPRESAS                                |60007  |\n",
      "|DIRETOR DE EMPRESAS                                          |56975  |\n",
      "|AGENTE ADMINISTRATIVO                                        |54255  |\n",
      "|PROFESSOR DE ENSINO SUPERIOR                                 |50721  |\n",
      "|TÉCNICO DE ELETRICIDADE, ELETRÔNICA E TELECOMUNICAÇÕES       |48378  |\n",
      "|ENFERMEIRO E NUTRICIONISTA                                   |46473  |\n",
      "|PUBLICITÁRIO                                                 |43901  |\n",
      "|ECONOMISTA                                                   |43291  |\n",
      "|ODONTÓLOGO E DENTISTA                                        |42595  |\n",
      "|PROPRIETÁRIO DE ESTABELECIMENTO COMERCIAL                    |41660  |\n",
      "|ARQUITETO                                                    |35552  |\n",
      "|CORRETOR DE IMÓVEIS, SEGUROS, TÍTULOS E VALORES              |35146  |\n",
      "|MOTORISTA DE VEÍCULOS DE TRANSPORTE DE PASSAGEIROS           |35114  |\n",
      "|MECANICO DE MANUTENÇÃO, MONTADOR, PREPARADOR, OPERADOR       |34515  |\n",
      "|PSICÓLOGO                                                    |31453  |\n",
      "|VENDEDOR PRACISTA, REPRESENTANTE COMERCIAL, CAIXEIRO VIAJANTE|28395  |\n",
      "|MOTORISTA DE VEICULOS DE TRANSPORTE DE CARGA                 |28364  |\n",
      "|TRABALHADOR METALÚRGICO E SIDERÚRGICO                        |27676  |\n",
      "|FUNCIONÁRIO PÚBLICO CIVIL APOSENTADO                         |27432  |\n",
      "|FARMACÊUTICO                                                 |27148  |\n",
      "|COORDENADOR E SUPERVISOR                                     |26520  |\n",
      "|PENSIONISTA                                                  |26007  |\n",
      "|ELETRICISTA E ASSEMELHADOS                                   |25812  |\n",
      "|EMPRESÁRIO ARTÍSTICO E PRODUTOR DE ESPETÁCULOS PÚBLICOS      |25660  |\n",
      "|FISIOTERAPEUTA E TERAPEUTA OCUPACIONAL                       |25110  |\n",
      "|TECNÓLOGO                                                    |22126  |\n",
      "|JORNALISTA                                                   |21168  |\n",
      "|AGRONOMO                                                     |20891  |\n",
      "|ESTIVADOR, CARREGADOR, EMBALADOR E ASSEMELHADOS              |20639  |\n",
      "|PROPRIETÁRIO DE ESTABELECIMENTO DE PRESTAÇÃO DE SERVIÇOS     |19993  |\n",
      "|OUTROS TRABALHADORES DE NÍVEL SUPERIOR LIGADOS AO ENSINO     |19653  |\n",
      "|TÉCNICO DE MECÂNICA                                          |16791  |\n",
      "|VETERINÁRIO E ZOOTECNISTA                                    |16758  |\n",
      "|SUPERIOR, INSPETOR E AGENTE DE COMPRAS E VENDAS              |16501  |\n",
      "|CABELEIREIRO, BARBEIRO, MANICURE, PEDICURE, MAQUILADOR       |16068  |\n",
      "|SECRETARIO, ESTENÓGRAFO, DATILÓGRAFO, RECEPCIONISTA,TELEF.   |16061  |\n",
      "|BIÓLOGO E BIOMÉDICO                                          |15601  |\n",
      "|TRABALHADOR DE CONSTRUÇÃO CIVIL                              |15164  |\n",
      "|MECÂNICO DE MANUTENÇÃO DE VEÍCULOS AUTOMÓVEIS E MÁQUINAS     |13893  |\n",
      "|GOVERNANTA DE HOTEL, CAMAREIRO, PORTEIRO, COZINHEIRO         |10400  |\n",
      "|DESENHISTA INDUSTRIAL                                        |10393  |\n",
      "|MÚSICO                                                       |10082  |\n",
      "|ATLETA PROFISSIONAL E TÉCNICO EM DESPORTOS                   |10065  |\n",
      "|CHEFE INTERMEDIÁRIO                                          |10057  |\n",
      "|FISCAL                                                       |10028  |\n",
      "|CAPITALISTA, RECEBENDO RENDIMENTO DE APLICAÇÃO DE CAPITAL    |9434   |\n",
      "|TÉCNICO DE LABORATÓRIO E RAIO X                              |9417   |\n",
      "|SECURITÁRIO                                                  |9398   |\n",
      "|PILOTO DE AERONAVES                                          |9336   |\n",
      "|QUIMICO                                                      |9271   |\n",
      "|EMPREGADO DOMÉSTICO                                          |9167   |\n",
      "|SERVENTUÁRIO DE JUSTIÇA                                      |8780   |\n",
      "|PORTEIRO DE EDIFÍCIO, ASCENSORISTA, GARAGISTA E FAXINEIRO    |8734   |\n",
      "|CONSULTOR                                                    |8689   |\n",
      "|AGENTE DE VIAGEM E GUIA DE TURISMO                           |8100   |\n",
      "|FEIRANTE                                                     |7785   |\n",
      "|MILITAR REFORMADO                                            |7757   |\n",
      "|ASSISTENTE SOCIAL                                            |7165   |\n",
      "|TRABALHADOR AGRÍCOLA                                         |7156   |\n",
      "|OFICIAIS DAS FORÇAS ARMADAS E FORÇAS AUXILIARES              |6919   |\n",
      "|AUXILIAR DE LABORATORIO                                      |6578   |\n",
      "|TRABALHADOR DOS SERVIÇOS DE CONTABILIDADE, DE CAIXA          |6475   |\n",
      "|TÉCNICO DE QUÍMICA                                           |6405   |\n",
      "|DESENHISTA TÉCNICO                                           |6339   |\n",
      "|PROCURADOR E ASSEMELHADOS                                    |5823   |\n",
      "|PROFISSIONAIS DE LETRAS E DE ARTES                           |5743   |\n",
      "|TRABALHADOR DE FABRICAÇÃO DE PRODUTOS DE BORRACHA E PLÁSTICO |5610   |\n",
      "|RELAÇÕES PÚBLICAS                                            |5356   |\n",
      "|DECORADOR                                                    |4650   |\n",
      "|TRABALHADOR DE FABRICAÇÃO E PREPARAÇÃO DE ALIMENTOS BEBIDAS  |4292   |\n",
      "|GEÓLOGO                                                      |4223   |\n",
      "|PROPRIETÁRIO DE IMÓVEL (RECEBENDO RENDIMENTO DE ALUGUEL)     |4024   |\n",
      "|ESCULTOR, PINTOR E ASSEMELHADOS                              |3913   |\n",
      "|DELEGADO DE POLÍCIA                                          |3866   |\n",
      "|BOMBEIRO                                                     |3806   |\n",
      "|PROPRIETÁRIO DE ESTABELECIMENTO AGRÍCOLA, DA PECUÁRIA        |3763   |\n",
      "|AGENCIADOR DE PROPAGANDA                                     |3694   |\n",
      "|FONOAUDIÓLOGO                                                |3642   |\n",
      "|SACERDOTE OU MEMBRO DE ORDENS OU SEITAS RELIGIOSAS           |3491   |\n",
      "|COMISSÁRIO DE BORDO                                          |3477   |\n",
      "|TRABALHADOR DE USINAGEM E METAIS                             |3462   |\n",
      "|DESENHISTA COMERCIAL                                         |3453   |\n",
      "|TRABALHADOR DE ARTES GRÁFICAS                                |3441   |\n",
      "|TÉCNICO DE CONTABILIDADE E DE ESTATÍSTICA                    |3309   |\n",
      "|ELETRICISTA DE MANUTENÇÃO DE VEÍCULOS AUTOMOTORES MÁQUINAS   |3100   |\n",
      "|DESPACHANTE, INCLUSIVE O ADUANEIRO                           |3055   |\n",
      "|ATOR E DIRETOR DE ESPETÁCULOS PÚBLICOS                       |2929   |\n",
      "|COMUNICÓLOGO                                                 |2902   |\n",
      "|PROFISSIONAL LIBERAL                                         |2850   |\n",
      "|BIBLIOTECÁRIO, ARQUIVISTA, MUSEÓLOGO E ARQUEÓLOGO            |2841   |\n",
      "|PROPRIETÁRIO DE ESTABELECIMENTO INDUSTRIAL                   |2785   |\n",
      "|FÍSICO                                                       |2704   |\n",
      "|TRABALHADOR DE INSTALAÇÕES DE PROCESSAMENTO QUÍMICO          |2666   |\n",
      "|CANTOR E COMPOSITOR                                          |2651   |\n",
      "|MEMBRO DO PODER JUDICIÁRIO: MINISTRO DE TRIB. SUPERIOR       |2641   |\n",
      "|DIRETOR DE ESTABELECIMENTO DE ENSINO                         |2548   |\n",
      "|ESTATÍSTICO                                                  |2400   |\n",
      "|TRABALHADOR DE FABRICAÇÃO DE PRODUTOS TÊXTEIS                |2329   |\n",
      "|TRABALHADOR DA PECUÁRIA                                      |2295   |\n",
      "|ALFAIATE                                                     |2294   |\n",
      "|LOCUTOR E COMENTARISTA DE RÁDIO E TELEVISÃO E RADIALISTA     |2252   |\n",
      "|MARINHEIRO E ASSEMELHADOS                                    |2181   |\n",
      "|ATUÁRIO E MATEMÁTICO                                         |2151   |\n",
      "|MESTRE E CONTRAMESTRE                                        |2103   |\n",
      "|TÉCNICO EM AGRONOMIA E AGRIMENSURA                           |2088   |\n",
      "|OPERADOR DE CÂMARA DE CINEMA E TELEVISÃO                     |1775   |\n",
      "|TABELIÃO                                                     |1770   |\n",
      "|LANTERNEIRO E PINTOR DE VEÍCULOS METÁLICOS                   |1635   |\n",
      "|PROTÉTICO                                                    |1628   |\n",
      "|TRABALHADOR DE FABRICAÇÃO DE PAPEL E PAPELÃO                 |1563   |\n",
      "|MODELO DE MODAS                                              |1561   |\n",
      "|TRABALHADOR DE FABRICAÇÃO DE ROUPAS                          |1494   |\n",
      "|SOCIÓLOGO                                                    |1493   |\n",
      "|TRABALHADOR DE FABRICAÇÃO DE ARTEFATOS DE MADEIRA            |1462   |\n",
      "|GEÓGRAFO                                                     |1348   |\n",
      "|OCUPANTE DE CARGO DE DIREÇAO E ASSESSORAMENTO INTERMEDIÁRIO  |1308   |\n",
      "|MAQUINISTA E FOGUISTA DE EMBARCAÇÕES, LOCOMOTIVAS            |1214   |\n",
      "|MEMBRO DO PODER EXECUTIVO: PRES.REPÚBLICA, MINISTRO ETC.     |1169   |\n",
      "|OCUPANTE DE CARGO DE DIREÇAO E ASSESSORAMENTO SUPERIOR       |1148   |\n",
      "|COMANDANTE DE EMBARCAÇOES                                    |1095   |\n",
      "|DIPLOMATA                                                    |1074   |\n",
      "|JOALHEIROS E OURIVES                                         |969    |\n",
      "|AGENTE DE SERVIÇOS FUNERÁRIOS E EMBALSAMADOR                 |951    |\n",
      "|TÉCNICO DE BIOLOGIA                                          |706    |\n",
      "|TRABALHADOR DE FABRICAÇÃO DE CALÇADOS E ARTEFATOS DE COURO   |642    |\n",
      "|TRABALHADOR DA PESCA                                         |632    |\n",
      "|ASTRÔNOMO E METEOROLOGISTA                                   |592    |\n",
      "|COREÓGRAFO E BAILARINO                                       |533    |\n",
      "|FALECIDO                                                     |520    |\n",
      "|LEILOEIRO, AVALIADOR E ASSEMELHADOS                          |507    |\n",
      "|DEMONSTRADOR                                                 |477    |\n",
      "|TRABALHADOR FLORESTAL                                        |463    |\n",
      "|MEMBRO DO PODER LEGISLATIVO: SENADOR, DEP.FED.E ESTADUAL     |449    |\n",
      "|GARIMPEIRO                                                   |368    |\n",
      "|JORNALEIRO                                                   |310    |\n",
      "|CONTRAMESTRE DE EMBARCAÇÕES                                  |182    |\n",
      "|TRABALHADOR DE TRATAMENTO DE FUMO E DE FABR. CIGARROS        |103    |\n",
      "|Não se aplica                                                |3      |\n",
      "+-------------------------------------------------------------+-------+\n",
      "\n"
     ]
    },
    {
     "output_type": "stream",
     "name": "stderr",
     "text": [
      "                                                                                \r"
     ]
    }
   ],
   "metadata": {
    "execution": {
     "iopub.execute_input": "2021-12-13T23:09:57.126698Z",
     "iopub.status.busy": "2021-12-13T23:09:57.124967Z",
     "iopub.status.idle": "2021-12-13T23:10:09.727436Z",
     "shell.execute_reply": "2021-12-13T23:10:09.724966Z",
     "shell.execute_reply.started": "2021-12-13T23:09:57.126630Z"
    },
    "tags": []
   }
  },
  {
   "cell_type": "code",
   "execution_count": 232,
   "source": [
    "df_inv.groupBy(\"situacao_conta\").count().sort(col(\"count\").desc()).show()"
   ],
   "outputs": [
    {
     "output_type": "stream",
     "name": "stderr",
     "text": [
      "[Stage 232:=============================================>           (4 + 1) / 5]\r"
     ]
    },
    {
     "output_type": "stream",
     "name": "stdout",
     "text": [
      "+--------------+-------+\n",
      "|situacao_conta|  count|\n",
      "+--------------+-------+\n",
      "|             A|5490438|\n",
      "|             D| 889527|\n",
      "+--------------+-------+\n",
      "\n"
     ]
    },
    {
     "output_type": "stream",
     "name": "stderr",
     "text": [
      "                                                                                \r"
     ]
    }
   ],
   "metadata": {
    "execution": {
     "iopub.execute_input": "2021-12-13T03:45:46.070791Z",
     "iopub.status.busy": "2021-12-13T03:45:46.062070Z",
     "iopub.status.idle": "2021-12-13T03:45:50.073117Z",
     "shell.execute_reply": "2021-12-13T03:45:50.071147Z",
     "shell.execute_reply.started": "2021-12-13T03:45:46.070712Z"
    },
    "tags": []
   }
  },
  {
   "cell_type": "code",
   "execution_count": 236,
   "source": [
    "df_inv.groupBy(\"uf\").count().sort(col(\"count\").desc()).show(30)"
   ],
   "outputs": [
    {
     "output_type": "stream",
     "name": "stderr",
     "text": [
      "[Stage 244:=============================================>           (4 + 1) / 5]\r"
     ]
    },
    {
     "output_type": "stream",
     "name": "stdout",
     "text": [
      "+---+-------+\n",
      "| uf|  count|\n",
      "+---+-------+\n",
      "| SP|2551642|\n",
      "| RJ| 714721|\n",
      "| MG| 569462|\n",
      "| PR| 391505|\n",
      "| RS| 306542|\n",
      "| SC| 260546|\n",
      "| BA| 208599|\n",
      "| DF| 191793|\n",
      "| GO| 159480|\n",
      "| PE| 155716|\n",
      "| CE| 130698|\n",
      "| ES| 119211|\n",
      "| PA|  82782|\n",
      "| MT|  72638|\n",
      "| AM|  63153|\n",
      "| MS|  60379|\n",
      "| MA|  55070|\n",
      "| RN|  53088|\n",
      "| PB|  52972|\n",
      "| AL|  37253|\n",
      "| SE|  34818|\n",
      "| PI|  31881|\n",
      "| RO|  28339|\n",
      "| TO|  19994|\n",
      "| AP|   9697|\n",
      "| AC|   9573|\n",
      "| RR|   8410|\n",
      "|   |      3|\n",
      "+---+-------+\n",
      "\n"
     ]
    },
    {
     "output_type": "stream",
     "name": "stderr",
     "text": [
      "                                                                                \r"
     ]
    }
   ],
   "metadata": {
    "execution": {
     "iopub.execute_input": "2021-12-13T03:47:59.252879Z",
     "iopub.status.busy": "2021-12-13T03:47:59.250552Z",
     "iopub.status.idle": "2021-12-13T03:48:04.265731Z",
     "shell.execute_reply": "2021-12-13T03:48:04.260887Z",
     "shell.execute_reply.started": "2021-12-13T03:47:59.252785Z"
    },
    "tags": []
   }
  },
  {
   "cell_type": "markdown",
   "source": [
    "#### **Seleção dos investidores que investiram no ano de 2019**"
   ],
   "metadata": {}
  },
  {
   "cell_type": "code",
   "execution_count": 13,
   "source": [
    "df_inv.createOrReplaceTempView(\"investidor\")\n",
    "df_ope_2019_investidores.createOrReplaceTempView(\"investidor_2019\")\n",
    "\n",
    "df_investidores_2019 = spark.sql(\"\"\"SELECT i.* \n",
    "                                      FROM investidor I\n",
    "                                     INNER JOIN investidor_2019 iv\n",
    "                                        ON i.investidor = iv.investidor\n",
    "                                     WHERE i.situacao_conta = 'A'\n",
    "                                 \"\"\")"
   ],
   "outputs": [],
   "metadata": {
    "execution": {
     "iopub.execute_input": "2021-12-14T17:22:05.287434Z",
     "iopub.status.busy": "2021-12-14T17:22:05.284889Z",
     "iopub.status.idle": "2021-12-14T17:22:05.810367Z",
     "shell.execute_reply": "2021-12-14T17:22:05.808416Z",
     "shell.execute_reply.started": "2021-12-14T17:22:05.287321Z"
    },
    "tags": []
   }
  },
  {
   "cell_type": "code",
   "execution_count": 42,
   "source": [
    "df_investidores_2019.distinct().count()"
   ],
   "outputs": [
    {
     "output_type": "stream",
     "name": "stderr",
     "text": [
      "                                                                                \r"
     ]
    },
    {
     "output_type": "execute_result",
     "data": {
      "text/plain": [
       "445548"
      ]
     },
     "metadata": {},
     "execution_count": 42
    }
   ],
   "metadata": {
    "execution": {
     "iopub.execute_input": "2021-12-13T23:56:05.147524Z",
     "iopub.status.busy": "2021-12-13T23:56:05.146656Z",
     "iopub.status.idle": "2021-12-13T23:56:54.328089Z",
     "shell.execute_reply": "2021-12-13T23:56:54.323611Z",
     "shell.execute_reply.started": "2021-12-13T23:56:05.147465Z"
    },
    "tags": []
   }
  },
  {
   "cell_type": "markdown",
   "source": [
    "#### **Binning atributo estado_civil**\n",
    " - Conversão do dataframe para pandas\n",
    " - Realização do binning dos atributos\n",
    " - Conversão novamente para spark"
   ],
   "metadata": {}
  },
  {
   "cell_type": "code",
   "execution_count": 14,
   "source": [
    "df_investidores_2019_pd = df_investidores_2019.toPandas()\n",
    "\n",
    "df_investidores_2019_pd.loc[df_investidores_2019_pd['estado_civil'] == 'Casado(a) com brasileiro(a) nato(a)', 'estado_civil'] = 'Casado'\n",
    "df_investidores_2019_pd.loc[df_investidores_2019_pd['estado_civil'] == 'Casado(a) com estrangeiro(a)', 'estado_civil'] = 'Casado'\n",
    "df_investidores_2019_pd.loc[df_investidores_2019_pd['estado_civil'] == 'Casado(a) com brasileiro(a) naturalizado(a)', 'estado_civil'] = 'Casado'\n",
    "df_investidores_2019_pd.loc[df_investidores_2019_pd['estado_civil'] == 'Divorciado(a)', 'estado_civil'] = 'Separado'\n",
    "df_investidores_2019_pd.loc[df_investidores_2019_pd['estado_civil'] == 'Desquitado(a)', 'estado_civil'] = 'Separado'\n",
    "df_investidores_2019_pd.loc[df_investidores_2019_pd['estado_civil'] == 'Separado judic.', 'estado_civil'] = 'Separado'\n",
    "df_investidores_2019_pd.loc[df_investidores_2019_pd['estado_civil'] == 'Não se aplica', 'estado_civil'] = 'Solteiro(a)'\n"
   ],
   "outputs": [
    {
     "output_type": "stream",
     "name": "stderr",
     "text": [
      "                                                                                \r"
     ]
    }
   ],
   "metadata": {
    "execution": {
     "iopub.execute_input": "2021-12-14T17:22:13.209992Z",
     "iopub.status.busy": "2021-12-14T17:22:13.206611Z",
     "iopub.status.idle": "2021-12-14T17:23:30.399799Z",
     "shell.execute_reply": "2021-12-14T17:23:30.397739Z",
     "shell.execute_reply.started": "2021-12-14T17:22:13.209881Z"
    },
    "tags": []
   }
  },
  {
   "cell_type": "code",
   "execution_count": 46,
   "source": [
    "df_investidores_2019_pd.groupby(['estado_civil']).size()"
   ],
   "outputs": [
    {
     "output_type": "execute_result",
     "data": {
      "text/plain": [
       "estado_civil\n",
       "Casado           189069\n",
       "Separado          23235\n",
       "Solteiro(a)      213296\n",
       "União estável     18073\n",
       "Viúvo(a)           3136\n",
       "dtype: int64"
      ]
     },
     "metadata": {},
     "execution_count": 46
    }
   ],
   "metadata": {
    "execution": {
     "iopub.execute_input": "2021-12-14T00:12:34.861890Z",
     "iopub.status.busy": "2021-12-14T00:12:34.859826Z",
     "iopub.status.idle": "2021-12-14T00:12:35.183557Z",
     "shell.execute_reply": "2021-12-14T00:12:35.181906Z",
     "shell.execute_reply.started": "2021-12-14T00:12:34.861819Z"
    },
    "tags": []
   }
  },
  {
   "cell_type": "code",
   "execution_count": 15,
   "source": [
    "df_inv_2019 = spark.createDataFrame(df_investidores_2019_pd)\n",
    "df_inv_2019.show(10)"
   ],
   "outputs": [
    {
     "output_type": "stream",
     "name": "stderr",
     "text": [
      "[Stage 19:>                                                         (0 + 1) / 1]\r"
     ]
    },
    {
     "output_type": "stream",
     "name": "stdout",
     "text": [
      "+----------+----------+------------+------+--------------------+-----+---+--------------+--------------+------+\n",
      "|investidor| dt_adesao|estado_civil|genero|           profissao|idade| uf|        cidade|situacao_conta|operou|\n",
      "+----------+----------+------------+------+--------------------+-----+---+--------------+--------------+------+\n",
      "|       148|2016-10-09|      Casado|     M|              MÉDICO|   37| GO|       GOIANIA|             A|     S|\n",
      "|      4935|2020-06-30|    Separado|     M|SERVIDO PÚBLICO E...|   60| SP|      VALINHOS|             A|     N|\n",
      "|      7754|2018-04-05| Solteiro(a)|     M|           DIPLOMATA|   45| DF|      BRASILIA|             A|     N|\n",
      "|      9852|2018-04-12| Solteiro(a)|     F|SERVENTUÁRIO DE J...|   48| RJ|RIO DE JANEIRO|             A|     N|\n",
      "|     11458|2017-01-02| Solteiro(a)|     M|OFICIAIS DAS FORÇ...|   38| SP|      SOROCABA|             A|     S|\n",
      "|     16339|2018-10-04|    Separado|     F|BANCARIO E ECONOM...|   44| RJ|      MESQUITA|             A|     N|\n",
      "|     18498|2018-01-04|      Casado|     M|ANALISTA DE SISTEMAS|   42| RJ|RIO DE JANEIRO|             A|     S|\n",
      "|     37263|2016-05-31| Solteiro(a)|     M|          ENGENHEIRO|   41| SP|     SAO PAULO|             A|     S|\n",
      "|     24171|2016-01-19|      Casado|     M| DIRETOR DE EMPRESAS|   46| SP|         COTIA|             A|     S|\n",
      "|     26087|2016-12-19|    Separado|     M|          ECONOMISTA|   49| SP|     SAO PAULO|             A|     S|\n",
      "+----------+----------+------------+------+--------------------+-----+---+--------------+--------------+------+\n",
      "only showing top 10 rows\n",
      "\n"
     ]
    },
    {
     "output_type": "stream",
     "name": "stderr",
     "text": [
      "                                                                                \r"
     ]
    }
   ],
   "metadata": {
    "execution": {
     "iopub.execute_input": "2021-12-14T17:23:35.906872Z",
     "iopub.status.busy": "2021-12-14T17:23:35.905712Z",
     "iopub.status.idle": "2021-12-14T17:24:57.178222Z",
     "shell.execute_reply": "2021-12-14T17:24:57.169818Z",
     "shell.execute_reply.started": "2021-12-14T17:23:35.906781Z"
    },
    "tags": []
   }
  },
  {
   "cell_type": "markdown",
   "source": [
    "#### **Divisão dos dados de compra e venda**\n",
    " - Criação do dataframe de compras \n",
    " - Criação do dataframe de vendas\n",
    " - Criação de tabelas temporarias\n",
    " - Junção dos dataframes compras e vendas com dataframe de investidores, criando um novo dataframe"
   ],
   "metadata": {}
  },
  {
   "cell_type": "code",
   "execution_count": 20,
   "source": [
    "df_ope_compra = df_ope_2019.where(\"tipo_operacao = 'C'\").groupBy([\"investidor\"]).agg(sum(\"vlr_operacao\").alias(\"total_compra\"))\n",
    "df_ope_compra.show(5)"
   ],
   "outputs": [
    {
     "output_type": "stream",
     "name": "stderr",
     "text": [
      "[Stage 32:===========================================>              (3 + 1) / 4]\r"
     ]
    },
    {
     "output_type": "stream",
     "name": "stdout",
     "text": [
      "+----------+------------------+\n",
      "|investidor|      total_compra|\n",
      "+----------+------------------+\n",
      "|   1129692|1545.8200073242188|\n",
      "|   1351575|              78.0|\n",
      "|   1357430|   15200.419921875|\n",
      "|   1785671|  11976.9599609375|\n",
      "|   1785907| 495.3999938964844|\n",
      "+----------+------------------+\n",
      "only showing top 5 rows\n",
      "\n"
     ]
    },
    {
     "output_type": "stream",
     "name": "stderr",
     "text": [
      "                                                                                \r"
     ]
    }
   ],
   "metadata": {
    "execution": {
     "iopub.execute_input": "2021-12-14T17:31:41.086620Z",
     "iopub.status.busy": "2021-12-14T17:31:41.083875Z",
     "iopub.status.idle": "2021-12-14T17:32:53.476133Z",
     "shell.execute_reply": "2021-12-14T17:32:53.455711Z",
     "shell.execute_reply.started": "2021-12-14T17:31:41.086489Z"
    },
    "tags": []
   }
  },
  {
   "cell_type": "code",
   "execution_count": 21,
   "source": [
    "df_ope_venda = df_ope_2019.where(\"tipo_operacao = 'V'\").groupBy([\"investidor\"]).agg(sum(\"vlr_operacao\").alias(\"total_venda\"))\n",
    "df_ope_venda.show(5)"
   ],
   "outputs": [
    {
     "output_type": "stream",
     "name": "stderr",
     "text": [
      "[Stage 35:===========================================>              (3 + 1) / 4]\r"
     ]
    },
    {
     "output_type": "stream",
     "name": "stdout",
     "text": [
      "+----------+------------------+\n",
      "|investidor|       total_venda|\n",
      "+----------+------------------+\n",
      "|   1763183|   22205.740234375|\n",
      "|    570049| 205.0199966430664|\n",
      "|   2254551|  65581.5302734375|\n",
      "|   1072364| 621.3800048828125|\n",
      "|   1376376|1315.6300048828125|\n",
      "+----------+------------------+\n",
      "only showing top 5 rows\n",
      "\n"
     ]
    },
    {
     "output_type": "stream",
     "name": "stderr",
     "text": [
      "                                                                                \r"
     ]
    }
   ],
   "metadata": {
    "execution": {
     "iopub.execute_input": "2021-12-14T17:32:53.488533Z",
     "iopub.status.busy": "2021-12-14T17:32:53.487922Z",
     "iopub.status.idle": "2021-12-14T17:34:15.871180Z",
     "shell.execute_reply": "2021-12-14T17:34:15.867475Z",
     "shell.execute_reply.started": "2021-12-14T17:32:53.488436Z"
    },
    "tags": []
   }
  },
  {
   "cell_type": "code",
   "execution_count": 24,
   "source": [
    "df_inv_2019.createOrReplaceTempView(\"investidor\")\n",
    "df_ope_2019.createOrReplaceTempView(\"operacao\")\n",
    "df_ope_compra.createOrReplaceTempView(\"compra\")\n",
    "df_ope_venda.createOrReplaceTempView(\"venda\")\n",
    "df_join_inv_ope =   spark.sql(\"\"\"\n",
    "                              SELECT i.*, \n",
    "                                     c.total_compra,\n",
    "                                     v.total_venda\n",
    "                                FROM investidor i\n",
    "                               INNER JOIN compra c\n",
    "                                  ON i.investidor = c.investidor\n",
    "                               INNER JOIN  venda v\n",
    "                                  ON i.investidor = v.investidor\n",
    "                              \"\"\"\n",
    ")\n",
    "\n",
    "df_join_inv_ope.show(10)"
   ],
   "outputs": [
    {
     "output_type": "stream",
     "name": "stderr",
     "text": [
      "[Stage 46:>                                                         (0 + 1) / 1]\r"
     ]
    },
    {
     "output_type": "stream",
     "name": "stdout",
     "text": [
      "+----------+----------+------------+------+--------------------+-----+---+-------------------+--------------+------+------------------+------------------+\n",
      "|investidor| dt_adesao|estado_civil|genero|           profissao|idade| uf|             cidade|situacao_conta|operou|      total_compra|       total_venda|\n",
      "+----------+----------+------------+------+--------------------+-----+---+-------------------+--------------+------+------------------+------------------+\n",
      "|   1366818|2017-08-07|      Casado|     M|          ENGENHEIRO|   59| SP|          SAO PAULO|             A|     N|   77244.310546875|    9911.490234375|\n",
      "|   1843073|2017-07-04| Solteiro(a)|     M|AUXILIAR DE ESCRI...|   28| SP|            JUNDIAI|             A|     S| 1958.269962310791| 1799.219970703125|\n",
      "|   4276699|2021-03-03| Solteiro(a)|     M|              OUTROS|   30| SP|          SAO PAULO|             A|     N| 298.3800048828125| 791.7299880981445|\n",
      "|   3315319|2018-12-21| Solteiro(a)|     M|           ESTUDANTE|   28| RJ|              AREAL|             A|     N| 75.93000030517578| 75.57000160217285|\n",
      "|   3151160|2018-04-19| Solteiro(a)|     M|          EMPRESÁRIO|   24| MS|            ITAPORA|             A|     N|297.50000762939453|259.62999725341797|\n",
      "|   4569291|2018-12-05| Solteiro(a)|     F|            CONTADOR|   34| SP|         SAO CARLOS|             A|     S|16438.390258789062|     4381.66015625|\n",
      "|    847904|2016-07-22|      Casado|     F|            CONTADOR|   34| SP|SAO JOSE DOS CAMPOS|             A|     N|  59.9900016784668| 394.5899963378906|\n",
      "|   2617766|2018-01-03|      Casado|     M|              OUTROS|   32| BA|       PAULO AFONSO|             A|     N| 75.94999694824219| 528.6500244140625|\n",
      "|   2088518|2018-11-19| Solteiro(a)|     F|              OUTROS|   33| SP|           CAMPINAS|             A|     S| 753.8699951171875|   29821.919921875|\n",
      "|   2259239|2019-09-25|      Casado|     F|          ECONOMISTA|   35| MA|             BALSAS|             A|     N|144.11000061035156|1541.1100387573242|\n",
      "+----------+----------+------------+------+--------------------+-----+---+-------------------+--------------+------+------------------+------------------+\n",
      "only showing top 10 rows\n",
      "\n"
     ]
    },
    {
     "output_type": "stream",
     "name": "stderr",
     "text": [
      "                                                                                \r"
     ]
    }
   ],
   "metadata": {
    "execution": {
     "iopub.execute_input": "2021-12-14T17:38:03.423950Z",
     "iopub.status.busy": "2021-12-14T17:38:03.421683Z",
     "iopub.status.idle": "2021-12-14T17:40:31.483203Z",
     "shell.execute_reply": "2021-12-14T17:40:31.478890Z",
     "shell.execute_reply.started": "2021-12-14T17:38:03.423834Z"
    },
    "tags": []
   }
  },
  {
   "cell_type": "code",
   "execution_count": 62,
   "source": [
    "df_join_inv_ope.where(\"idade < 18\").groupBy(\"idade\").count().orderBy(\"count\", ascending=False).show()"
   ],
   "outputs": [
    {
     "output_type": "stream",
     "name": "stderr",
     "text": [
      "[Stage 168:========================================================(5 + -1) / 4]\r"
     ]
    },
    {
     "output_type": "stream",
     "name": "stdout",
     "text": [
      "+-----+-----+\n",
      "|idade|count|\n",
      "+-----+-----+\n",
      "|    8|    9|\n",
      "|    4|    9|\n",
      "|    5|    8|\n",
      "|   16|    8|\n",
      "|   17|    7|\n",
      "|   10|    6|\n",
      "|    7|    6|\n",
      "|    9|    6|\n",
      "|   12|    5|\n",
      "|    3|    5|\n",
      "|   15|    4|\n",
      "|    6|    4|\n",
      "|   14|    3|\n",
      "|   11|    2|\n",
      "|   13|    2|\n",
      "|    2|    2|\n",
      "+-----+-----+\n",
      "\n"
     ]
    },
    {
     "output_type": "stream",
     "name": "stderr",
     "text": [
      "[Stage 168:========================================================(5 + -1) / 4]\r"
     ]
    }
   ],
   "metadata": {
    "execution": {
     "iopub.execute_input": "2021-12-14T22:15:12.128314Z",
     "iopub.status.busy": "2021-12-14T22:15:12.127079Z",
     "iopub.status.idle": "2021-12-14T22:15:22.438141Z",
     "shell.execute_reply": "2021-12-14T22:15:22.434593Z",
     "shell.execute_reply.started": "2021-12-14T22:15:12.128214Z"
    },
    "tags": []
   }
  },
  {
   "cell_type": "markdown",
   "source": [
    "#### **Transformação das classes de texto para classes numéricas**\n",
    "   - Drop de colunas que não serão utilizadas\n",
    "   - Conversão para pandas\n",
    "   - Conversão para spark"
   ],
   "metadata": {}
  },
  {
   "cell_type": "code",
   "execution_count": 43,
   "source": [
    "from sklearn.preprocessing import LabelEncoder\n",
    "\n",
    "labelencoder1 = LabelEncoder()\n",
    "\n",
    "\n",
    "pd = df_join_inv_ope.toPandas()\n",
    "\n",
    "\n",
    "\n",
    "pd['estado_civil_n'] = labelencoder1.fit_transform(pd['estado_civil'])\n",
    "pd['genero_n'] = labelencoder1.fit_transform(pd['genero'])\n",
    "pd['operou_n'] = labelencoder1.fit_transform(pd['operou'])\n",
    "\n",
    "pd.head()"
   ],
   "outputs": [
    {
     "output_type": "stream",
     "name": "stderr",
     "text": [
      "                                                                                \r"
     ]
    },
    {
     "output_type": "execute_result",
     "data": {
      "text/plain": [
       "   investidor   dt_adesao estado_civil genero  \\\n",
       "0     1366818  2017-08-07       Casado      M   \n",
       "1     1843073  2017-07-04  Solteiro(a)      M   \n",
       "2     4276699  2021-03-03  Solteiro(a)      M   \n",
       "3     3315319  2018-12-21  Solteiro(a)      M   \n",
       "4     3151160  2018-04-19  Solteiro(a)      M   \n",
       "\n",
       "                               profissao  idade  uf     cidade situacao_conta  \\\n",
       "0                             ENGENHEIRO     59  SP  SAO PAULO              A   \n",
       "1  AUXILIAR DE ESCRITÓRIO E ASSEMELHADOS     28  SP    JUNDIAI              A   \n",
       "2                                 OUTROS     30  SP  SAO PAULO              A   \n",
       "3                              ESTUDANTE     28  RJ      AREAL              A   \n",
       "4                             EMPRESÁRIO     24  MS    ITAPORA              A   \n",
       "\n",
       "  operou  total_compra  total_venda  estado_civil_n  genero_n  operou_n  \n",
       "0      N  77244.310547  9911.490234               0         1         0  \n",
       "1      S   1958.269962  1799.219971               2         1         1  \n",
       "2      N    298.380005   791.729988               2         1         0  \n",
       "3      N     75.930000    75.570002               2         1         0  \n",
       "4      N    297.500008   259.629997               2         1         0  "
      ],
      "text/html": [
       "<div>\n",
       "<style scoped>\n",
       "    .dataframe tbody tr th:only-of-type {\n",
       "        vertical-align: middle;\n",
       "    }\n",
       "\n",
       "    .dataframe tbody tr th {\n",
       "        vertical-align: top;\n",
       "    }\n",
       "\n",
       "    .dataframe thead th {\n",
       "        text-align: right;\n",
       "    }\n",
       "</style>\n",
       "<table border=\"1\" class=\"dataframe\">\n",
       "  <thead>\n",
       "    <tr style=\"text-align: right;\">\n",
       "      <th></th>\n",
       "      <th>investidor</th>\n",
       "      <th>dt_adesao</th>\n",
       "      <th>estado_civil</th>\n",
       "      <th>genero</th>\n",
       "      <th>profissao</th>\n",
       "      <th>idade</th>\n",
       "      <th>uf</th>\n",
       "      <th>cidade</th>\n",
       "      <th>situacao_conta</th>\n",
       "      <th>operou</th>\n",
       "      <th>total_compra</th>\n",
       "      <th>total_venda</th>\n",
       "      <th>estado_civil_n</th>\n",
       "      <th>genero_n</th>\n",
       "      <th>operou_n</th>\n",
       "    </tr>\n",
       "  </thead>\n",
       "  <tbody>\n",
       "    <tr>\n",
       "      <th>0</th>\n",
       "      <td>1366818</td>\n",
       "      <td>2017-08-07</td>\n",
       "      <td>Casado</td>\n",
       "      <td>M</td>\n",
       "      <td>ENGENHEIRO</td>\n",
       "      <td>59</td>\n",
       "      <td>SP</td>\n",
       "      <td>SAO PAULO</td>\n",
       "      <td>A</td>\n",
       "      <td>N</td>\n",
       "      <td>77244.310547</td>\n",
       "      <td>9911.490234</td>\n",
       "      <td>0</td>\n",
       "      <td>1</td>\n",
       "      <td>0</td>\n",
       "    </tr>\n",
       "    <tr>\n",
       "      <th>1</th>\n",
       "      <td>1843073</td>\n",
       "      <td>2017-07-04</td>\n",
       "      <td>Solteiro(a)</td>\n",
       "      <td>M</td>\n",
       "      <td>AUXILIAR DE ESCRITÓRIO E ASSEMELHADOS</td>\n",
       "      <td>28</td>\n",
       "      <td>SP</td>\n",
       "      <td>JUNDIAI</td>\n",
       "      <td>A</td>\n",
       "      <td>S</td>\n",
       "      <td>1958.269962</td>\n",
       "      <td>1799.219971</td>\n",
       "      <td>2</td>\n",
       "      <td>1</td>\n",
       "      <td>1</td>\n",
       "    </tr>\n",
       "    <tr>\n",
       "      <th>2</th>\n",
       "      <td>4276699</td>\n",
       "      <td>2021-03-03</td>\n",
       "      <td>Solteiro(a)</td>\n",
       "      <td>M</td>\n",
       "      <td>OUTROS</td>\n",
       "      <td>30</td>\n",
       "      <td>SP</td>\n",
       "      <td>SAO PAULO</td>\n",
       "      <td>A</td>\n",
       "      <td>N</td>\n",
       "      <td>298.380005</td>\n",
       "      <td>791.729988</td>\n",
       "      <td>2</td>\n",
       "      <td>1</td>\n",
       "      <td>0</td>\n",
       "    </tr>\n",
       "    <tr>\n",
       "      <th>3</th>\n",
       "      <td>3315319</td>\n",
       "      <td>2018-12-21</td>\n",
       "      <td>Solteiro(a)</td>\n",
       "      <td>M</td>\n",
       "      <td>ESTUDANTE</td>\n",
       "      <td>28</td>\n",
       "      <td>RJ</td>\n",
       "      <td>AREAL</td>\n",
       "      <td>A</td>\n",
       "      <td>N</td>\n",
       "      <td>75.930000</td>\n",
       "      <td>75.570002</td>\n",
       "      <td>2</td>\n",
       "      <td>1</td>\n",
       "      <td>0</td>\n",
       "    </tr>\n",
       "    <tr>\n",
       "      <th>4</th>\n",
       "      <td>3151160</td>\n",
       "      <td>2018-04-19</td>\n",
       "      <td>Solteiro(a)</td>\n",
       "      <td>M</td>\n",
       "      <td>EMPRESÁRIO</td>\n",
       "      <td>24</td>\n",
       "      <td>MS</td>\n",
       "      <td>ITAPORA</td>\n",
       "      <td>A</td>\n",
       "      <td>N</td>\n",
       "      <td>297.500008</td>\n",
       "      <td>259.629997</td>\n",
       "      <td>2</td>\n",
       "      <td>1</td>\n",
       "      <td>0</td>\n",
       "    </tr>\n",
       "  </tbody>\n",
       "</table>\n",
       "</div>"
      ]
     },
     "metadata": {},
     "execution_count": 43
    }
   ],
   "metadata": {
    "execution": {
     "iopub.execute_input": "2021-12-14T19:49:28.093303Z",
     "iopub.status.busy": "2021-12-14T19:49:28.090908Z",
     "iopub.status.idle": "2021-12-14T19:49:31.251811Z",
     "shell.execute_reply": "2021-12-14T19:49:31.250530Z",
     "shell.execute_reply.started": "2021-12-14T19:49:28.093243Z"
    },
    "tags": []
   }
  },
  {
   "cell_type": "code",
   "execution_count": null,
   "source": [
    "pd.drop(\"situacao_conta\", axis='columns', inplace=True)"
   ],
   "outputs": [],
   "metadata": {
    "tags": []
   }
  },
  {
   "cell_type": "code",
   "execution_count": 50,
   "source": [
    "pd.to_csv(\"/home/notebook/investidores_venda_compra.csv\", sep=\";\", encoding='utf-8')"
   ],
   "outputs": [],
   "metadata": {
    "execution": {
     "iopub.execute_input": "2021-12-14T20:13:17.222418Z",
     "iopub.status.busy": "2021-12-14T20:13:17.219754Z",
     "iopub.status.idle": "2021-12-14T20:13:19.069789Z",
     "shell.execute_reply": "2021-12-14T20:13:19.067736Z",
     "shell.execute_reply.started": "2021-12-14T20:13:17.222312Z"
    },
    "tags": []
   }
  },
  {
   "cell_type": "code",
   "execution_count": 51,
   "source": [
    "df_join_inv_ope = spark.createDataFrame(pd)"
   ],
   "outputs": [],
   "metadata": {
    "execution": {
     "iopub.execute_input": "2021-12-14T20:17:13.959152Z",
     "iopub.status.busy": "2021-12-14T20:17:13.955708Z",
     "iopub.status.idle": "2021-12-14T20:17:29.368554Z",
     "shell.execute_reply": "2021-12-14T20:17:29.366682Z",
     "shell.execute_reply.started": "2021-12-14T20:17:13.958966Z"
    },
    "tags": []
   }
  },
  {
   "cell_type": "markdown",
   "source": [
    "### **Salvamento do arquivo pronto para uso**\n",
    "  Limpeza e liberação da memória, finalização das instancias do Spark"
   ],
   "metadata": {
    "execution": {
     "iopub.execute_input": "2021-12-14T19:03:27.274240Z",
     "iopub.status.busy": "2021-12-14T19:03:27.272323Z",
     "iopub.status.idle": "2021-12-14T19:03:27.326004Z",
     "shell.execute_reply": "2021-12-14T19:03:27.323546Z",
     "shell.execute_reply.started": "2021-12-14T19:03:27.274129Z"
    },
    "tags": []
   }
  },
  {
   "cell_type": "code",
   "execution_count": 52,
   "source": [
    "df_join_inv_ope.write.parquet(\"s3a://silver/investidores_venda_compra\", mode=\"overwrite\")"
   ],
   "outputs": [
    {
     "output_type": "stream",
     "name": "stderr",
     "text": [
      "                                                                                \r"
     ]
    }
   ],
   "metadata": {
    "execution": {
     "iopub.execute_input": "2021-12-14T20:40:41.226899Z",
     "iopub.status.busy": "2021-12-14T20:40:41.224078Z",
     "iopub.status.idle": "2021-12-14T20:41:13.072243Z",
     "shell.execute_reply": "2021-12-14T20:41:13.067315Z",
     "shell.execute_reply.started": "2021-12-14T20:40:41.226775Z"
    },
    "tags": []
   }
  },
  {
   "cell_type": "code",
   "execution_count": null,
   "source": [
    "# Finaliza as instancias\n",
    "spark_settings.stop()"
   ],
   "outputs": [],
   "metadata": {}
  },
  {
   "cell_type": "code",
   "execution_count": null,
   "source": [
    "spark_settings = SettingsSpark(instance=\"4\", executor_memory=\"512m\")\n",
    "spark_settings.init_minio()\n",
    "spark = spark_settings.builder_conf()"
   ],
   "outputs": [],
   "metadata": {}
  },
  {
   "cell_type": "code",
   "execution_count": 3,
   "source": [
    "df_join_inv_ope = spark.read.parquet(\"s3a://silver/investidores_join_operacoes\", inferSchema=True, header=True)"
   ],
   "outputs": [
    {
     "output_type": "stream",
     "name": "stderr",
     "text": [
      "                                                                                \r"
     ]
    }
   ],
   "metadata": {
    "execution": {
     "iopub.execute_input": "2021-12-14T05:26:37.970954Z",
     "iopub.status.busy": "2021-12-14T05:26:37.962196Z",
     "iopub.status.idle": "2021-12-14T05:27:04.685005Z",
     "shell.execute_reply": "2021-12-14T05:27:04.673361Z",
     "shell.execute_reply.started": "2021-12-14T05:26:37.970781Z"
    },
    "tags": []
   }
  },
  {
   "cell_type": "code",
   "execution_count": 31,
   "source": [
    "df_join_inv_ope = spark.read.parquet(\"s3a://silver/investidores_join_operacoes\", inferSchema=True, header=True)\n",
    "df_join_inv_ope.count()"
   ],
   "outputs": [
    {
     "output_type": "stream",
     "name": "stderr",
     "text": [
      "                                                                                \r"
     ]
    },
    {
     "output_type": "execute_result",
     "data": {
      "text/plain": [
       "73172"
      ]
     },
     "metadata": {},
     "execution_count": 31
    }
   ],
   "metadata": {
    "execution": {
     "iopub.execute_input": "2021-12-14T17:52:19.767694Z",
     "iopub.status.busy": "2021-12-14T17:52:19.765004Z",
     "iopub.status.idle": "2021-12-14T17:53:13.622140Z",
     "shell.execute_reply": "2021-12-14T17:53:13.619745Z",
     "shell.execute_reply.started": "2021-12-14T17:52:19.767587Z"
    },
    "tags": []
   }
  },
  {
   "cell_type": "markdown",
   "source": [
    "# **Utilização, análise**"
   ],
   "metadata": {}
  },
  {
   "cell_type": "code",
   "execution_count": 73,
   "source": [
    "import matplotlib \n",
    "from matplotlib import pyplot as plt"
   ],
   "outputs": [
    {
     "output_type": "stream",
     "name": "stderr",
     "text": [
      "[Stage 168:========================================================(5 + -1) / 4]\r"
     ]
    }
   ],
   "metadata": {
    "execution": {
     "iopub.execute_input": "2021-12-14T22:26:27.791133Z",
     "iopub.status.busy": "2021-12-14T22:26:27.788571Z",
     "iopub.status.idle": "2021-12-14T22:26:27.828004Z",
     "shell.execute_reply": "2021-12-14T22:26:27.822149Z",
     "shell.execute_reply.started": "2021-12-14T22:26:27.790954Z"
    },
    "tags": []
   }
  },
  {
   "cell_type": "code",
   "execution_count": 28,
   "source": [
    "pd = df_join_inv_ope.toPandas()"
   ],
   "outputs": [
    {
     "output_type": "stream",
     "name": "stderr",
     "text": [
      "                                                                                \r"
     ]
    }
   ],
   "metadata": {
    "execution": {
     "iopub.execute_input": "2021-12-14T17:51:28.096827Z",
     "iopub.status.busy": "2021-12-14T17:51:28.095718Z",
     "iopub.status.idle": "2021-12-14T17:51:30.941542Z",
     "shell.execute_reply": "2021-12-14T17:51:30.931443Z",
     "shell.execute_reply.started": "2021-12-14T17:51:28.096738Z"
    },
    "tags": []
   }
  },
  {
   "cell_type": "markdown",
   "source": [
    "## **Investimento por genero**"
   ],
   "metadata": {
    "execution": {
     "iopub.execute_input": "2021-12-14T17:51:40.137079Z",
     "iopub.status.busy": "2021-12-14T17:51:40.133493Z",
     "iopub.status.idle": "2021-12-14T17:51:41.793586Z",
     "shell.execute_reply": "2021-12-14T17:51:41.790370Z",
     "shell.execute_reply.started": "2021-12-14T17:51:40.136971Z"
    },
    "tags": []
   }
  },
  {
   "cell_type": "code",
   "execution_count": 67,
   "source": [
    "df_inv_genero = df_join_inv_ope.select(['investidor','genero'])\n"
   ],
   "outputs": [],
   "metadata": {
    "execution": {
     "iopub.execute_input": "2021-12-14T22:23:08.336102Z",
     "iopub.status.busy": "2021-12-14T22:23:08.333324Z",
     "iopub.status.idle": "2021-12-14T22:23:08.415627Z",
     "shell.execute_reply": "2021-12-14T22:23:08.412947Z",
     "shell.execute_reply.started": "2021-12-14T22:23:08.335993Z"
    },
    "tags": []
   }
  },
  {
   "cell_type": "code",
   "execution_count": 75,
   "source": [
    "total = df_inv_genero.count()\n",
    "\n",
    "df_group_genero = df_inv_genero.groupBy('genero') \\\n",
    "              .count() \\\n",
    "              .withColumn('%',Func.round((Func.col('count') / total) * 100, 2)) \\\n",
    "              .orderBy('count', ascending=False)\n",
    "\n",
    "df_group_genero.show()\n",
    "\n",
    "pd_inv_genero = df_group_genero.toPandas()"
   ],
   "outputs": [
    {
     "output_type": "stream",
     "name": "stderr",
     "text": [
      "                                                                                \r"
     ]
    },
    {
     "output_type": "stream",
     "name": "stdout",
     "text": [
      "+------+-----+-----+\n",
      "|genero|count|    %|\n",
      "+------+-----+-----+\n",
      "|     M|56444|77.14|\n",
      "|     F|16728|22.86|\n",
      "+------+-----+-----+\n",
      "\n"
     ]
    },
    {
     "output_type": "stream",
     "name": "stderr",
     "text": [
      "[Stage 168:========================================================(5 + -1) / 4]\r"
     ]
    }
   ],
   "metadata": {
    "execution": {
     "iopub.execute_input": "2021-12-14T22:28:03.907897Z",
     "iopub.status.busy": "2021-12-14T22:28:03.903501Z",
     "iopub.status.idle": "2021-12-14T22:28:07.534965Z",
     "shell.execute_reply": "2021-12-14T22:28:07.532401Z",
     "shell.execute_reply.started": "2021-12-14T22:28:03.907836Z"
    },
    "tags": []
   }
  },
  {
   "cell_type": "code",
   "execution_count": 129,
   "source": [
    "labels = pd_inv_genero['genero']\n",
    "pd_investidor = pd_inv_genero['count']\n",
    "\n",
    "# define o nível de separabilidade entre as partes, ordem do vetor representa as partes\n",
    "explode = (0.1, 0)\n",
    "plt.figure(figsize=(13,6))\n",
    "\n",
    "\n",
    "plt.title('% de investidores agrupados por genero', fontsize=25)\n",
    "\n",
    "# define o formato de visualização com saída em 1.1%%, sombras e a separação entre as partes\n",
    "plt.pie(pd_investidor, labels=pd_investidor, autopct='%1.1f%%', shadow=True, explode=explode)\n",
    "\n",
    "# inseri a legenda e a localização da legenda.\n",
    "plt.legend(['Maculino', 'Feminino'], loc=3)\n",
    "\n",
    "# define que o gráfico será plotado em circulo\n",
    "plt.axis('equal')\n",
    "\n",
    "plt.show()"
   ],
   "outputs": [
    {
     "output_type": "display_data",
     "data": {
      "text/plain": [
       "<Figure size 936x432 with 1 Axes>"
      ],
      "image/png": "[encoded data removed]"
     },
     "metadata": {}
    },
    {
     "output_type": "stream",
     "name": "stderr",
     "text": [
      "[Stage 168:========================================================(5 + -1) / 4]\r"
     ]
    }
   ],
   "metadata": {
    "execution": {
     "iopub.execute_input": "2021-12-16T00:50:28.217965Z",
     "iopub.status.busy": "2021-12-16T00:50:28.210289Z",
     "iopub.status.idle": "2021-12-16T00:50:28.741134Z",
     "shell.execute_reply": "2021-12-16T00:50:28.737966Z",
     "shell.execute_reply.started": "2021-12-16T00:50:28.217852Z"
    },
    "tags": []
   }
  },
  {
   "cell_type": "markdown",
   "source": [
    "## **Investimento por por profissão**"
   ],
   "metadata": {}
  },
  {
   "cell_type": "code",
   "execution_count": 202,
   "source": [
    "df_profissao_vlr_investido = df_join_inv_ope.groupBy(\"profissao\").agg(sum(\"total_compra\").alias(\"vlr_investido\"))\n",
    "\n",
    "pd_profissao = df_profissao_vlr_investido.orderBy('vlr_investido',ascending=False)\n",
    "\n",
    "pd_profissao = pd_profissao.withColumn(\"vlr_investido\", format_number(\"vlr_investido\", 2))"
   ],
   "outputs": [
    {
     "output_type": "stream",
     "name": "stderr",
     "text": [
      "[Stage 168:========================================================(5 + -1) / 4]\r"
     ]
    }
   ],
   "metadata": {
    "execution": {
     "iopub.execute_input": "2021-12-16T01:15:49.772472Z",
     "iopub.status.busy": "2021-12-16T01:15:49.770045Z",
     "iopub.status.idle": "2021-12-16T01:15:50.201184Z",
     "shell.execute_reply": "2021-12-16T01:15:50.195248Z",
     "shell.execute_reply.started": "2021-12-16T01:15:49.772365Z"
    },
    "tags": []
   }
  },
  {
   "cell_type": "code",
   "execution_count": 147,
   "source": [
    "pd_profissao = pd_profissao.toPandas().head(10)\n",
    "pd_profissao"
   ],
   "outputs": [
    {
     "output_type": "stream",
     "name": "stderr",
     "text": [
      "                                                                                \r"
     ]
    },
    {
     "output_type": "execute_result",
     "data": {
      "text/plain": [
       "                                 profissao   vlr_investido\n",
       "0                               ENGENHEIRO  184,223,607.78\n",
       "1                                   OUTROS  151,826,258.91\n",
       "2                            ADMINISTRADOR  115,298,479.53\n",
       "3                                   MÉDICO   93,032,312.96\n",
       "4  APOSENTADO (EXCETO FUNCIONÁRIO PÚBLICO)   84,328,260.54\n",
       "5                     ANALISTA DE SISTEMAS   69,105,722.35\n",
       "6                 SERVIDOR PÚBLICO FEDERAL   66,604,991.15\n",
       "7                               EMPRESÁRIO   53,584,427.97\n",
       "8                                 ADVOGADO   44,969,835.86\n",
       "9                   BANCARIO E ECONOMIÁRIO   41,774,819.37"
      ],
      "text/html": [
       "<div>\n",
       "<style scoped>\n",
       "    .dataframe tbody tr th:only-of-type {\n",
       "        vertical-align: middle;\n",
       "    }\n",
       "\n",
       "    .dataframe tbody tr th {\n",
       "        vertical-align: top;\n",
       "    }\n",
       "\n",
       "    .dataframe thead th {\n",
       "        text-align: right;\n",
       "    }\n",
       "</style>\n",
       "<table border=\"1\" class=\"dataframe\">\n",
       "  <thead>\n",
       "    <tr style=\"text-align: right;\">\n",
       "      <th></th>\n",
       "      <th>profissao</th>\n",
       "      <th>vlr_investido</th>\n",
       "    </tr>\n",
       "  </thead>\n",
       "  <tbody>\n",
       "    <tr>\n",
       "      <th>0</th>\n",
       "      <td>ENGENHEIRO</td>\n",
       "      <td>184,223,607.78</td>\n",
       "    </tr>\n",
       "    <tr>\n",
       "      <th>1</th>\n",
       "      <td>OUTROS</td>\n",
       "      <td>151,826,258.91</td>\n",
       "    </tr>\n",
       "    <tr>\n",
       "      <th>2</th>\n",
       "      <td>ADMINISTRADOR</td>\n",
       "      <td>115,298,479.53</td>\n",
       "    </tr>\n",
       "    <tr>\n",
       "      <th>3</th>\n",
       "      <td>MÉDICO</td>\n",
       "      <td>93,032,312.96</td>\n",
       "    </tr>\n",
       "    <tr>\n",
       "      <th>4</th>\n",
       "      <td>APOSENTADO (EXCETO FUNCIONÁRIO PÚBLICO)</td>\n",
       "      <td>84,328,260.54</td>\n",
       "    </tr>\n",
       "    <tr>\n",
       "      <th>5</th>\n",
       "      <td>ANALISTA DE SISTEMAS</td>\n",
       "      <td>69,105,722.35</td>\n",
       "    </tr>\n",
       "    <tr>\n",
       "      <th>6</th>\n",
       "      <td>SERVIDOR PÚBLICO FEDERAL</td>\n",
       "      <td>66,604,991.15</td>\n",
       "    </tr>\n",
       "    <tr>\n",
       "      <th>7</th>\n",
       "      <td>EMPRESÁRIO</td>\n",
       "      <td>53,584,427.97</td>\n",
       "    </tr>\n",
       "    <tr>\n",
       "      <th>8</th>\n",
       "      <td>ADVOGADO</td>\n",
       "      <td>44,969,835.86</td>\n",
       "    </tr>\n",
       "    <tr>\n",
       "      <th>9</th>\n",
       "      <td>BANCARIO E ECONOMIÁRIO</td>\n",
       "      <td>41,774,819.37</td>\n",
       "    </tr>\n",
       "  </tbody>\n",
       "</table>\n",
       "</div>"
      ]
     },
     "metadata": {},
     "execution_count": 147
    },
    {
     "output_type": "stream",
     "name": "stderr",
     "text": [
      "[Stage 168:========================================================(5 + -1) / 4]\r"
     ]
    }
   ],
   "metadata": {
    "execution": {
     "iopub.execute_input": "2021-12-16T00:59:33.583508Z",
     "iopub.status.busy": "2021-12-16T00:59:33.582110Z",
     "iopub.status.idle": "2021-12-16T00:59:35.344211Z",
     "shell.execute_reply": "2021-12-16T00:59:35.342108Z",
     "shell.execute_reply.started": "2021-12-16T00:59:33.583373Z"
    },
    "tags": []
   }
  },
  {
   "cell_type": "code",
   "execution_count": 201,
   "source": [
    "pd_profissao.sort_index(ascending=False, inplace=True)\n",
    "top_10_profissoes = pd_profissao['profissao']\n",
    "top_10_vlr_investido = pd_profissao['vlr_investido']\n",
    "\n",
    "\n",
    "plt.figure(figsize=(18,6),)\n",
    "\n",
    "plt.title('Top 10 profissões por investimento', fontsize=25)\n",
    "plt.bar(top_10_profissoes, top_10_vlr_investido)\n",
    "\n",
    "plt.xticks(rotation=-80)\n",
    "\n",
    "plt.show()"
   ],
   "outputs": [
    {
     "output_type": "display_data",
     "data": {
      "text/plain": [
       "<Figure size 1296x432 with 1 Axes>"
      ],
      "image/png": "[encoded data removed]"
     },
     "metadata": {
      "needs_background": "light"
     }
    },
    {
     "output_type": "stream",
     "name": "stderr",
     "text": [
      "[Stage 168:========================================================(5 + -1) / 4]\r"
     ]
    }
   ],
   "metadata": {
    "execution": {
     "iopub.execute_input": "2021-12-16T01:12:00.216435Z",
     "iopub.status.busy": "2021-12-16T01:12:00.214936Z",
     "iopub.status.idle": "2021-12-16T01:12:01.039994Z",
     "shell.execute_reply": "2021-12-16T01:12:01.038010Z",
     "shell.execute_reply.started": "2021-12-16T01:12:00.216351Z"
    },
    "tags": []
   }
  },
  {
   "cell_type": "markdown",
   "source": [
    "## **Valor de investimento por estado civil**"
   ],
   "metadata": {}
  },
  {
   "cell_type": "code",
   "execution_count": 240,
   "source": [
    " df_estado_civil = df_join_inv_ope.groupBy('estado_civil').agg(sum('total_compra').alias(\"vlr_investido\"))"
   ],
   "outputs": [],
   "metadata": {
    "execution": {
     "iopub.execute_input": "2021-12-16T03:45:29.289673Z",
     "iopub.status.busy": "2021-12-16T03:45:29.286961Z",
     "iopub.status.idle": "2021-12-16T03:45:29.376090Z",
     "shell.execute_reply": "2021-12-16T03:45:29.374020Z",
     "shell.execute_reply.started": "2021-12-16T03:45:29.289564Z"
    },
    "tags": []
   }
  },
  {
   "cell_type": "code",
   "execution_count": 241,
   "source": [
    "df_estado_civil = df_estado_civil.orderBy('vlr_investido',ascending=False)\n",
    "df_estado_civil = df_estado_civil.withColumn(\"vlr_investido\", format_number(\"vlr_investido\", 2))\n",
    "df_estado_civil.show(100)"
   ],
   "outputs": [
    {
     "output_type": "stream",
     "name": "stderr",
     "text": [
      "[Stage 168:========================================================(5 + -1) / 4]\r"
     ]
    },
    {
     "output_type": "stream",
     "name": "stdout",
     "text": [
      "+-------------+--------------+\n",
      "| estado_civil| vlr_investido|\n",
      "+-------------+--------------+\n",
      "|       Casado|822,026,193.49|\n",
      "|  Solteiro(a)|396,325,679.25|\n",
      "|     Separado| 97,661,766.46|\n",
      "|União estável| 46,592,092.28|\n",
      "|     Viúvo(a)| 21,305,050.52|\n",
      "+-------------+--------------+\n",
      "\n"
     ]
    },
    {
     "output_type": "stream",
     "name": "stderr",
     "text": [
      "[Stage 168:========================================================(5 + -1) / 4]\r"
     ]
    }
   ],
   "metadata": {
    "execution": {
     "iopub.execute_input": "2021-12-16T03:45:31.700456Z",
     "iopub.status.busy": "2021-12-16T03:45:31.699297Z",
     "iopub.status.idle": "2021-12-16T03:45:32.989237Z",
     "shell.execute_reply": "2021-12-16T03:45:32.986889Z",
     "shell.execute_reply.started": "2021-12-16T03:45:31.700362Z"
    },
    "tags": []
   }
  },
  {
   "cell_type": "code",
   "execution_count": 242,
   "source": [
    "pd_estado_civil = df_estado_civil.toPandas()\n",
    "\n",
    "pd_estado_civil.sort_index(ascending=False, inplace=True)\n",
    "estado_civil = pd_estado_civil['estado_civil']\n",
    "vlr_investido = pd_estado_civil['vlr_investido']\n",
    "\n",
    "\n",
    "plt.figure(figsize=(12,6))\n",
    "\n",
    "plt.title('Valor investido por estado civil', fontsize=25)\n",
    "plt.bar(estado_civil , vlr_investido)\n",
    "\n",
    "plt.xticks(rotation=45)\n",
    "\n",
    "plt.show()"
   ],
   "outputs": [
    {
     "output_type": "stream",
     "name": "stderr",
     "text": [
      "                                                                                \r"
     ]
    },
    {
     "output_type": "display_data",
     "data": {
      "text/plain": [
       "<Figure size 864x432 with 1 Axes>"
      ],
      "image/png": "[encoded data removed]"
     },
     "metadata": {
      "needs_background": "light"
     }
    },
    {
     "output_type": "stream",
     "name": "stderr",
     "text": [
      "[Stage 168:========================================================(5 + -1) / 4]\r"
     ]
    }
   ],
   "metadata": {
    "execution": {
     "iopub.execute_input": "2021-12-16T03:45:42.418443Z",
     "iopub.status.busy": "2021-12-16T03:45:42.417691Z",
     "iopub.status.idle": "2021-12-16T03:45:44.716678Z",
     "shell.execute_reply": "2021-12-16T03:45:44.714574Z",
     "shell.execute_reply.started": "2021-12-16T03:45:42.418383Z"
    },
    "tags": []
   }
  }
 ],
 "metadata": {
  "kernelspec": {
   "display_name": "Python 3 (ipykernel)",
   "language": "python",
   "name": "python3"
  },
  "language_info": {
   "codemirror_mode": {
    "name": "ipython",
    "version": 3
   },
   "file_extension": ".py",
   "mimetype": "text/x-python",
   "name": "python",
   "nbconvert_exporter": "python",
   "pygments_lexer": "ipython3",
   "version": "3.7.3"
  },
  "toc-autonumbering": true
 },
 "nbformat": 4,
 "nbformat_minor": 5
}