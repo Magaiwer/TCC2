{
 "cells": [
  {
   "cell_type": "markdown",
   "source": [
    "# **Exploração de dados com Apache Spark**"
   ],
   "metadata": {}
  },
  {
   "cell_type": "markdown",
   "source": [
    "## **Importação da configuração inicial e bibliotecas**"
   ],
   "metadata": {}
  },
  {
   "cell_type": "code",
   "execution_count": null,
   "source": [
    "from ipynb.fs.full.conf_spark import *\n",
    "from ipynb.fs.full.explorer_utils import *\n",
    "import pandas as pd\n",
    "import pyspark.sql.functions \n",
    "from pyspark.sql.functions import lit\n",
    "from pyspark.sql.functions import col"
   ],
   "outputs": [],
   "metadata": {
    "execution": {
     "iopub.execute_input": "2021-11-16T01:19:37.537801Z",
     "iopub.status.busy": "2021-11-16T01:19:37.535858Z",
     "iopub.status.idle": "2021-11-16T01:19:37.553306Z",
     "shell.execute_reply": "2021-11-16T01:19:37.551281Z",
     "shell.execute_reply.started": "2021-11-16T01:19:37.537704Z"
    },
    "tags": []
   }
  },
  {
   "cell_type": "markdown",
   "source": [
    "## **Configuração spark**"
   ],
   "metadata": {
    "tags": []
   }
  },
  {
   "cell_type": "code",
   "execution_count": null,
   "source": [
    "spark_settings = SettingsSpark(instance=\"3\")\n",
    "#spark_settings.log_level(\"DEBUG\")\n",
    "spark_settings.init_minio()\n",
    "spark = spark_settings.builder_conf()"
   ],
   "outputs": [],
   "metadata": {
    "tags": []
   }
  },
  {
   "cell_type": "markdown",
   "source": [
    "## **Carregamento dos arquivos para exploração e limpeza**"
   ],
   "metadata": {
    "jp-MarkdownHeadingCollapsed": true,
    "tags": []
   }
  },
  {
   "cell_type": "code",
   "execution_count": 5,
   "source": [
    "NCM = spark.read.csv(\"s3a://bronze/NCM.csv\", sep=';', inferSchema=True, header=True, encoding=\"ISO-8859-1\")\n",
    "NCM_SH = spark.read.csv(\"s3a://bronze/NCM_SH.csv\", sep=';', inferSchema=True, header=True, encoding=\"ISO-8859-1\")\n",
    "NBM_NCM = spark.read.csv(\"s3a://bronze/NBM_NCM.csv\", sep=';', inferSchema=True, header=True, encoding=\"ISO-8859-1\")\n",
    "NCM_UNIDADE = spark.read.csv(\"s3a://bronze/NCM_UNIDADE.csv\", sep=';', inferSchema=True, header=True, encoding=\"ISO-8859-1\")\n",
    "NCM_CGCE = spark.read.csv(\"s3a://bronze/NCM_CGCE.csv\", sep=';', inferSchema=True, header=True, encoding=\"ISO-8859-1\")\n",
    "NCM_CUCI = spark.read.csv(\"s3a://bronze/NCM_CUCI.csv\", sep=';', inferSchema=True, header=True, encoding=\"ISO-8859-1\")\n",
    "NCM_FAT_AGREG = spark.read.csv(\"s3a://bronze/NCM_FAT_AGREG.csv\", sep=';', inferSchema=True, header=True, encoding=\"ISO-8859-1\")\n",
    "NCM_ISIC = spark.read.csv(\"s3a://bronze/NCM_ISIC.csv\", sep=';', inferSchema=True, header=True, encoding=\"ISO-8859-1\")\n",
    "NCM_PPE = spark.read.csv(\"s3a://bronze/NCM_PPE.csv\", sep=';', inferSchema=True, header=True, encoding=\"ISO-8859-1\")\n",
    "NCM_PPI = spark.read.csv(\"s3a://bronze/NCM_PPI.csv\", sep=';', inferSchema=True, header=True, encoding=\"ISO-8859-1\")\n",
    "ISIC_CUCI = spark.read.csv(\"s3a://bronze/ISIC_CUCI.csv\", sep=';', inferSchema=True, header=True, encoding=\"ISO-8859-1\")\n",
    "PAIS_BLOCO = spark.read.csv(\"s3a://bronze/PAIS_BLOCO.csv\", sep=';', inferSchema=True, header=True, encoding=\"ISO-8859-1\")\n",
    "PAIS = spark.read.csv(\"s3a://bronze/PAIS.csv\", sep=';', inferSchema=True, header=True, encoding=\"ISO-8859-1\")\n",
    "UF_MUN = spark.read.csv(\"s3a://bronze/UF_MUN.csv\", sep=';', inferSchema=True, header=True, encoding=\"ISO-8859-1\")\n",
    "UF = spark.read.csv(\"s3a://bronze/UF.csv\", sep=';', inferSchema=True, header=True, encoding=\"ISO-8859-1\")\n",
    "URF = spark.read.csv(\"s3a://bronze/URF.csv\", sep=';', inferSchema=True, header=True, encoding=\"ISO-8859-1\")\n",
    "VIA = spark.read.csv(\"s3a://bronze/VIA.csv\", sep=';', inferSchema=True, header=True, encoding=\"ISO-8859-1\")\n"
   ],
   "outputs": [
    {
     "output_type": "stream",
     "name": "stderr",
     "text": [
      "                                                                                \r"
     ]
    }
   ],
   "metadata": {
    "execution": {
     "iopub.execute_input": "2021-11-14T23:59:26.985340Z",
     "iopub.status.busy": "2021-11-14T23:59:26.983482Z",
     "iopub.status.idle": "2021-11-15T00:01:14.441995Z",
     "shell.execute_reply": "2021-11-15T00:01:14.439463Z",
     "shell.execute_reply.started": "2021-11-14T23:59:26.985229Z"
    },
    "tags": []
   }
  },
  {
   "cell_type": "markdown",
   "source": [
    "## **Visualização dos dados brutos**"
   ],
   "metadata": {
    "jp-MarkdownHeadingCollapsed": true,
    "tags": []
   }
  },
  {
   "cell_type": "code",
   "execution_count": null,
   "source": [
    "\"\"\"\n",
    "\n",
    "#NCM.printSchema()\n",
    "#NCM.describe().show()\n",
    "print('NCM Dataset')\n",
    "display(NCM.toPandas())\n",
    "\n",
    "#NCM_SH.printSchema()\n",
    "#NCM_SH.describe().show()\n",
    "print('NCM_SH Dataset')\n",
    "display(NCM_SH.toPandas())\n",
    "\n",
    "\n",
    "#NCM_CGCE.printSchema()\n",
    "#NCM_CGCE.describe().show()\n",
    "print('NCM_CGCE Dataset')\n",
    "display(NCM_CGCE.toPandas())#show(truncate=False)\n",
    "\n",
    "#NCM_CUCI.printSchema()\n",
    "#NCM_CUCI.describe().show()\n",
    "print('NCM_CUCI Dataset')\n",
    "display(NCM_CUCI.toPandas())#show(truncate=False)\n",
    "\n",
    "#NCM_ISIC.printSchema()\n",
    "#NCM_ISIC.describe().show()\n",
    "print('NCM_ISIC Dataset')\n",
    "display(NCM_ISIC.toPandas())#show(truncate=False)\n",
    "\n",
    "#NCM_FAT_AGREG.printSchema()\n",
    "#NCM_FAT_AGREG.describe().show()\n",
    "print('NCM_FAT_AGREG Dataset')\n",
    "NCM_FAT_AGREG.show(truncate=False)\n",
    "\n",
    "#NBM_NCM.printSchema()\n",
    "#NBM_NCM.describe().show()\n",
    "print('NCM_NBM Dataset')\n",
    "NBM_NCM.show(truncate=False)\n",
    "\n",
    "#NCM_UNIDADE.printSchema()\n",
    "#NCM_UNIDADE.describe().show()\n",
    "print('NCM_UNIDADE Dataset')\n",
    "NCM_UNIDADE.show(truncate=False)\n",
    "\n",
    "#NCM_PPE.printSchema()\n",
    "#NCM_PPE.describe().show()\n",
    "print('NCM_PPE Dataset')\n",
    "NCM_PPE.show(truncate=False)\n",
    "\n",
    "#NCM_PPI.printSchema()\n",
    "#NCM_PPI.describe().show()\n",
    "print('NCM_PPI Dataset')\n",
    "NCM_PPI.show(truncate=False)\n",
    "\n",
    "#ISIC_CUCI.printSchema()\n",
    "#ISIC_CUCI.describe().show()\n",
    "print('ISIC_CUCI Dataset')\n",
    "ISIC_CUCI.show(truncate=False)\n",
    "\n",
    "print('PAIS_BLOCO Dataset')\n",
    "PAIS_BLOCO.printSchema()\n",
    "PAIS_BLOCO.describe().show()\n",
    "PAIS_BLOCO.show(truncate=False)\n",
    "\n",
    "print('PAIS Dataset')\n",
    "PAIS.printSchema()\n",
    "PAIS.describe().show()\n",
    "PAIS.show(truncate=False)\n",
    "\n",
    "UF_MUN.printSchema()\n",
    "UF_MUN.describe().show()\n",
    "UF_MUN.show(truncate=False)\n",
    "\n",
    "URF.printSchema()\n",
    "URF.describe().show()\n",
    "URF.show(truncate=False)\n",
    "\n",
    "VIA.printSchema()\n",
    "VIA.describe().show()\n",
    "VIA.show(truncate=False)\n",
    "\n",
    "#spark_settings.stop()\n",
    "\"\"\""
   ],
   "outputs": [],
   "metadata": {
    "execution": {
     "iopub.execute_input": "2021-11-14T03:26:47.033538Z",
     "iopub.status.busy": "2021-11-14T03:26:47.032102Z",
     "iopub.status.idle": "2021-11-14T03:27:02.029140Z",
     "shell.execute_reply": "2021-11-14T03:27:02.025556Z",
     "shell.execute_reply.started": "2021-11-14T03:26:47.033444Z"
    },
    "tags": []
   }
  },
  {
   "cell_type": "markdown",
   "source": [
    "## **Normalização**"
   ],
   "metadata": {
    "tags": []
   }
  },
  {
   "cell_type": "markdown",
   "source": [
    "### **Normalização, exclusão de atributos de internacionalização**"
   ],
   "metadata": {
    "jp-MarkdownHeadingCollapsed": true,
    "tags": []
   }
  },
  {
   "cell_type": "code",
   "execution_count": 6,
   "source": [
    "# CO_ANO|CO_MES|  CO_NCM|CO_UNID|CO_PAIS|SG_UF_NCM|CO_VIA| CO_URF|QT_ESTAT|KG_LIQUIDO|VL_FOB|TYPE|\n",
    "\n",
    "print(\"NCM\",NCM.columns)\n",
    "print(\"NCM_CUCI\",NCM_CUCI.columns)\n",
    "print(\"NCM_SH\",NCM_SH.columns)\n",
    "print(\"NCM_CGCE\",NCM_CGCE.columns)\n",
    "print(\"NCM_ISIC\",NCM_ISIC.columns)\n",
    "print(\"NCM_FAT_AGREG\",NCM_FAT_AGREG.columns)\n",
    "print(\"NBM_NCM\",NBM_NCM.columns)\n",
    "print(\"NCM_UNIDADE\",NCM_UNIDADE.columns)\n",
    "print(\"NCM_PPE\",NCM_PPE.columns)\n",
    "print(\"NCM_PPI\",NCM_PPI.columns)\n",
    "print(\"ISIC_CUCI\",ISIC_CUCI.columns)\n",
    "print(\"UF_MUN\",UF_MUN.columns)\n",
    "print(\"URF\",URF.columns)\n",
    "print(\"VIA\",VIA.columns)\n",
    "print(\"PAIS\",PAIS.columns)\n",
    "print(\"PAIS_BLOCO\",PAIS_BLOCO.columns)"
   ],
   "outputs": [
    {
     "output_type": "stream",
     "name": "stdout",
     "text": [
      "NCM ['CO_NCM', 'CO_UNID', 'CO_SH6', 'CO_PPE', 'CO_PPI', 'CO_FAT_AGREG', 'CO_CUCI_ITEM', 'CO_CGCE_N3', 'CO_SIIT', 'CO_ISIC_CLASSE', 'CO_EXP_SUBSET', 'NO_NCM_POR', 'NO_NCM_ESP', 'NO_NCM_ING']\n",
      "NCM_CUCI ['CO_CUCI_ITEM', 'NO_CUCI_ITEM', 'CO_CUCI_SUB', 'NO_CUCI_SUB', 'CO_CUCI_GRUPO', 'NO_CUCI_GRUPO', 'CO_CUCI_DIVISAO', 'NO_CUCI_DIVISAO', 'CO_CUCI_SEC', 'NO_CUCI_SEC']\n",
      "NCM_SH ['CO_SH6', 'NO_SH6_POR', 'NO_SH6_ESP', 'NO_SH6_ING', 'CO_SH4', 'NO_SH4_POR', 'NO_SH4_ESP', 'NO_SH4_ING', 'CO_SH2', 'NO_SH2_POR', 'NO_SH2_ESP', 'NO_SH2_ING', 'CO_NCM_SECROM', 'NO_SEC_POR', 'NO_SEC_ESP', 'NO_SEC_ING']\n",
      "NCM_CGCE ['CO_CGCE_N3', 'NO_CGCE_N3', 'NO_CGCE_N3_ING', 'NO_CGCE_N3_ESP', 'CO_CGCE_N2', 'NO_CGCE_N2', 'NO_CGCE_N2_ING', 'NO_CGCE_N2_ESP', 'CO_CGCE_N1', 'NO_CGCE_N1', 'NO_CGCE_N1_ING', 'NO_CGCE_N1_ESP']\n",
      "NCM_ISIC ['CO_ISIC_CLASSE', 'NO_ISIC_CLASSE', 'NO_ISIC_CLASSE_ING', 'NO_ISIC_CLASSE_ESP', 'CO_ISIC_GRUPO', 'NO_ISIC_GRUPO', 'NO_ISIC_GRUPO_ING', 'NO_ISIC_GRUPO_ESP', 'CO_ISIC_DIVISAO', 'NO_ISIC_DIVISAO', 'NO_ISIC_DIVISAO_ING', 'NO_ISIC_DIVISAO_ESP', 'CO_ISIC_SECAO', 'NO_ISIC_SECAO', 'NO_ISIC_SECAO_ING', 'NO_ISIC_SECAO_ESP']\n",
      "NCM_FAT_AGREG ['CO_FAT_AGREG', 'NO_FAT_AGREG', 'NO_FAT_AGREG_GP']\n",
      "NBM_NCM ['CO_NBM', 'CO_NCM']\n",
      "NCM_UNIDADE ['CO_UNID', 'NO_UNID', 'SG_UNID']\n",
      "NCM_PPE ['CO_PPE', 'NO_PPE', 'NO_PPE_MIN', 'NO_PPE_ING']\n",
      "NCM_PPI ['CO_PPI', 'NO_PPI', 'NO_PPI_MIN', 'NO_PPI_ING']\n",
      "ISIC_CUCI ['CO_ISIC_SECAO', 'NO_ISIC_SECAO', 'CO_CUCI_GRUPO', 'NO_CUCI_GRUPO']\n",
      "UF_MUN ['CO_MUN_GEO', 'NO_MUN', 'NO_MUN_MIN', 'SG_UF']\n",
      "URF ['CO_URF', 'NO_URF']\n",
      "VIA ['CO_VIA', 'NO_VIA']\n",
      "PAIS ['CO_PAIS', 'CO_PAIS_ISON3', 'CO_PAIS_ISOA3', 'NO_PAIS', 'NO_PAIS_ING', 'NO_PAIS_ESP']\n",
      "PAIS_BLOCO ['CO_PAIS', 'CO_BLOCO', 'NO_BLOCO', 'NO_BLOCO_ING', 'NO_BLOCO_ESP']\n"
     ]
    }
   ],
   "metadata": {
    "execution": {
     "iopub.execute_input": "2021-11-15T00:01:14.449228Z",
     "iopub.status.busy": "2021-11-15T00:01:14.448283Z",
     "iopub.status.idle": "2021-11-15T00:01:14.667299Z",
     "shell.execute_reply": "2021-11-15T00:01:14.660883Z",
     "shell.execute_reply.started": "2021-11-15T00:01:14.449170Z"
    },
    "tags": []
   }
  },
  {
   "cell_type": "code",
   "execution_count": null,
   "source": [
    "NCM = spark.createDataFrame(ExplorerUtils().drop_columns_matches(dataframe=NCM, patterns=[\"_ESP\",\"_ING\"]))\n",
    "NCM.show()\n",
    "\n",
    "NCM_CUCI= spark.createDataFrame(ExplorerUtils().drop_columns_matches(dataframe=NCM_CUCI, patterns=[\"_ESP\",\"_ING\"]))\n",
    "NCM_CUCI.show()\n",
    "\n",
    "NCM_SH= spark.createDataFrame(ExplorerUtils().drop_columns_matches(dataframe=NCM_SH, patterns=[\"_ESP\",\"_ING\"]))\n",
    "NCM_SH.show()\n",
    "\n",
    "NCM_CGCE= spark.createDataFrame(ExplorerUtils().drop_columns_matches(dataframe=NCM_CGCE, patterns=[\"_ESP\",\"_ING\"]))\n",
    "NCM_CGCE.show()\n",
    "\n",
    "NCM_ISIC= spark.createDataFrame(ExplorerUtils().drop_columns_matches(dataframe=NCM_ISIC, patterns=[\"_ESP\",\"_ING\"]))\n",
    "NCM_ISIC.show()\n",
    "\n",
    "NCM_FAT_AGREG= spark.createDataFrame(ExplorerUtils().drop_columns_matches(dataframe=NCM_FAT_AGREG, patterns=[\"_ESP\",\"_ING\"]))\n",
    "NCM_FAT_AGREG.show()\n",
    "\n",
    "NCM_UNIDADE= spark.createDataFrame(ExplorerUtils().drop_columns_matches(dataframe=NCM_UNIDADE, patterns=[\"_ESP\",\"_ING\"]))\n",
    "NCM_UNIDADE.show()\n",
    "\n",
    "NCM_PPE= spark.createDataFrame(ExplorerUtils().drop_columns_matches(dataframe=NCM_PPE, patterns=[\"_ESP\",\"_ING\"]))\n",
    "NCM_PPE.show()\n",
    "\n",
    "NCM_PPI= spark.createDataFrame(ExplorerUtils().drop_columns_matches(dataframe=NCM_PPI, patterns=[\"_ESP\",\"_ING\"]))\n",
    "NCM_PPI.show()\n",
    "\n",
    "ISIC_CUCI= spark.createDataFrame(ExplorerUtils().drop_columns_matches(dataframe=ISIC_CUCI, patterns=[\"_ESP\",\"_ING\"]))\n",
    "ISIC_CUCI.show()\n",
    "\n",
    "UF_MUN= spark.createDataFrame(ExplorerUtils().drop_columns_matches(dataframe=UF_MUN, patterns=[\"_ESP\",\"_ING\"]))\n",
    "UF_MUN.show()\n",
    "\n",
    "URF= spark.createDataFrame(ExplorerUtils().drop_columns_matches(dataframe=URF, patterns=[\"_ESP\",\"_ING\"]))\n",
    "URF.show()\n",
    "\n",
    "VIA= spark.createDataFrame(ExplorerUtils().drop_columns_matches(dataframe=VIA, patterns=[\"_ESP\",\"_ING\"]))\n",
    "VIA.show()\n",
    "\n",
    "PAIS= spark.createDataFrame(ExplorerUtils().drop_columns_matches(dataframe=PAIS, patterns=[\"_ESP\",\"_ING\"]))\n",
    "PAIS.show()\n",
    "\n",
    "PAIS_BLOCO= spark.createDataFrame(ExplorerUtils().drop_columns_matches(dataframe=PAIS_BLOCO, patterns=[\"_ESP\",\"_ING\"]))\n",
    "PAIS_BLOCO.show()\n",
    "\n",
    "\n",
    "#NCM = NCM.drop(NCM.filter(like='ING').columns, axis=1)\n",
    "#NCM = NCM.drop(NCM.filter(like='ESP').columns, axis=1)\n",
    "\n",
    "#NCM_SH.createOrReplaceTempView(\"NCM_SH\")\n",
    "\n",
    "#NCM_SH_PTBR = spark.sql(\"select CO_SH6, NO_SH6_POR as NO_SH6, CO_SH4, NO_SH4_POR as NO_SH4, CO_SH2, NO_SH2_POR as NO_SH2, CO_NCM_SECROM, NO_SEC_POR as NO_SEC FROM NCM_SH \")\n",
    "#NCM_SH_PTBR.show(20, False)\n",
    "\n",
    "#NCM_SH_ESP = NCM_SH[['CO_SH6', 'NO_SH6_ESP', 'CO_SH4', 'NO_SH4_ESP', 'CO_SH2', 'NO_SH2_ESP', 'CO_NCM_SECROM', 'NO_SEC_ESP']]\n",
    "#NCM_SH_ESP.show()\n",
    "\n",
    "#NCM_SH_ING = NCM_SH[['CO_SH6', 'NO_SH6_ING', 'CO_SH4', 'NO_SH4_ING', 'CO_SH2', 'NO_SH2_ING', 'CO_NCM_SECROM', 'NO_SEC_ING']]\n",
    "#NCM_SH_ING.show()\n"
   ],
   "outputs": [],
   "metadata": {
    "tags": []
   }
  },
  {
   "cell_type": "markdown",
   "source": [
    "### **Junção dos arquivos NCM**"
   ],
   "metadata": {
    "tags": []
   }
  },
  {
   "cell_type": "code",
   "execution_count": null,
   "source": [
    "NCM.createOrReplaceTempView(\"NCM\")\n",
    "NCM_SH.createOrReplaceTempView(\"SH\")\n",
    "NCM_CUCI.createOrReplaceTempView(\"CUCI\")\n",
    "NCM_CGCE.createOrReplaceTempView(\"CGCE\")\n",
    "NCM_ISIC.createOrReplaceTempView(\"ISIC\")\n",
    "NCM_FAT_AGREG.createOrReplaceTempView(\"FAT_AGREG\")\n",
    "NBM_NCM.createOrReplaceTempView(\"NBM\")\n",
    "NCM_UNIDADE.createOrReplaceTempView(\"UNIDADE\")\n",
    "NCM_PPE.createOrReplaceTempView(\"PPE\")\n",
    "NCM_PPI.createOrReplaceTempView(\"PPI\")\n",
    "ISIC_CUCI.createOrReplaceTempView(\"ISIC_CUCI\")\n",
    "UF_MUN.createOrReplaceTempView(\"UF_MUN\")\n",
    "URF.createOrReplaceTempView(\"URF\")\n",
    "PAIS.createOrReplaceTempView(\"PAIS\")\n",
    "VIA.createOrReplaceTempView(\"VIA\")\n",
    "PAIS_BLOCO.createOrReplaceTempView(\"PAIS_BLOCO\")\n",
    "\n",
    "NCM_FULL_JOIN = spark.sql(\n",
    "        \"\"\" \n",
    "            SELECT N.CO_NCM,\n",
    "                   N.NO_NCM_POR as NO_NCM,\n",
    "                   S.CO_SH6,\n",
    "                   S.NO_SH2_POR,\n",
    "                   S.NO_SH4_POR,\n",
    "                   S.NO_SH6_POR AS NO_SH6,\n",
    "                   lower(F.NO_FAT_AGREG) as NO_FAT_AGREG,\n",
    "                   C.NO_CUCI_ITEM,\n",
    "                   P.CO_PPE,\n",
    "                   P.NO_PPE_MIN,\n",
    "                   PI.CO_PPI,\n",
    "                   PI.NO_PPI_MIN,\n",
    "                   I.NO_ISIC_CLASSE\n",
    "                   \n",
    "              FROM NCM N\n",
    "             INNER JOIN SH S\n",
    "                ON N.CO_SH6 = S.CO_SH6\n",
    "             INNER JOIN FAT_AGREG F\n",
    "                ON N.CO_FAT_AGREG = F.CO_FAT_AGREG\n",
    "             INNER JOIN CUCI C\n",
    "                ON N.CO_CUCI_ITEM = C.CO_CUCI_ITEM\n",
    "             INNER JOIN PPE P \n",
    "                ON N.CO_PPE = P.CO_PPE\n",
    "             INNER JOIN PPI PI\n",
    "                ON N.CO_PPI = PI.CO_PPI\n",
    "             INNER JOIN ISIC I \n",
    "                ON N.CO_ISIC_CLASSE = I.CO_ISIC_CLASSE\n",
    "         \"\"\")\n",
    "               \n",
    "NCM_FULL_JOIN.toPandas()"
   ],
   "outputs": [
    {
     "output_type": "stream",
     "name": "stderr",
     "text": [
      "                                                                                \r"
     ]
    },
    {
     "output_type": "execute_result",
     "data": {
      "text/plain": [
       "         CO_NCM                                             NO_NCM  CO_SH6  \\\n",
       "0      53012120                    Linho espadelado, mas não fiado  530121   \n",
       "1      53012110                                     Linho quebrado  530121   \n",
       "2      71023100  Diamantes não industriais, em bruto ou simples...  710231   \n",
       "3      79020000                  Desperdícios e resíduos, de zinco  790200   \n",
       "4      81083000                 Desperdícios e resíduos do titânio  810830   \n",
       "...         ...                                                ...     ...   \n",
       "13148  99980101  Consumo de bordo - combustíveis e lubrificante...  999801   \n",
       "13149  99980202  Consumo de bordo - qualquer outra mercadoria p...  999802   \n",
       "13150  99980201  Consumo de bordo - qualquer outra mercadoria p...  999802   \n",
       "13151  99999951      Devolução antes da DI (exportação definitiva)  999999   \n",
       "13152  99999960                                       Reexportação  999999   \n",
       "\n",
       "                                              NO_SH2_POR  \\\n",
       "0      Outras fibras têxteis vegetais; fios de papel ...   \n",
       "1      Outras fibras têxteis vegetais; fios de papel ...   \n",
       "2      Pérolas naturais ou cultivadas, pedras precios...   \n",
       "3                                     Zinco e suas obras   \n",
       "4      Outros metais comuns; ceramais (cermets); obra...   \n",
       "...                                                  ...   \n",
       "13148                               Transações especiais   \n",
       "13149                               Transações especiais   \n",
       "13150                               Transações especiais   \n",
       "13151                               Transações especiais   \n",
       "13152                               Transações especiais   \n",
       "\n",
       "                                              NO_SH4_POR  \\\n",
       "0      Linho em bruto ou trabalhado, mas não fiado; e...   \n",
       "1      Linho em bruto ou trabalhado, mas não fiado; e...   \n",
       "2      Diamantes, mesmo trabalhados, mas não montados...   \n",
       "3                      Desperdícios e resíduos, de zinco   \n",
       "4      Titânio e suas obras, incluídos os desperdício...   \n",
       "...                                                  ...   \n",
       "13148  Consumo de bordo (combustíveis e lubrificantes...   \n",
       "13149  Consumo de bordo (combustíveis e lubrificantes...   \n",
       "13150  Consumo de bordo (combustíveis e lubrificantes...   \n",
       "13151  Consumo de bordo (exceto combustíveis e lubrif...   \n",
       "13152  Consumo de bordo (exceto combustíveis e lubrif...   \n",
       "\n",
       "                                                  NO_SH6      NO_FAT_AGREG  \\\n",
       "0            Linho quebrado ou espadelado, mas não fiado  produtos basicos   \n",
       "1            Linho quebrado ou espadelado, mas não fiado  produtos basicos   \n",
       "2      Diamantes não industriais, em bruto ou serrado...  produtos basicos   \n",
       "3                      Desperdícios e resíduos, de zinco  produtos basicos   \n",
       "4                     Desperdícios e resíduos do titânio  produtos basicos   \n",
       "...                                                  ...               ...   \n",
       "13148  Consumo de bordo (combustíveis e lubrificantes...  consumo de bordo   \n",
       "13149  Consumo de bordo para embarcações e aeronaves ...  consumo de bordo   \n",
       "13150  Consumo de bordo para embarcações e aeronaves ...  consumo de bordo   \n",
       "13151  Qualquer outra mercadoria sem cobertura cambia...      reexportacao   \n",
       "13152  Qualquer outra mercadoria sem cobertura cambia...      reexportacao   \n",
       "\n",
       "                                            NO_CUCI_ITEM  CO_PPE  \\\n",
       "0      Linho em bruto ou trabalhado, mas não fiado; r...    1990   \n",
       "1      Linho em bruto ou trabalhado, mas não fiado; r...    1990   \n",
       "2      Diamantes (exceto diamantes industriais ordena...    1275   \n",
       "3                 Resíduos e sucata de zinco (exceto pó)    1990   \n",
       "4      Titânio em formas brutas; resíduos e sucata de...    1990   \n",
       "...                                                  ...     ...   \n",
       "13148  Operações especiais e commodities não classifi...    5020   \n",
       "13149  Operações especiais e commodities não classifi...    5010   \n",
       "13150  Operações especiais e commodities não classifi...    5010   \n",
       "13151  Operações especiais e commodities não classifi...    6010   \n",
       "13152  Operações especiais e commodities não classifi...    6010   \n",
       "\n",
       "                                              NO_PPE_MIN  CO_PPI  \\\n",
       "0                                Demais produtos básicos    1990   \n",
       "1                                Demais produtos básicos    1990   \n",
       "2      Pedras preciosas ou semipreciosas,em bruto,não...    1990   \n",
       "3                                Demais produtos básicos    1990   \n",
       "4                                Demais produtos básicos    1990   \n",
       "...                                                  ...     ...   \n",
       "13148            Consumo de bordo - óleos e combustíveis    4999   \n",
       "13149                          Consumo de bordo - demais    4999   \n",
       "13150                          Consumo de bordo - demais    4999   \n",
       "13151                                       Reexportação    4999   \n",
       "13152                                       Reexportação    4999   \n",
       "\n",
       "                    NO_PPI_MIN  \\\n",
       "0      Demais produtos básicos   \n",
       "1      Demais produtos básicos   \n",
       "2      Demais produtos básicos   \n",
       "3      Demais produtos básicos   \n",
       "4      Demais produtos básicos   \n",
       "...                        ...   \n",
       "13148    NCM sem PPI atribuído   \n",
       "13149    NCM sem PPI atribuído   \n",
       "13150    NCM sem PPI atribuído   \n",
       "13151    NCM sem PPI atribuído   \n",
       "13152    NCM sem PPI atribuído   \n",
       "\n",
       "                                          NO_ISIC_CLASSE  \n",
       "0                  Preparação e fiação de fibras têxteis  \n",
       "1                  Preparação e fiação de fibras têxteis  \n",
       "2                Fabricação de joalharia e artigos afins  \n",
       "3                                       Não classificado  \n",
       "4      Fabricação de metais preciosos e outros metais...  \n",
       "...                                                  ...  \n",
       "13148                                   Não classificado  \n",
       "13149                                   Não classificado  \n",
       "13150                                   Não classificado  \n",
       "13151                                   Não classificado  \n",
       "13152                                   Não classificado  \n",
       "\n",
       "[13153 rows x 13 columns]"
      ],
      "text/html": [
       "<div>\n",
       "<style scoped>\n",
       "    .dataframe tbody tr th:only-of-type {\n",
       "        vertical-align: middle;\n",
       "    }\n",
       "\n",
       "    .dataframe tbody tr th {\n",
       "        vertical-align: top;\n",
       "    }\n",
       "\n",
       "    .dataframe thead th {\n",
       "        text-align: right;\n",
       "    }\n",
       "</style>\n",
       "<table border=\"1\" class=\"dataframe\">\n",
       "  <thead>\n",
       "    <tr style=\"text-align: right;\">\n",
       "      <th></th>\n",
       "      <th>CO_NCM</th>\n",
       "      <th>NO_NCM</th>\n",
       "      <th>CO_SH6</th>\n",
       "      <th>NO_SH2_POR</th>\n",
       "      <th>NO_SH4_POR</th>\n",
       "      <th>NO_SH6</th>\n",
       "      <th>NO_FAT_AGREG</th>\n",
       "      <th>NO_CUCI_ITEM</th>\n",
       "      <th>CO_PPE</th>\n",
       "      <th>NO_PPE_MIN</th>\n",
       "      <th>CO_PPI</th>\n",
       "      <th>NO_PPI_MIN</th>\n",
       "      <th>NO_ISIC_CLASSE</th>\n",
       "    </tr>\n",
       "  </thead>\n",
       "  <tbody>\n",
       "    <tr>\n",
       "      <th>0</th>\n",
       "      <td>53012120</td>\n",
       "      <td>Linho espadelado, mas não fiado</td>\n",
       "      <td>530121</td>\n",
       "      <td>Outras fibras têxteis vegetais; fios de papel ...</td>\n",
       "      <td>Linho em bruto ou trabalhado, mas não fiado; e...</td>\n",
       "      <td>Linho quebrado ou espadelado, mas não fiado</td>\n",
       "      <td>produtos basicos</td>\n",
       "      <td>Linho em bruto ou trabalhado, mas não fiado; r...</td>\n",
       "      <td>1990</td>\n",
       "      <td>Demais produtos básicos</td>\n",
       "      <td>1990</td>\n",
       "      <td>Demais produtos básicos</td>\n",
       "      <td>Preparação e fiação de fibras têxteis</td>\n",
       "    </tr>\n",
       "    <tr>\n",
       "      <th>1</th>\n",
       "      <td>53012110</td>\n",
       "      <td>Linho quebrado</td>\n",
       "      <td>530121</td>\n",
       "      <td>Outras fibras têxteis vegetais; fios de papel ...</td>\n",
       "      <td>Linho em bruto ou trabalhado, mas não fiado; e...</td>\n",
       "      <td>Linho quebrado ou espadelado, mas não fiado</td>\n",
       "      <td>produtos basicos</td>\n",
       "      <td>Linho em bruto ou trabalhado, mas não fiado; r...</td>\n",
       "      <td>1990</td>\n",
       "      <td>Demais produtos básicos</td>\n",
       "      <td>1990</td>\n",
       "      <td>Demais produtos básicos</td>\n",
       "      <td>Preparação e fiação de fibras têxteis</td>\n",
       "    </tr>\n",
       "    <tr>\n",
       "      <th>2</th>\n",
       "      <td>71023100</td>\n",
       "      <td>Diamantes não industriais, em bruto ou simples...</td>\n",
       "      <td>710231</td>\n",
       "      <td>Pérolas naturais ou cultivadas, pedras precios...</td>\n",
       "      <td>Diamantes, mesmo trabalhados, mas não montados...</td>\n",
       "      <td>Diamantes não industriais, em bruto ou serrado...</td>\n",
       "      <td>produtos basicos</td>\n",
       "      <td>Diamantes (exceto diamantes industriais ordena...</td>\n",
       "      <td>1275</td>\n",
       "      <td>Pedras preciosas ou semipreciosas,em bruto,não...</td>\n",
       "      <td>1990</td>\n",
       "      <td>Demais produtos básicos</td>\n",
       "      <td>Fabricação de joalharia e artigos afins</td>\n",
       "    </tr>\n",
       "    <tr>\n",
       "      <th>3</th>\n",
       "      <td>79020000</td>\n",
       "      <td>Desperdícios e resíduos, de zinco</td>\n",
       "      <td>790200</td>\n",
       "      <td>Zinco e suas obras</td>\n",
       "      <td>Desperdícios e resíduos, de zinco</td>\n",
       "      <td>Desperdícios e resíduos, de zinco</td>\n",
       "      <td>produtos basicos</td>\n",
       "      <td>Resíduos e sucata de zinco (exceto pó)</td>\n",
       "      <td>1990</td>\n",
       "      <td>Demais produtos básicos</td>\n",
       "      <td>1990</td>\n",
       "      <td>Demais produtos básicos</td>\n",
       "      <td>Não classificado</td>\n",
       "    </tr>\n",
       "    <tr>\n",
       "      <th>4</th>\n",
       "      <td>81083000</td>\n",
       "      <td>Desperdícios e resíduos do titânio</td>\n",
       "      <td>810830</td>\n",
       "      <td>Outros metais comuns; ceramais (cermets); obra...</td>\n",
       "      <td>Titânio e suas obras, incluídos os desperdício...</td>\n",
       "      <td>Desperdícios e resíduos do titânio</td>\n",
       "      <td>produtos basicos</td>\n",
       "      <td>Titânio em formas brutas; resíduos e sucata de...</td>\n",
       "      <td>1990</td>\n",
       "      <td>Demais produtos básicos</td>\n",
       "      <td>1990</td>\n",
       "      <td>Demais produtos básicos</td>\n",
       "      <td>Fabricação de metais preciosos e outros metais...</td>\n",
       "    </tr>\n",
       "    <tr>\n",
       "      <th>...</th>\n",
       "      <td>...</td>\n",
       "      <td>...</td>\n",
       "      <td>...</td>\n",
       "      <td>...</td>\n",
       "      <td>...</td>\n",
       "      <td>...</td>\n",
       "      <td>...</td>\n",
       "      <td>...</td>\n",
       "      <td>...</td>\n",
       "      <td>...</td>\n",
       "      <td>...</td>\n",
       "      <td>...</td>\n",
       "      <td>...</td>\n",
       "    </tr>\n",
       "    <tr>\n",
       "      <th>13148</th>\n",
       "      <td>99980101</td>\n",
       "      <td>Consumo de bordo - combustíveis e lubrificante...</td>\n",
       "      <td>999801</td>\n",
       "      <td>Transações especiais</td>\n",
       "      <td>Consumo de bordo (combustíveis e lubrificantes...</td>\n",
       "      <td>Consumo de bordo (combustíveis e lubrificantes...</td>\n",
       "      <td>consumo de bordo</td>\n",
       "      <td>Operações especiais e commodities não classifi...</td>\n",
       "      <td>5020</td>\n",
       "      <td>Consumo de bordo - óleos e combustíveis</td>\n",
       "      <td>4999</td>\n",
       "      <td>NCM sem PPI atribuído</td>\n",
       "      <td>Não classificado</td>\n",
       "    </tr>\n",
       "    <tr>\n",
       "      <th>13149</th>\n",
       "      <td>99980202</td>\n",
       "      <td>Consumo de bordo - qualquer outra mercadoria p...</td>\n",
       "      <td>999802</td>\n",
       "      <td>Transações especiais</td>\n",
       "      <td>Consumo de bordo (combustíveis e lubrificantes...</td>\n",
       "      <td>Consumo de bordo para embarcações e aeronaves ...</td>\n",
       "      <td>consumo de bordo</td>\n",
       "      <td>Operações especiais e commodities não classifi...</td>\n",
       "      <td>5010</td>\n",
       "      <td>Consumo de bordo - demais</td>\n",
       "      <td>4999</td>\n",
       "      <td>NCM sem PPI atribuído</td>\n",
       "      <td>Não classificado</td>\n",
       "    </tr>\n",
       "    <tr>\n",
       "      <th>13150</th>\n",
       "      <td>99980201</td>\n",
       "      <td>Consumo de bordo - qualquer outra mercadoria p...</td>\n",
       "      <td>999802</td>\n",
       "      <td>Transações especiais</td>\n",
       "      <td>Consumo de bordo (combustíveis e lubrificantes...</td>\n",
       "      <td>Consumo de bordo para embarcações e aeronaves ...</td>\n",
       "      <td>consumo de bordo</td>\n",
       "      <td>Operações especiais e commodities não classifi...</td>\n",
       "      <td>5010</td>\n",
       "      <td>Consumo de bordo - demais</td>\n",
       "      <td>4999</td>\n",
       "      <td>NCM sem PPI atribuído</td>\n",
       "      <td>Não classificado</td>\n",
       "    </tr>\n",
       "    <tr>\n",
       "      <th>13151</th>\n",
       "      <td>99999951</td>\n",
       "      <td>Devolução antes da DI (exportação definitiva)</td>\n",
       "      <td>999999</td>\n",
       "      <td>Transações especiais</td>\n",
       "      <td>Consumo de bordo (exceto combustíveis e lubrif...</td>\n",
       "      <td>Qualquer outra mercadoria sem cobertura cambia...</td>\n",
       "      <td>reexportacao</td>\n",
       "      <td>Operações especiais e commodities não classifi...</td>\n",
       "      <td>6010</td>\n",
       "      <td>Reexportação</td>\n",
       "      <td>4999</td>\n",
       "      <td>NCM sem PPI atribuído</td>\n",
       "      <td>Não classificado</td>\n",
       "    </tr>\n",
       "    <tr>\n",
       "      <th>13152</th>\n",
       "      <td>99999960</td>\n",
       "      <td>Reexportação</td>\n",
       "      <td>999999</td>\n",
       "      <td>Transações especiais</td>\n",
       "      <td>Consumo de bordo (exceto combustíveis e lubrif...</td>\n",
       "      <td>Qualquer outra mercadoria sem cobertura cambia...</td>\n",
       "      <td>reexportacao</td>\n",
       "      <td>Operações especiais e commodities não classifi...</td>\n",
       "      <td>6010</td>\n",
       "      <td>Reexportação</td>\n",
       "      <td>4999</td>\n",
       "      <td>NCM sem PPI atribuído</td>\n",
       "      <td>Não classificado</td>\n",
       "    </tr>\n",
       "  </tbody>\n",
       "</table>\n",
       "<p>13153 rows × 13 columns</p>\n",
       "</div>"
      ]
     },
     "metadata": {},
     "execution_count": 8
    }
   ],
   "metadata": {}
  },
  {
   "cell_type": "markdown",
   "source": [
    "### **Gravação dos arquivos na camada silver**\n",
    "---\n",
    "**Arquivos gravados e convertidos para forma parquet, compressão e redução do tamanho do arquivo**"
   ],
   "metadata": {
    "tags": []
   }
  },
  {
   "cell_type": "code",
   "execution_count": null,
   "source": [
    "NCM_FULL_JOIN.write.parquet(\"s3a://silver/NCM_FULL_JOIN.parquet\", mode=\"overwrite\")\n",
    "\n",
    "NCM.write.parquet(\"s3a://silver/NCM.parquet\", mode=\"overwrite\")\n",
    "NCM_SH.write.parquet(\"s3a://silver/NCM_SH.parquet\", mode=\"overwrite\")\n",
    "NCM_CUCI.write.parquet(\"s3a://silver/NCM_CUCI.parquet\", mode=\"overwrite\")\n",
    "NCM_CGCE.write.parquet(\"s3a://silver/NCM_CGCE.parquet\", mode=\"overwrite\")\n",
    "NCM_ISIC.write.parquet(\"s3a://silver/NCM_ISIC.parquet\" , mode=\"overwrite\")\n",
    "NCM_FAT_AGREG.write.parquet(\"s3a://silver/NCM_FAT_AGREG.parquet\", mode=\"overwrite\")\n",
    "NBM_NCM.write.parquet(\"s3a://silver/NBM_NCM.parquet\" , mode=\"overwrite\")\n",
    "NCM_UNIDADE.write.parquet(\"s3a://silver/NCM_UNIDADE.parquet\", mode=\"overwrite\")\n",
    "NCM_CUCI.write.parquet(\"s3a://silver/NCM_CUCI.parquet\" , mode=\"overwrite\")\n",
    "NCM_PPE.write.parquet(\"s3a://silver/NCM_PPE.parquet\", mode=\"overwrite\")\n",
    "NCM_PPI.write.parquet(\"s3a://silver/NCM_PPI.parquet\" , mode=\"overwrite\")\n",
    "ISIC_CUCI.write.parquet(\"s3a://silver/ISIC_CUCI.parquet\" , mode=\"overwrite\")\n",
    "UF_MUN.write.parquet(\"s3a://silver/UF_MUN.parquet\", mode=\"overwrite\")\n",
    "PAIS.write.parquet(\"s3a://silver/PAIS.parquet\" , mode=\"overwrite\")\n",
    "VIA.write.parquet(\"s3a://silver/VIA.parquet\", mode=\"overwrite\")\n",
    "PAIS_BLOCO.write.parquet(\"s3a://silver/PAIS_BLOCO.parquet\", mode=\"overwrite\")\n"
   ],
   "outputs": [],
   "metadata": {
    "tags": []
   }
  },
  {
   "cell_type": "markdown",
   "source": [
    "### **Finalização das instancias do Spark e liberação da memória**"
   ],
   "metadata": {
    "jp-MarkdownHeadingCollapsed": true,
    "tags": []
   }
  },
  {
   "cell_type": "code",
   "execution_count": 31,
   "source": [
    "spark_settings.stop()"
   ],
   "outputs": [],
   "metadata": {
    "execution": {
     "iopub.execute_input": "2021-11-15T03:04:08.602653Z",
     "iopub.status.busy": "2021-11-15T03:04:08.600980Z",
     "iopub.status.idle": "2021-11-15T03:04:09.206116Z",
     "shell.execute_reply": "2021-11-15T03:04:09.203929Z",
     "shell.execute_reply.started": "2021-11-15T03:04:08.602510Z"
    },
    "tags": []
   }
  },
  {
   "cell_type": "markdown",
   "source": [
    "##  **2.0 Carregamento dos datasets completos da balança comercial**\n"
   ],
   "metadata": {
    "tags": []
   }
  },
  {
   "cell_type": "markdown",
   "source": [
    "###  **2.1 Inicialização de novas instancias do Spark**"
   ],
   "metadata": {
    "jp-MarkdownHeadingCollapsed": true,
    "tags": []
   }
  },
  {
   "cell_type": "code",
   "execution_count": 3,
   "source": [
    "spark_settings = SettingsSpark(instance=\"4\", executor_memory=\"512m\")\n",
    "spark_settings.init_minio()\n",
    "spark = spark_settings.builder_conf()"
   ],
   "outputs": [],
   "metadata": {
    "execution": {
     "iopub.status.idle": "2021-11-15T11:29:54.043661Z",
     "shell.execute_reply": "2021-11-15T11:29:54.040683Z",
     "shell.execute_reply.started": "2021-11-15T11:29:06.653751Z"
    },
    "tags": []
   }
  },
  {
   "cell_type": "markdown",
   "source": [
    "###  **2.2 Carregamento**"
   ],
   "metadata": {
    "jp-MarkdownHeadingCollapsed": true,
    "tags": []
   }
  },
  {
   "cell_type": "code",
   "execution_count": 4,
   "source": [
    "EXP_COMPLETA = spark.read.csv(\"s3a://bronze/EXP_COMPLETA.csv\", sep=';', inferSchema=True, header=True)\n",
    "IMP_COMPLETA = spark.read.csv(\"s3a://bronze/IMP_COMPLETA.csv\", sep=';', inferSchema=True, header=True)\n",
    "\n",
    "EXP_COMPLETA.printSchema()\n",
    "IMP_COMPLETA.printSchema()"
   ],
   "outputs": [
    {
     "output_type": "stream",
     "name": "stderr",
     "text": [
      "[Stage 3:======================================================>  (19 + 1) / 20]\r"
     ]
    },
    {
     "output_type": "stream",
     "name": "stdout",
     "text": [
      "root\n",
      " |-- CO_ANO: integer (nullable = true)\n",
      " |-- CO_MES: integer (nullable = true)\n",
      " |-- CO_NCM: integer (nullable = true)\n",
      " |-- CO_UNID: integer (nullable = true)\n",
      " |-- CO_PAIS: integer (nullable = true)\n",
      " |-- SG_UF_NCM: string (nullable = true)\n",
      " |-- CO_VIA: integer (nullable = true)\n",
      " |-- CO_URF: integer (nullable = true)\n",
      " |-- QT_ESTAT: long (nullable = true)\n",
      " |-- KG_LIQUIDO: long (nullable = true)\n",
      " |-- VL_FOB: integer (nullable = true)\n",
      "\n",
      "root\n",
      " |-- CO_ANO: integer (nullable = true)\n",
      " |-- CO_MES: integer (nullable = true)\n",
      " |-- CO_NCM: integer (nullable = true)\n",
      " |-- CO_UNID: integer (nullable = true)\n",
      " |-- CO_PAIS: integer (nullable = true)\n",
      " |-- SG_UF_NCM: string (nullable = true)\n",
      " |-- CO_VIA: integer (nullable = true)\n",
      " |-- CO_URF: integer (nullable = true)\n",
      " |-- QT_ESTAT: integer (nullable = true)\n",
      " |-- KG_LIQUIDO: integer (nullable = true)\n",
      " |-- VL_FOB: integer (nullable = true)\n",
      " |-- VL_FRETE: integer (nullable = true)\n",
      " |-- VL_SEGURO: integer (nullable = true)\n",
      "\n"
     ]
    },
    {
     "output_type": "stream",
     "name": "stderr",
     "text": [
      "                                                                                \r"
     ]
    }
   ],
   "metadata": {
    "execution": {
     "iopub.execute_input": "2021-11-15T11:29:54.067844Z",
     "iopub.status.busy": "2021-11-15T11:29:54.064691Z",
     "iopub.status.idle": "2021-11-15T11:37:48.941711Z",
     "shell.execute_reply": "2021-11-15T11:37:48.934841Z",
     "shell.execute_reply.started": "2021-11-15T11:29:54.067785Z"
    },
    "tags": []
   }
  },
  {
   "cell_type": "markdown",
   "source": [
    "### **Harmonização das colunas**"
   ],
   "metadata": {
    "tags": []
   }
  },
  {
   "cell_type": "code",
   "execution_count": 5,
   "source": [
    "EXP_COMPLETA = EXP_COMPLETA.withColumn(\"VL_FRETE\",lit(\"0\")) \\\n",
    "                           .withColumn(\"VL_SEGURO\",lit(\"0\")) \\\n",
    "                           .withColumn(\"TYPE\",lit(\"EXP\"))\n",
    "        \n",
    "IMP_COMPLETA = IMP_COMPLETA.withColumn(\"TYPE\",lit(\"IMP\"))\n",
    "\n",
    "#EXP_COMPLETA.printSchema()\n",
    "EXP_COMPLETA.show(10)\n",
    "#IMP_COMPLETA.printSchema()\n",
    "IMP_COMPLETA.show(10)\n",
    "\n",
    "IMP_COMPLETA.printSchema()\n"
   ],
   "outputs": [
    {
     "output_type": "stream",
     "name": "stderr",
     "text": [
      "                                                                                \r"
     ]
    },
    {
     "output_type": "stream",
     "name": "stdout",
     "text": [
      "+------+------+--------+-------+-------+---------+------+-------+--------+----------+------+--------+---------+----+\n",
      "|CO_ANO|CO_MES|  CO_NCM|CO_UNID|CO_PAIS|SG_UF_NCM|CO_VIA| CO_URF|QT_ESTAT|KG_LIQUIDO|VL_FOB|VL_FRETE|VL_SEGURO|TYPE|\n",
      "+------+------+--------+-------+-------+---------+------+-------+--------+----------+------+--------+---------+----+\n",
      "|  1997|    11|74122000|     10|    249|       SP|     4| 817600|       0|         0|     3|       0|        0| EXP|\n",
      "|  1997|    11|73082000|     10|     97|       MG|     7| 130151|       0|      4292|  6442|       0|        0| EXP|\n",
      "|  1997|    11|84248119|     11|    196|       SP|     1| 817800|      32|      3468| 31510|       0|        0| EXP|\n",
      "|  1997|    11|48239090|     10|    586|       MN|     9| 910600|       0|         0|     1|       0|        0| EXP|\n",
      "|  1997|    11|72112910|     10|    850|       SP|     1| 817800|     118|    117505|103866|       0|        0| EXP|\n",
      "|  1997|    11|84483919|     10|     63|       SP|     4| 817600|       0|       196| 12654|       0|        0| EXP|\n",
      "|  1997|    11|40095090|     10|     63|       SP|     7|1010953|       0|     11038|103451|       0|        0| EXP|\n",
      "|  1997|    11|48181000|     10|    845|       SP|     7|1010252|       0|       681|   550|       0|        0| EXP|\n",
      "|  1997|    11|56029000|     10|    845|       PR|     7|1011000|       0|         0|     4|       0|        0| EXP|\n",
      "|  1997|    11|82119320|     11|    355|       RS|     1|1010500|       0|       128|  1476|       0|        0| EXP|\n",
      "+------+------+--------+-------+-------+---------+------+-------+--------+----------+------+--------+---------+----+\n",
      "only showing top 10 rows\n",
      "\n"
     ]
    },
    {
     "output_type": "stream",
     "name": "stderr",
     "text": [
      "                                                                                \r"
     ]
    },
    {
     "output_type": "stream",
     "name": "stdout",
     "text": [
      "+------+------+--------+-------+-------+---------+------+-------+--------+----------+------+--------+---------+----+\n",
      "|CO_ANO|CO_MES|  CO_NCM|CO_UNID|CO_PAIS|SG_UF_NCM|CO_VIA| CO_URF|QT_ESTAT|KG_LIQUIDO|VL_FOB|VL_FRETE|VL_SEGURO|TYPE|\n",
      "+------+------+--------+-------+-------+---------+------+-------+--------+----------+------+--------+---------+----+\n",
      "|  1997|     9|29251990|     10|     87|       SP|     1| 817800|     200|       200|  4888|     180|       24| IMP|\n",
      "|  1997|     8|85049010|     10|    399|       SP|     4| 817600|    4891|        84| 30116|     409|       93| IMP|\n",
      "|  1997|     8|54023300|     10|     63|       SP|     7|1010900|  143834|    143834|402427|   10121|      266| IMP|\n",
      "|  1997|     3|38121000|     10|    249|       SP|     1| 817800|    9434|      9172| 61190|    3011|      163| IMP|\n",
      "|  1997|    10|73209000|     10|    399|       SP|     4| 817600|  222510|        49|  3638|     456|       18| IMP|\n",
      "|  1997|     4|40132000|     11|    161|       SC|     4| 817600|     450|        66|   288|     397|        0| IMP|\n",
      "|  1997|     4|96081000|     11|    386|       ES|     4| 817600|   83200|      1312|  9199|    4599|       69| IMP|\n",
      "|  1997|     7|84718014|     11|    249|       AM|     4| 227600|      82|       258|  5175|     318|        0| IMP|\n",
      "|  1997|     3|84836019|     11|    149|       MG|     4| 817600|       2|         9|  2270|     102|        6| IMP|\n",
      "|  1997|     3|73182200|     10|    249|       PR|     1| 817800|       8|         8|   102|       4|        0| IMP|\n",
      "+------+------+--------+-------+-------+---------+------+-------+--------+----------+------+--------+---------+----+\n",
      "only showing top 10 rows\n",
      "\n",
      "root\n",
      " |-- CO_ANO: integer (nullable = true)\n",
      " |-- CO_MES: integer (nullable = true)\n",
      " |-- CO_NCM: integer (nullable = true)\n",
      " |-- CO_UNID: integer (nullable = true)\n",
      " |-- CO_PAIS: integer (nullable = true)\n",
      " |-- SG_UF_NCM: string (nullable = true)\n",
      " |-- CO_VIA: integer (nullable = true)\n",
      " |-- CO_URF: integer (nullable = true)\n",
      " |-- QT_ESTAT: integer (nullable = true)\n",
      " |-- KG_LIQUIDO: integer (nullable = true)\n",
      " |-- VL_FOB: integer (nullable = true)\n",
      " |-- VL_FRETE: integer (nullable = true)\n",
      " |-- VL_SEGURO: integer (nullable = true)\n",
      " |-- TYPE: string (nullable = false)\n",
      "\n"
     ]
    }
   ],
   "metadata": {
    "execution": {
     "iopub.execute_input": "2021-11-15T11:42:06.253795Z",
     "iopub.status.busy": "2021-11-15T11:42:06.250368Z",
     "iopub.status.idle": "2021-11-15T11:42:11.360004Z",
     "shell.execute_reply": "2021-11-15T11:42:11.357581Z",
     "shell.execute_reply.started": "2021-11-15T11:42:06.253306Z"
    },
    "tags": []
   }
  },
  {
   "cell_type": "markdown",
   "source": [
    "### **Reescrita dos dados harmonizados e ajustados no fomato csv**"
   ],
   "metadata": {
    "jp-MarkdownHeadingCollapsed": true,
    "tags": []
   }
  },
  {
   "cell_type": "code",
   "execution_count": null,
   "source": [
    "EXP_COMPLETA.write.csv(\"s3a://silver/EXP_COMPLETA.csv\", mode=\"overwrite\")\n",
    "IMP_COMPLETA.write.csv(\"s3a://silver/IMP_COMPLETA.csv\", mode=\"overwrite\")"
   ],
   "outputs": [],
   "metadata": {
    "tags": []
   }
  },
  {
   "cell_type": "markdown",
   "source": [
    "### **Junção dos datasets de exportação e importação**"
   ],
   "metadata": {
    "jp-MarkdownHeadingCollapsed": true,
    "tags": []
   }
  },
  {
   "cell_type": "code",
   "execution_count": null,
   "source": [
    "df_exp_imp_full = EXP_COMPLETA.union(IMP_COMPLETA).distinct()\n",
    "df_exp_imp_full.show()"
   ],
   "outputs": [],
   "metadata": {
    "tags": []
   }
  },
  {
   "cell_type": "code",
   "execution_count": null,
   "source": [
    "df_exp_imp_full.count()"
   ],
   "outputs": [],
   "metadata": {
    "tags": []
   }
  },
  {
   "cell_type": "markdown",
   "source": [
    "### **Escrita dos dados exportação e importação após a junção no formato parquet**"
   ],
   "metadata": {
    "jp-MarkdownHeadingCollapsed": true,
    "tags": []
   }
  },
  {
   "cell_type": "code",
   "execution_count": null,
   "source": [
    "df_exp_imp_full.write.parquet(\"s3a://silver/EXP_IMP_FULL.parquet\", mode=\"overwrite\")"
   ],
   "outputs": [],
   "metadata": {
    "tags": []
   }
  },
  {
   "cell_type": "markdown",
   "source": [
    "### **Finalização das instancias do Spark e liberação da memória**"
   ],
   "metadata": {
    "tags": []
   }
  },
  {
   "cell_type": "code",
   "execution_count": 18,
   "source": [
    "spark_settings.stop()"
   ],
   "outputs": [],
   "metadata": {
    "execution": {
     "iopub.execute_input": "2021-11-15T17:25:26.192633Z",
     "iopub.status.busy": "2021-11-15T17:25:26.191210Z",
     "iopub.status.idle": "2021-11-15T17:25:26.764427Z",
     "shell.execute_reply": "2021-11-15T17:25:26.762284Z",
     "shell.execute_reply.started": "2021-11-15T17:25:26.192573Z"
    },
    "tags": []
   }
  },
  {
   "cell_type": "markdown",
   "source": [
    "# **Carregamento dos dados completos no formato parquet**"
   ],
   "metadata": {}
  },
  {
   "cell_type": "markdown",
   "source": [
    "### **Inicialização de novas instancias do Spark**"
   ],
   "metadata": {
    "execution": {
     "iopub.execute_input": "2021-11-15T16:58:57.093292Z",
     "iopub.status.busy": "2021-11-15T16:58:57.090713Z",
     "iopub.status.idle": "2021-11-15T16:58:57.119992Z",
     "shell.execute_reply": "2021-11-15T16:58:57.113566Z",
     "shell.execute_reply.started": "2021-11-15T16:58:57.093177Z"
    },
    "tags": []
   }
  },
  {
   "cell_type": "code",
   "execution_count": 19,
   "source": [
    "spark_settings = SettingsSpark(instance=\"4\", executor_memory=\"512m\")\n",
    "spark_settings.init_minio()\n",
    "spark = spark_settings.builder_conf()"
   ],
   "outputs": [],
   "metadata": {
    "execution": {
     "iopub.execute_input": "2021-11-15T17:25:42.952600Z",
     "iopub.status.busy": "2021-11-15T17:25:42.951581Z",
     "iopub.status.idle": "2021-11-15T17:25:53.440999Z",
     "shell.execute_reply": "2021-11-15T17:25:53.437659Z",
     "shell.execute_reply.started": "2021-11-15T17:25:42.952506Z"
    },
    "tags": []
   }
  },
  {
   "cell_type": "code",
   "execution_count": 20,
   "source": [
    "EXP_IMP_FULL = spark.read.parquet(\"s3a://silver/EXP_IMP_FULL.parquet\", sep=';', inferSchema=True, header=True)\n",
    "EXP_IMP_FULL.show()\n"
   ],
   "outputs": [
    {
     "output_type": "stream",
     "name": "stderr",
     "text": [
      "[Stage 1:>                                                          (0 + 1) / 1]\r"
     ]
    },
    {
     "output_type": "stream",
     "name": "stdout",
     "text": [
      "+------+------+--------+-------+-------+---------+------+------+--------+----------+------+--------+---------+----+\n",
      "|CO_ANO|CO_MES|  CO_NCM|CO_UNID|CO_PAIS|SG_UF_NCM|CO_VIA|CO_URF|QT_ESTAT|KG_LIQUIDO|VL_FOB|VL_FRETE|VL_SEGURO|TYPE|\n",
      "+------+------+--------+-------+-------+---------+------+------+--------+----------+------+--------+---------+----+\n",
      "|  2014|    11| 7123900|     10|    158|       SP|     4|817600|      16|        16|     0|     752|        0| IMP|\n",
      "|  2021|     3| 7133190|     10|    676|       MT|     4|817600|       0|         0|     0|       0|        0| EXP|\n",
      "|  2019|     8| 8119000|     10|    383|       PA|     4|817600|       2|         2|     0|       0|        0| EXP|\n",
      "|  2016|     8| 8134090|     10|     87|       PA|     4|817600|       0|         0|     0|       0|        0| EXP|\n",
      "|  2019|    11| 9019000|     10|    361|       SP|     4|817700|       0|         0|     0|       0|        0| EXP|\n",
      "|  2021|     5| 9042200|     10|     23|       SP|     4|817600|       1|         1|     0|       0|        0| EXP|\n",
      "|  2020|     6| 9081200|     10|     43|       PR|     1|917800|       0|         0|     0|       0|        0| EXP|\n",
      "|  2008|    12| 9102000|     10|     40|       ND|     4|717700|       1|         0|     0|       0|        0| EXP|\n",
      "|  2019|     1|12024200|     10|     23|       SP|     4|817600|      18|        18|     0|       0|        0| EXP|\n",
      "|  2020|     2|12099100|     10|    538|       DF|     4|117600|       2|        16|     0|       0|        0| EXP|\n",
      "|  2020|     6|12119090|     10|     43|       PR|     1|917800|       0|         0|     0|       0|        0| EXP|\n",
      "|  2012|    11|13019090|     10|    365|       SC|     1|927800|       1|         1|     0|       0|        0| IMP|\n",
      "|  2020|     9|13019090|     10|    756|       PA|     4|817600|       0|         0|     0|       0|        0| EXP|\n",
      "|  2020|    11|13021999|     10|     63|       RJ|     1|717600|       0|         0|     0|       0|        0| EXP|\n",
      "|  2021|     8|15132120|     10|     23|       PA|     4|817600|       0|         0|     0|       0|        0| EXP|\n",
      "|  2019|     6|17021100|     10|    767|       SP|     1|817800|       0|         0|     0|       0|        0| EXP|\n",
      "|  2018|    11|17029000|     10|     23|       SP|     4|817700|       0|         0|     0|       0|        0| IMP|\n",
      "|  2021|     6|17039000|     10|    607|       SP|     4|817600|       1|         1|     0|       0|        0| EXP|\n",
      "|  2018|    11|19011010|     10|     40|       SP|     4|817600|     100|         2|     0|       0|        0| EXP|\n",
      "|  2020|     7|20079923|     10|    249|       SC|     4|817700|       8|         8|     0|       0|        0| EXP|\n",
      "+------+------+--------+-------+-------+---------+------+------+--------+----------+------+--------+---------+----+\n",
      "only showing top 20 rows\n",
      "\n"
     ]
    },
    {
     "output_type": "stream",
     "name": "stderr",
     "text": [
      "                                                                                \r"
     ]
    }
   ],
   "metadata": {
    "execution": {
     "iopub.execute_input": "2021-11-15T17:26:08.028422Z",
     "iopub.status.busy": "2021-11-15T17:26:08.025283Z",
     "iopub.status.idle": "2021-11-15T17:26:30.780807Z",
     "shell.execute_reply": "2021-11-15T17:26:30.778474Z",
     "shell.execute_reply.started": "2021-11-15T17:26:08.028318Z"
    },
    "tags": []
   }
  },
  {
   "cell_type": "code",
   "execution_count": null,
   "source": [
    "\"\"\"from pyspark.ml.clustering import KMeans\n",
    "from pyspark.ml.evaluation import ClusteringEvaluator\n",
    "\n",
    "# Trains a k-means model.\n",
    "kmeans = KMeans().setK(2).setSeed(1)\n",
    "model = kmeans.fit(EXP_IMP_FULL)\n",
    "\n",
    "# Make predictions\n",
    "predictions = model.transform(EXP_IMP_FULL)\n",
    "\n",
    "# Evaluate clustering by computing Silhouette score\n",
    "evaluator = ClusteringEvaluator()\n",
    "\n",
    "silhouette = evaluator.evaluate(predictions)\n",
    "print(\"Silhouette with squared euclidean distance = \" + str(silhouette))\n",
    "\n",
    "# Shows the result.\n",
    "centers = model.clusterCenters()\n",
    "print(\"Cluster Centers: \")\n",
    "for center in centers:\n",
    "    print(center)\"\"\""
   ],
   "outputs": [],
   "metadata": {
    "tags": []
   }
  },
  {
   "cell_type": "code",
   "execution_count": 28,
   "source": [
    "import matplotlib.pyplot"
   ],
   "outputs": [],
   "metadata": {
    "execution": {
     "iopub.execute_input": "2021-11-16T00:14:28.696286Z",
     "iopub.status.busy": "2021-11-16T00:14:28.688564Z",
     "iopub.status.idle": "2021-11-16T00:14:34.937237Z",
     "shell.execute_reply": "2021-11-16T00:14:34.935028Z",
     "shell.execute_reply.started": "2021-11-16T00:14:28.696176Z"
    },
    "tags": []
   }
  },
  {
   "cell_type": "code",
   "execution_count": 29,
   "source": [
    "EXP_IMP_FULL.summary().show()"
   ],
   "outputs": [
    {
     "output_type": "stream",
     "name": "stderr",
     "text": [
      "                                                                                \r"
     ]
    },
    {
     "output_type": "stream",
     "name": "stdout",
     "text": [
      "+-------+------------------+-----------------+-------------------+------------------+------------------+---------+-----------------+-----------------+--------------------+------------------+------------------+-----------------+------------------+--------+\n",
      "|summary|            CO_ANO|           CO_MES|             CO_NCM|           CO_UNID|           CO_PAIS|SG_UF_NCM|           CO_VIA|           CO_URF|            QT_ESTAT|        KG_LIQUIDO|            VL_FOB|         VL_FRETE|         VL_SEGURO|    TYPE|\n",
      "+-------+------------------+-----------------+-------------------+------------------+------------------+---------+-----------------+-----------------+--------------------+------------------+------------------+-----------------+------------------+--------+\n",
      "|  count|          59727398|         59727398|           59727398|          59727398|          59727398| 59727398|         59727398|         59727398|            59727398|          59727398|          59727398|         59727398|          59727398|59727398|\n",
      "|   mean|2010.6641204259392|6.562368395823974|6.622572125696706E7|10.576175342511991|331.92888422830674|     null|3.041088212146794|788218.8096763398|  311515.89462341886|247123.78941645843|119973.83198538132|2601.985606756216| 56.81632789360755|    null|\n",
      "| stddev| 6.820465764905348|3.397859051708931|2.500170567066811E7|1.1970567056604646|235.57721603550993|     null|2.122266491927273|201531.3846824245|2.9859651525269645E8|1.79234762922806E7|2448051.4907650007|48209.78736118812|1573.8232441564478|    null|\n",
      "|    min|              1997|                1|            1011010|                10|                 0|       AC|                0|                0|                   0|                 0|                 0|                0|                 0|     EXP|\n",
      "|    25%|              2005|                4|           40139000|                10|               160|     null|                1|           817600|                   3|                 6|               377|              0.0|               0.0|    null|\n",
      "|    50%|              2011|                7|           82079000|                10|               249|     null|                4|           817700|                  52|                90|              3007|              7.0|               0.0|    null|\n",
      "|    75%|              2017|                9|           85122021|                11|               493|     null|                4|           817800|                1287|              1794|             22436|            367.0|               2.0|    null|\n",
      "|    max|              2021|               12|           99997104|                22|               999|       ZN|               15|          9999999|        990898767803|       17922689000|        2102966398|           999991|              9999|     IMP|\n",
      "+-------+------------------+-----------------+-------------------+------------------+------------------+---------+-----------------+-----------------+--------------------+------------------+------------------+-----------------+------------------+--------+\n",
      "\n"
     ]
    }
   ],
   "metadata": {
    "execution": {
     "iopub.execute_input": "2021-11-16T00:27:47.788364Z",
     "iopub.status.busy": "2021-11-16T00:27:47.781799Z",
     "iopub.status.idle": "2021-11-16T00:58:16.566550Z",
     "shell.execute_reply": "2021-11-16T00:58:16.563946Z",
     "shell.execute_reply.started": "2021-11-16T00:27:47.788252Z"
    },
    "tags": []
   }
  },
  {
   "cell_type": "code",
   "execution_count": 30,
   "source": [
    "NCM_FULL_JOIN = spark.read.parquet(\"s3a://silver/NCM_FULL_JOIN.parquet\")"
   ],
   "outputs": [
    {
     "output_type": "stream",
     "name": "stderr",
     "text": [
      "                                                                                \r"
     ]
    }
   ],
   "metadata": {
    "execution": {
     "iopub.execute_input": "2021-11-16T01:14:32.933744Z",
     "iopub.status.busy": "2021-11-16T01:14:32.930766Z",
     "iopub.status.idle": "2021-11-16T01:14:35.091413Z",
     "shell.execute_reply": "2021-11-16T01:14:35.089304Z",
     "shell.execute_reply.started": "2021-11-16T01:14:32.933555Z"
    },
    "tags": []
   }
  },
  {
   "cell_type": "code",
   "execution_count": 33,
   "source": [
    "NCM_FULL_JOIN.show()"
   ],
   "outputs": [
    {
     "output_type": "stream",
     "name": "stderr",
     "text": [
      "[Stage 22:>                                                         (0 + 1) / 1]\r"
     ]
    },
    {
     "output_type": "stream",
     "name": "stdout",
     "text": [
      "+--------+--------------------+------+--------------------+--------------------+--------------------+--------------------+--------------------+------+--------------------+------+--------------------+--------------------+\n",
      "|  CO_NCM|              NO_NCM|CO_SH6|          NO_SH2_POR|          NO_SH4_POR|              NO_SH6|        NO_FAT_AGREG|        NO_CUCI_ITEM|CO_PPE|          NO_PPE_MIN|CO_PPI|          NO_PPI_MIN|      NO_ISIC_CLASSE|\n",
      "+--------+--------------------+------+--------------------+--------------------+--------------------+--------------------+--------------------+------+--------------------+------+--------------------+--------------------+\n",
      "|38085910|Outras mercadoria...|380859|Produtos diversos...|Insecticidas, rod...|Outras mercadoria...|produtos manufatu...|Outros produtos d...|  3293|Inseticidas, form...|  3293|Inseticidas, form...|Fabricação de pes...|\n",
      "|38085921|Mercadorias à bas...|380859|Produtos diversos...|Insecticidas, rod...|Outras mercadoria...|produtos manufatu...|Outros produtos d...|  3293|Inseticidas, form...|  3293|Inseticidas, form...|Fabricação de pes...|\n",
      "|38085922|Mercadorias à bas...|380859|Produtos diversos...|Insecticidas, rod...|Outras mercadoria...|produtos manufatu...|Outros produtos d...|  3293|Inseticidas, form...|  3293|Inseticidas, form...|Fabricação de pes...|\n",
      "|38085923|Mercadorias à bas...|380859|Produtos diversos...|Insecticidas, rod...|Outras mercadoria...|produtos manufatu...|Outros produtos d...|  3293|Inseticidas, form...|  3293|Inseticidas, form...|Fabricação de pes...|\n",
      "|38085929|Mercadorias à bas...|380859|Produtos diversos...|Insecticidas, rod...|Outras mercadoria...|produtos manufatu...|Outros produtos d...|  3293|Inseticidas, form...|  3293|Inseticidas, form...|Fabricação de pes...|\n",
      "|38249914|Senduramicina sód...|382499|Produtos diversos...|Aglutinantes prep...|Outros aglutinant...|produtos manufatu...|Outros produtos e...|  3990|Demais produtos m...|  3639|Produtos e prepar...|Fabricação de out...|\n",
      "|38249915|Maduramicina amôn...|382499|Produtos diversos...|Aglutinantes prep...|Outros aglutinant...|produtos manufatu...|Outros produtos e...|  3990|Demais produtos m...|  3639|Produtos e prepar...|Fabricação de out...|\n",
      "|38249919|Outros produtos i...|382499|Produtos diversos...|Aglutinantes prep...|Outros aglutinant...|produtos manufatu...|Outros produtos e...|  3990|Demais produtos m...|  3639|Produtos e prepar...|Fabricação de out...|\n",
      "|38249921|Ácidos graxos dim...|382499|Produtos diversos...|Aglutinantes prep...|Outros aglutinant...|produtos manufatu...|Outros produtos e...|  3990|Demais produtos m...|  3639|Produtos e prepar...|Fabricação de out...|\n",
      "|38249922|Preparações conte...|382499|Produtos diversos...|Aglutinantes prep...|Outros aglutinant...|produtos manufatu...|Outros produtos e...|  3990|Demais produtos m...|  3639|Produtos e prepar...|Fabricação de out...|\n",
      "|38249923|Preparações conte...|382499|Produtos diversos...|Aglutinantes prep...|Outros aglutinant...|produtos manufatu...|Outros produtos e...|  3990|Demais produtos m...|  3639|Produtos e prepar...|Fabricação de out...|\n",
      "|38249924|Ésteres de álcooi...|382499|Produtos diversos...|Aglutinantes prep...|Outros aglutinant...|produtos manufatu...|Outros produtos e...|  3990|Demais produtos m...|  3639|Produtos e prepar...|Fabricação de out...|\n",
      "|38249925|Misturas de éster...|382499|Produtos diversos...|Aglutinantes prep...|Outros aglutinant...|produtos manufatu...|Outros produtos e...|  3990|Demais produtos m...|  3639|Produtos e prepar...|Fabricação de out...|\n",
      "|38249929|Outros derivados ...|382499|Produtos diversos...|Aglutinantes prep...|Outros aglutinant...|produtos manufatu...|Outros produtos e...|  3990|Demais produtos m...|  3639|Produtos e prepar...|Fabricação de out...|\n",
      "|38249931|Misturas e prepar...|382499|Produtos diversos...|Aglutinantes prep...|Outros aglutinant...|produtos manufatu...|Outros produtos e...|  3990|Demais produtos m...|  3639|Produtos e prepar...|Fabricação de out...|\n",
      "|38249932|Misturas e prepar...|382499|Produtos diversos...|Aglutinantes prep...|Outros aglutinant...|produtos manufatu...|Outros produtos e...|  3990|Demais produtos m...|  3639|Produtos e prepar...|Fabricação de out...|\n",
      "|38249933|Misturas e prepar...|382499|Produtos diversos...|Aglutinantes prep...|Outros aglutinant...|produtos manufatu...|Outros produtos e...|  3990|Demais produtos m...|  3639|Produtos e prepar...|Fabricação de out...|\n",
      "|38249934|Outras misturas c...|382499|Produtos diversos...|Aglutinantes prep...|Outros aglutinant...|produtos manufatu...|Outros produtos e...|  3990|Demais produtos m...|  3639|Produtos e prepar...|Fabricação de out...|\n",
      "|38249935|Misturas de mono-...|382499|Produtos diversos...|Aglutinantes prep...|Outros aglutinant...|produtos manufatu...|Outros produtos e...|  3990|Demais produtos m...|  3639|Produtos e prepar...|Fabricação de out...|\n",
      "|38249936|Reticulantes para...|382499|Produtos diversos...|Aglutinantes prep...|Outros aglutinant...|produtos manufatu...|Outros produtos e...|  3990|Demais produtos m...|  3639|Produtos e prepar...|Fabricação de out...|\n",
      "+--------+--------------------+------+--------------------+--------------------+--------------------+--------------------+--------------------+------+--------------------+------+--------------------+--------------------+\n",
      "only showing top 20 rows\n",
      "\n"
     ]
    },
    {
     "output_type": "stream",
     "name": "stderr",
     "text": [
      "                                                                                \r"
     ]
    }
   ],
   "metadata": {
    "execution": {
     "iopub.execute_input": "2021-11-16T01:15:44.625821Z",
     "iopub.status.busy": "2021-11-16T01:15:44.623996Z",
     "iopub.status.idle": "2021-11-16T01:15:46.770869Z",
     "shell.execute_reply": "2021-11-16T01:15:46.768722Z",
     "shell.execute_reply.started": "2021-11-16T01:15:44.625698Z"
    },
    "tags": []
   }
  },
  {
   "cell_type": "code",
   "execution_count": 41,
   "source": [
    "NCM_FULL_JOIN.groupBy(\"NO_SH2_POR\").count().sort(col(\"count\").desc()).show()"
   ],
   "outputs": [
    {
     "output_type": "stream",
     "name": "stderr",
     "text": [
      "[Stage 35:>                                                         (0 + 1) / 1]\r"
     ]
    },
    {
     "output_type": "stream",
     "name": "stdout",
     "text": [
      "+--------------------+-----+\n",
      "|          NO_SH2_POR|count|\n",
      "+--------------------+-----+\n",
      "|Produtos químicos...| 1947|\n",
      "|Reatores nucleare...| 1335|\n",
      "|Máquinas, aparelh...|  991|\n",
      "|Peixes e crustáce...|  500|\n",
      "|Produtos químicos...|  495|\n",
      "|Instrumentos e ap...|  461|\n",
      "|Produtos farmacêu...|  456|\n",
      "|Produtos diversos...|  408|\n",
      "|Plásticos e suas ...|  361|\n",
      "|Papel e cartão; o...|  257|\n",
      "|                  29|  251|\n",
      "|Ferro fundido, fe...|  219|\n",
      "|Madeira, carvão v...|  188|\n",
      "|Veículos automóve...|  181|\n",
      "|Obras de ferro fu...|  180|\n",
      "|Fibras sintéticas...|  179|\n",
      "|Vestuário e seus ...|  161|\n",
      "|             Algodão|  160|\n",
      "|Borracha e suas o...|  138|\n",
      "|Peles, exceto as ...|  138|\n",
      "+--------------------+-----+\n",
      "only showing top 20 rows\n",
      "\n"
     ]
    },
    {
     "output_type": "stream",
     "name": "stderr",
     "text": [
      "                                                                                \r"
     ]
    }
   ],
   "metadata": {
    "execution": {
     "iopub.execute_input": "2021-11-16T01:52:26.962289Z",
     "iopub.status.busy": "2021-11-16T01:52:26.960647Z",
     "iopub.status.idle": "2021-11-16T01:52:31.430311Z",
     "shell.execute_reply": "2021-11-16T01:52:31.421310Z",
     "shell.execute_reply.started": "2021-11-16T01:52:26.962129Z"
    },
    "tags": []
   }
  },
  {
   "cell_type": "code",
   "execution_count": 44,
   "source": [
    "from pyspark.ml.classification import NaiveBayes\n",
    "from pyspark.ml.evaluation import MulticlassClassificationEvaluator\n",
    "\n",
    "# Load training data\n",
    "data = NCM_FULL_JOIN\n",
    "\n",
    "# Split the data into train and test\n",
    "splits = data.randomSplit([0.6, 0.4], 1234)\n",
    "\n",
    "\n",
    "train = splits[0]\n",
    "test = splits[1]\n",
    "\n",
    "# create the trainer and set its parameters\n",
    "nb = NaiveBayes(smoothing=1.0, modelType=\"multinomial\")\n",
    "\n",
    "# train the model\n",
    "model = nb.fit(train)\n",
    "\n",
    "# select example rows to display.\n",
    "predictions = model.transform(test)\n",
    "predictions.show()\n",
    "\n",
    "# compute accuracy on the test set\n",
    "evaluator = MulticlassClassificationEvaluator(labelCol=\"label\", predictionCol=\"prediction\",\n",
    "                                              metricName=\"accuracy\")\n",
    "accuracy = evaluator.evaluate(predictions)\n",
    "print(\"Test set accuracy = \" + str(accuracy))"
   ],
   "outputs": [
    {
     "output_type": "error",
     "ename": "AttributeError",
     "evalue": "'NaiveBayes' object has no attribute 'fitMultiplet'",
     "traceback": [
      "\u001b[0;31m---------------------------------------------------------------------------\u001b[0m",
      "\u001b[0;31mAttributeError\u001b[0m                            Traceback (most recent call last)",
      "\u001b[0;32m/tmp/ipykernel_2025/2676812502.py\u001b[0m in \u001b[0;36m<module>\u001b[0;34m\u001b[0m\n\u001b[1;32m     19\u001b[0m \u001b[0;34m\u001b[0m\u001b[0m\n\u001b[1;32m     20\u001b[0m \u001b[0;31m# train the model\u001b[0m\u001b[0;34m\u001b[0m\u001b[0;34m\u001b[0m\u001b[0;34m\u001b[0m\u001b[0m\n\u001b[0;32m---> 21\u001b[0;31m \u001b[0mmodel\u001b[0m \u001b[0;34m=\u001b[0m \u001b[0mnb\u001b[0m\u001b[0;34m.\u001b[0m\u001b[0mfitMultiplet\u001b[0m\u001b[0;34m(\u001b[0m\u001b[0mtrain\u001b[0m\u001b[0;34m)\u001b[0m\u001b[0;34m\u001b[0m\u001b[0;34m\u001b[0m\u001b[0m\n\u001b[0m\u001b[1;32m     22\u001b[0m \u001b[0;34m\u001b[0m\u001b[0m\n",
      "\u001b[0;31mAttributeError\u001b[0m: 'NaiveBayes' object has no attribute 'fitMultiplet'"
     ]
    }
   ],
   "metadata": {
    "execution": {
     "iopub.execute_input": "2021-11-16T01:55:11.519613Z",
     "iopub.status.busy": "2021-11-16T01:55:11.518070Z",
     "iopub.status.idle": "2021-11-16T01:55:11.600079Z",
     "shell.execute_reply": "2021-11-16T01:55:11.598016Z",
     "shell.execute_reply.started": "2021-11-16T01:55:11.519512Z"
    },
    "tags": []
   }
  }
 ],
 "metadata": {
  "kernelspec": {
   "name": "python3",
   "display_name": "Python 3.9.6 64-bit"
  },
  "language_info": {
   "codemirror_mode": {
    "name": "ipython",
    "version": 3
   },
   "file_extension": ".py",
   "mimetype": "text/x-python",
   "name": "python",
   "nbconvert_exporter": "python",
   "pygments_lexer": "ipython3",
   "version": "3.9.6"
  },
  "toc-autonumbering": true,
  "toc-showcode": false,
  "toc-showmarkdowntxt": false,
  "toc-showtags": false,
  "interpreter": {
   "hash": "36cf16204b8548560b1c020c4e8fb5b57f0e4c58016f52f2d4be01e192833930"
  }
 },
 "nbformat": 4,
 "nbformat_minor": 5
}