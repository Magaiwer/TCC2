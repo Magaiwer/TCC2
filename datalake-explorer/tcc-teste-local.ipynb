{
 "cells": [
  {
   "cell_type": "markdown",
   "source": [
    "## Configuração local"
   ],
   "metadata": {}
  },
  {
   "cell_type": "code",
   "execution_count": 1,
   "source": [
    "import findspark\n",
    "findspark.init('/home/user/Desktop/Tcc/spark-test/spark')"
   ],
   "outputs": [],
   "metadata": {}
  },
  {
   "cell_type": "markdown",
   "source": [
    "## **Configuração spark session e spark executors**"
   ],
   "metadata": {}
  },
  {
   "cell_type": "code",
   "execution_count": 2,
   "source": [
    "from pyspark import SparkContext, SparkConf\n",
    "from pyspark.sql import SparkSession\n",
    "\n",
    "conf = (\n",
    "    SparkConf()\n",
    "            .setAppName(\"spark\")\n",
    ")\n",
    "\n",
    "spark = SparkSession.builder.config(conf=conf).getOrCreate()\n",
    "sc = spark.sparkContext\n",
    "sc.setLogLevel(\"OFF\")"
   ],
   "outputs": [
    {
     "output_type": "stream",
     "name": "stderr",
     "text": [
      "21/11/13 17:10:36 WARN Utils: Your hostname, user-pc resolves to a loopback address: 127.0.1.1; using 192.168.0.18 instead (on interface wlp3s0)\n",
      "21/11/13 17:10:36 WARN Utils: Set SPARK_LOCAL_IP if you need to bind to another address\n",
      "WARNING: An illegal reflective access operation has occurred\n",
      "WARNING: Illegal reflective access by org.apache.spark.unsafe.Platform (file:/home/user/Desktop/Tcc/spark-test/spark/jars/spark-unsafe_2.12-3.1.1.jar) to constructor java.nio.DirectByteBuffer(long,int)\n",
      "WARNING: Please consider reporting this to the maintainers of org.apache.spark.unsafe.Platform\n",
      "WARNING: Use --illegal-access=warn to enable warnings of further illegal reflective access operations\n",
      "WARNING: All illegal access operations will be denied in a future release\n",
      "21/11/13 17:10:36 WARN NativeCodeLoader: Unable to load native-hadoop library for your platform... using builtin-java classes where applicable\n",
      "Using Spark's default log4j profile: org/apache/spark/log4j-defaults.properties\n",
      "Setting default log level to \"WARN\".\n",
      "To adjust logging level use sc.setLogLevel(newLevel). For SparkR, use setLogLevel(newLevel).\n"
     ]
    }
   ],
   "metadata": {}
  },
  {
   "cell_type": "markdown",
   "source": [
    "## **Configuração do MinIO**"
   ],
   "metadata": {}
  },
  {
   "cell_type": "code",
   "execution_count": 7,
   "source": [
    "sc._jsc.hadoopConfiguration().set(\"fs.s3a.access.key\", \"admin\")\n",
    "sc._jsc.hadoopConfiguration().set(\"fs.s3a.secret.key\", \"e7bc4dc8-3abf-4187-bcc8-5a4bc8dc32e1\")\n",
    "sc._jsc.hadoopConfiguration().set(\"fs.s3a.endpoint\", \"https://api.minio.magaiver.dev\")\n",
    "sc._jsc.hadoopConfiguration().set(\"fs.s3a.impl\", \"org.apache.hadoop.fs.s3a.S3AFileSystem\")\n",
    "sc._jsc.hadoopConfiguration().set(\"fs.s3a.path.style.access\", \"true\")\n",
    "sc._jsc.hadoopConfiguration().set(\"fs.s3a.fast.upload\", \"true\")\n",
    "sc._jsc.hadoopConfiguration().set(\"fs.s3a.connection.maximum\", \"2\")\n",
    "sc._jsc.hadoopConfiguration().set(\"fs.s3a.connection.establish.timeout\", \"5000\")\n",
    "sc._jsc.hadoopConfiguration().set(\"fs.s3a.connection.ssl.enabled\",\"false\")\n",
    "sc._jsc.hadoopConfiguration().set(\"fs.s3a.attempts.maximum\", \"2\")\n",
    "sc._jsc.hadoopConfiguration().set(\"fs.s3a.connection.timeout\", \"1000\")"
   ],
   "outputs": [],
   "metadata": {}
  },
  {
   "cell_type": "markdown",
   "source": [
    "## **Definição dos Buckets onde ficam os dados no MinIO**"
   ],
   "metadata": {}
  },
  {
   "cell_type": "markdown",
   "source": [
    "## **Carregamento dos dados completos de exportação**"
   ],
   "metadata": {}
  },
  {
   "cell_type": "code",
   "execution_count": null,
   "source": [
    "df_exp_full = spark.read.csv(\"s3a://bronze/NCM_SH.csv\", sep=';', inferSchema=True, header=True, encoding=\"ISO-8859-1\")\n",
    "df_exp_full.write.csv(\"s3a://silver/NCM_SH.csv\", sep=';')\n",
    "\n",
    "#df_exp_full.write.\n",
    "#df_exp_full = df_exp_full.withColumn(\"Type\", \"EXP\")"
   ],
   "outputs": [],
   "metadata": {}
  },
  {
   "cell_type": "code",
   "execution_count": null,
   "source": [
    "\n",
    "\n",
    "df_exp_full.coalesce(1).write.csv(\"file:///home/user/Desktop/TCC-dev/project-final/datalake-explorer/bronze/NCM_2.csv\", mode=\"overwrite\")\n",
    "#NCM.repartition(1).write.parquet(\"/home/notebook/data/teste.parquet\", mode=\"overwrite\")\n",
    "#NCM.createOrReplaceTempView(\"ncm\")\n",
    "#NCM.write.csv(\"s3a://bronze/NCM_SH\", mode=\"overwrite\")\n",
    "\n",
    "\n",
    "teste = spark.read.csv(\"file:///home/user/Desktop/TCC-dev/project-final/datalake-explorer/bronze/NCM_2.csv\", sep=';', inferSchema=True, header=True)\n",
    "teste.show()\n"
   ],
   "outputs": [],
   "metadata": {}
  },
  {
   "cell_type": "markdown",
   "source": [
    "## **Carregamento dos dados completos de importação**"
   ],
   "metadata": {}
  },
  {
   "cell_type": "code",
   "execution_count": null,
   "source": [
    "df_imp_full = spark.read.csv(\"s3a://bronze/IMP_COMPLETA.csv\", sep=';', inferSchema=True, header=True)\n",
    "df_imp_full.schema()\n",
    "df_exp_full = df_exp_full.withColumn(\"Type\", \"IMP\")"
   ],
   "outputs": [],
   "metadata": {}
  },
  {
   "cell_type": "code",
   "execution_count": null,
   "source": [
    "NCM = spark.read.csv(\"EXP_TOTAIS_CONFERENCIA_MUN.csv\", sep=';', inferSchema=True, header=True)\n",
    "\n",
    "NCM.head()"
   ],
   "outputs": [],
   "metadata": {}
  }
 ],
 "metadata": {
  "orig_nbformat": 4,
  "language_info": {
   "name": "python",
   "version": "3.9.6",
   "mimetype": "text/x-python",
   "codemirror_mode": {
    "name": "ipython",
    "version": 3
   },
   "pygments_lexer": "ipython3",
   "nbconvert_exporter": "python",
   "file_extension": ".py"
  },
  "kernelspec": {
   "name": "python3",
   "display_name": "Python 3.9.6 64-bit"
  },
  "interpreter": {
   "hash": "f9f85f796d01129d0dd105a088854619f454435301f6ffec2fea96ecbd9be4ac"
  }
 },
 "nbformat": 4,
 "nbformat_minor": 2
}