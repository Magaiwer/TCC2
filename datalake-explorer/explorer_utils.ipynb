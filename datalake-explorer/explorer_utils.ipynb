{
 "cells": [
  {
   "cell_type": "code",
   "execution_count": 1,
   "metadata": {
    "execution": {
     "iopub.execute_input": "2021-11-14T23:55:54.196994Z",
     "iopub.status.busy": "2021-11-14T23:55:54.195671Z",
     "iopub.status.idle": "2021-11-14T23:55:58.144644Z",
     "shell.execute_reply": "2021-11-14T23:55:58.142410Z",
     "shell.execute_reply.started": "2021-11-14T23:55:54.196421Z"
    },
    "tags": []
   },
   "outputs": [],
   "source": [
    "from ipynb.fs.full.conf_spark import *\n",
    "import pandas as pd\n",
    "\n",
    "class ExplorerUtils:\n",
    "    \n",
    "    def drop_columns_matches(self, dataframe=None, patterns=[]):\n",
    "        df = dataframe.toPandas()\n",
    "        for pattern in patterns:\n",
    "            df = df.loc[:,~df.columns.str.contains(pattern)]\n",
    "        return df\n",
    "            "
   ]
  }
 ],
 "metadata": {
  "kernelspec": {
   "display_name": "Python 3 (ipykernel)",
   "language": "python",
   "name": "python3"
  },
  "language_info": {
   "codemirror_mode": {
    "name": "ipython",
    "version": 3
   },
   "file_extension": ".py",
   "mimetype": "text/x-python",
   "name": "python",
   "nbconvert_exporter": "python",
   "pygments_lexer": "ipython3",
   "version": "3.7.3"
  }
 },
 "nbformat": 4,
 "nbformat_minor": 4
}
